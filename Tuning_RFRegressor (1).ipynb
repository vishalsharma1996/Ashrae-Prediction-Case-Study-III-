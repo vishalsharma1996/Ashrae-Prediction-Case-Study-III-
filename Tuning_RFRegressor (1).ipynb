{
  "nbformat": 4,
  "nbformat_minor": 0,
  "metadata": {
    "colab": {
      "name": "Tuning_RFRegressor.ipynb",
      "provenance": [],
      "collapsed_sections": [],
      "machine_shape": "hm"
    },
    "kernelspec": {
      "display_name": "Python 3",
      "name": "python3"
    }
  },
  "cells": [
    {
      "cell_type": "markdown",
      "metadata": {
        "id": "jFj7J5jnO6Vc"
      },
      "source": [
        "**THIS FILE CONTAINS THE NECESSARY CODE FOR MODELLING AND HYPERPARAMETER TUNING FOR RANDOM-FOREST REGRESSOR.**"
      ]
    },
    {
      "cell_type": "markdown",
      "metadata": {
        "id": "azrftzooPDBr"
      },
      "source": [
        "**Taking necessary files from drive**"
      ]
    },
    {
      "cell_type": "code",
      "metadata": {
        "id": "8P9SmEo6IgW2"
      },
      "source": [
        "from google.colab import drive"
      ],
      "execution_count": null,
      "outputs": []
    },
    {
      "cell_type": "code",
      "metadata": {
        "colab": {
          "base_uri": "https://localhost:8080/"
        },
        "id": "hZMvDUKOIjiU",
        "outputId": "35a3d590-b165-4a00-a4a0-c4efea92b774"
      },
      "source": [
        "drive.mount('/content/drive')"
      ],
      "execution_count": null,
      "outputs": [
        {
          "output_type": "stream",
          "text": [
            "Mounted at /content/drive\n"
          ],
          "name": "stdout"
        }
      ]
    },
    {
      "cell_type": "code",
      "metadata": {
        "id": "6KV-vFHfImXz"
      },
      "source": [
        "import pickle\r\n",
        "import pandas as pd\r\n",
        "import matplotlib.pyplot as plt\r\n",
        "import numpy as np\r\n",
        "import seaborn as sns\r\n",
        "from tqdm import tqdm\r\n",
        "import sklearn"
      ],
      "execution_count": null,
      "outputs": []
    },
    {
      "cell_type": "code",
      "metadata": {
        "id": "W4GvsZtkIpxi"
      },
      "source": [
        "from sklearn.preprocessing import LabelEncoder,MinMaxScaler\r\n",
        "from sklearn.model_selection import StratifiedKFold,KFold\r\n",
        "import lightgbm as lgb\r\n",
        "from lightgbm import LGBMRegressor\r\n",
        "from sklearn.model_selection import RandomizedSearchCV,GridSearchCV\r\n",
        "from sklearn.metrics import mean_squared_error\r\n",
        "import xgboost\r\n",
        "from sklearn.preprocessing import MinMaxScaler\r\n",
        "from sklearn.ensemble import RandomForestRegressor\r\n",
        "from sklearn.model_selection import cross_val_score\r\n",
        "from scipy.stats import uniform,randint\r\n",
        "from sklearn.model_selection import train_test_split"
      ],
      "execution_count": null,
      "outputs": []
    },
    {
      "cell_type": "code",
      "metadata": {
        "id": "lv3McVeWIuDU"
      },
      "source": [
        "import warnings\r\n",
        "warnings.filterwarnings('ignore')"
      ],
      "execution_count": null,
      "outputs": []
    },
    {
      "cell_type": "code",
      "metadata": {
        "id": "XpU8anQEI0f-"
      },
      "source": [
        "file=open('/content/drive/MyDrive/Project Energy Consumption/df_tr_red_final_modified.txt','rb')\r\n",
        "df_tr_red_final=pickle.load(file)"
      ],
      "execution_count": null,
      "outputs": []
    },
    {
      "cell_type": "code",
      "metadata": {
        "id": "Lqt8rlPLI7lN"
      },
      "source": [
        "df_tr_red_final.reset_index(inplace=True)"
      ],
      "execution_count": null,
      "outputs": []
    },
    {
      "cell_type": "code",
      "metadata": {
        "id": "jUI1XsFUI-6z"
      },
      "source": [
        "df_tr_red_final.drop(['index','timestamp'],axis=1,inplace=True)"
      ],
      "execution_count": null,
      "outputs": []
    },
    {
      "cell_type": "code",
      "metadata": {
        "id": "gj9AVOrUJCKc"
      },
      "source": [
        "df_tr_red_final.drop('level_0',axis=1,inplace=True)"
      ],
      "execution_count": null,
      "outputs": []
    },
    {
      "cell_type": "markdown",
      "metadata": {
        "id": "FZGe5nT5PMwT"
      },
      "source": [
        "**TARGET TRANSFORMATION**\r\n",
        "\r\n",
        "1.   AS THE METRIC IS RMSLE I AM TAKING THE LOG1P OF THE METER READINGS THEN TAKING THE EVALUATION METRIC TO BE RMSE.\r\n",
        "\r\n"
      ]
    },
    {
      "cell_type": "code",
      "metadata": {
        "id": "oQ5dWx_BJHW3"
      },
      "source": [
        "y_tr=np.log1p(df_tr_red_final['meter_reading'])\r\n",
        "df_tr_red_final.drop('meter_reading',axis=1,inplace=True)"
      ],
      "execution_count": null,
      "outputs": []
    },
    {
      "cell_type": "markdown",
      "metadata": {
        "id": "bml1bkW2Pbd_"
      },
      "source": [
        "**DROPPING THE FEATURES WHICH ARE NOT IMPORTANT**"
      ]
    },
    {
      "cell_type": "code",
      "metadata": {
        "id": "Nl3BrS5eJOGn"
      },
      "source": [
        "df_tr_red_final.drop(['cloud_coverage','sea_level_pressure','wind_direction','wind_speed',\r\n",
        "                      'is_summer_month','is_pub_holiday'],axis=1,inplace=True)"
      ],
      "execution_count": null,
      "outputs": []
    },
    {
      "cell_type": "markdown",
      "metadata": {
        "id": "OaHUvJ1IPlEf"
      },
      "source": [
        "**DIVIDING THE DATA INTO TRAIN AND TEST**"
      ]
    },
    {
      "cell_type": "code",
      "metadata": {
        "id": "69gch4uuJPOS"
      },
      "source": [
        "X_train,X_test,y_train,y_test=train_test_split(df_tr_red_final,y_tr,test_size=0.2,random_state=0)"
      ],
      "execution_count": null,
      "outputs": []
    },
    {
      "cell_type": "markdown",
      "metadata": {
        "id": "RmHyOXVYPvfI"
      },
      "source": [
        "**HYPERPARAMETER TUNING**\r\n",
        "\r\n",
        "1.   HERE I AM DOING THE HYPERPARAMETER TUNING USING RANDOMIZED SEARCH CV WITH THE USE OF GPU.\r\n",
        "\r\n",
        "2.   IT HELPS THE MODEL TO FIND THE BEST PARAMS REQUIRED FOR TRAINING.\r\n",
        "\r\n"
      ]
    },
    {
      "cell_type": "code",
      "metadata": {
        "colab": {
          "base_uri": "https://localhost:8080/"
        },
        "id": "62_QfSrWJWFt",
        "outputId": "dbc20729-38bc-4c49-df83-354a57a59ed3"
      },
      "source": [
        "rf_reg=RandomForestRegressor(n_jobs=-1)\r\n",
        "params={'n_estimators':[20,40,60,80,100],\r\n",
        "        'max_depth':[3,5,7,9]}\r\n",
        "random_clf=RandomizedSearchCV(rf_reg,params,scoring='neg_root_mean_squared_error',n_jobs=-1,cv=3,verbose=15,n_iter=5,random_state=0)\r\n",
        "random_clf.fit(X_train,y_train)"
      ],
      "execution_count": null,
      "outputs": [
        {
          "output_type": "stream",
          "text": [
            "Fitting 3 folds for each of 5 candidates, totalling 15 fits\n"
          ],
          "name": "stdout"
        },
        {
          "output_type": "stream",
          "text": [
            "[Parallel(n_jobs=-1)]: Using backend LokyBackend with 4 concurrent workers.\n",
            "[Parallel(n_jobs=-1)]: Done   1 tasks      | elapsed: 23.9min\n",
            "[Parallel(n_jobs=-1)]: Done   2 tasks      | elapsed: 48.6min\n",
            "[Parallel(n_jobs=-1)]: Done   3 tasks      | elapsed: 73.3min\n",
            "[Parallel(n_jobs=-1)]: Done   4 tasks      | elapsed: 131.0min\n",
            "[Parallel(n_jobs=-1)]: Done   5 tasks      | elapsed: 131.4min\n",
            "[Parallel(n_jobs=-1)]: Done   6 tasks      | elapsed: 133.3min\n",
            "[Parallel(n_jobs=-1)]: Done   7 tasks      | elapsed: 214.8min\n",
            "[Parallel(n_jobs=-1)]: Done   8 tasks      | elapsed: 241.9min\n",
            "[Parallel(n_jobs=-1)]: Done  10 out of  15 | elapsed: 299.7min remaining: 149.8min\n",
            "[Parallel(n_jobs=-1)]: Done  12 out of  15 | elapsed: 319.5min remaining: 79.9min\n",
            "[Parallel(n_jobs=-1)]: Done  15 out of  15 | elapsed: 326.7min finished\n"
          ],
          "name": "stderr"
        },
        {
          "output_type": "execute_result",
          "data": {
            "text/plain": [
              "RandomizedSearchCV(cv=3, error_score=nan,\n",
              "                   estimator=RandomForestRegressor(bootstrap=True,\n",
              "                                                   ccp_alpha=0.0,\n",
              "                                                   criterion='mse',\n",
              "                                                   max_depth=None,\n",
              "                                                   max_features='auto',\n",
              "                                                   max_leaf_nodes=None,\n",
              "                                                   max_samples=None,\n",
              "                                                   min_impurity_decrease=0.0,\n",
              "                                                   min_impurity_split=None,\n",
              "                                                   min_samples_leaf=1,\n",
              "                                                   min_samples_split=2,\n",
              "                                                   min_weight_fraction_leaf=0.0,\n",
              "                                                   n_estimators=100, n_jobs=-1,\n",
              "                                                   oob_score=False,\n",
              "                                                   random_state=None, verbose=0,\n",
              "                                                   warm_start=False),\n",
              "                   iid='deprecated', n_iter=5, n_jobs=-1,\n",
              "                   param_distributions={'max_depth': [3, 5, 7, 9],\n",
              "                                        'n_estimators': [20, 40, 60, 80, 100]},\n",
              "                   pre_dispatch='2*n_jobs', random_state=0, refit=True,\n",
              "                   return_train_score=False,\n",
              "                   scoring='neg_root_mean_squared_error', verbose=15)"
            ]
          },
          "metadata": {
            "tags": []
          },
          "execution_count": 14
        }
      ]
    },
    {
      "cell_type": "markdown",
      "metadata": {
        "id": "6AD2tuF6P-in"
      },
      "source": [
        "**BEST PARAMS**"
      ]
    },
    {
      "cell_type": "code",
      "metadata": {
        "colab": {
          "base_uri": "https://localhost:8080/"
        },
        "id": "h4J6VG4Habzx",
        "outputId": "bdd637d0-116b-49ce-cbb4-a3627b503f64"
      },
      "source": [
        "random_clf.best_params_"
      ],
      "execution_count": null,
      "outputs": [
        {
          "output_type": "execute_result",
          "data": {
            "text/plain": [
              "{'max_depth': 9, 'n_estimators': 100}"
            ]
          },
          "metadata": {
            "tags": []
          },
          "execution_count": 15
        }
      ]
    },
    {
      "cell_type": "markdown",
      "metadata": {
        "id": "O4Hmnhi8QB5M"
      },
      "source": [
        "**BEST SCORE**"
      ]
    },
    {
      "cell_type": "code",
      "metadata": {
        "colab": {
          "base_uri": "https://localhost:8080/"
        },
        "id": "6KsM4XH6BG54",
        "outputId": "c3fd2cac-c15a-4abf-93b7-2e3c6d49ec40"
      },
      "source": [
        "random_clf.best_score_"
      ],
      "execution_count": null,
      "outputs": [
        {
          "output_type": "execute_result",
          "data": {
            "text/plain": [
              "-1.4844006487932297"
            ]
          },
          "metadata": {
            "tags": []
          },
          "execution_count": 16
        }
      ]
    },
    {
      "cell_type": "markdown",
      "metadata": {
        "id": "TF162ND-QFLS"
      },
      "source": [
        "**PREDICTION ON THE TEST SET USING THE BEST PARAMS FOUND FROM HYPERPARAMETER TUNING**"
      ]
    },
    {
      "cell_type": "code",
      "metadata": {
        "id": "E2hExiBlEkdt"
      },
      "source": [
        "test_pred=random_clf.predict(X_test)\r\n",
        "test_score=np.sqrt(mean_squared_error(y_test,test_pred))"
      ],
      "execution_count": null,
      "outputs": []
    },
    {
      "cell_type": "code",
      "metadata": {
        "colab": {
          "base_uri": "https://localhost:8080/"
        },
        "id": "8kLfm-IDE_Fr",
        "outputId": "a2516a08-4196-4bb7-c27d-d07990500735"
      },
      "source": [
        "test_score"
      ],
      "execution_count": null,
      "outputs": [
        {
          "output_type": "execute_result",
          "data": {
            "text/plain": [
              "1.485072964644452"
            ]
          },
          "metadata": {
            "tags": []
          },
          "execution_count": 18
        }
      ]
    },
    {
      "cell_type": "markdown",
      "metadata": {
        "id": "U07Htad_QPmX"
      },
      "source": [
        "**FITTING THE MODEL WITH BEST PARAMS ON THE FINAL TRAINING SET**"
      ]
    },
    {
      "cell_type": "code",
      "metadata": {
        "id": "0CZPeXD-FBy1"
      },
      "source": [
        "rf_reg_acc=RandomForestRegressor(max_depth=9,n_estimators=100,n_jobs=-1)"
      ],
      "execution_count": null,
      "outputs": []
    },
    {
      "cell_type": "code",
      "metadata": {
        "id": "utHgDPgLFRz9"
      },
      "source": [
        "rf_model=rf_reg_acc.fit(df_tr_red_final,y_tr)"
      ],
      "execution_count": null,
      "outputs": []
    },
    {
      "cell_type": "markdown",
      "metadata": {
        "id": "CGWhAxi2QcD8"
      },
      "source": [
        "**STORING THE BEST MODEL IN THE FORM OF PICKLE FILE**"
      ]
    },
    {
      "cell_type": "code",
      "metadata": {
        "id": "rrXVJFJZFdfY"
      },
      "source": [
        "filename='rf_model_modified.txt'\r\n",
        "my_file=open(filename,'wb')"
      ],
      "execution_count": null,
      "outputs": []
    },
    {
      "cell_type": "code",
      "metadata": {
        "id": "jDI5cLL6IvNT"
      },
      "source": [
        "pickle.dump(rf_model,my_file)"
      ],
      "execution_count": null,
      "outputs": []
    }
  ]
}