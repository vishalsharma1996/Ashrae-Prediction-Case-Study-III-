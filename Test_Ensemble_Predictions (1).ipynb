{
  "nbformat": 4,
  "nbformat_minor": 0,
  "metadata": {
    "colab": {
      "name": "Test_Ensemble_Predictions.ipynb",
      "provenance": [],
      "collapsed_sections": [],
      "machine_shape": "hm"
    },
    "kernelspec": {
      "name": "python3",
      "display_name": "Python 3"
    },
    "accelerator": "GPU"
  },
  "cells": [
    {
      "cell_type": "markdown",
      "metadata": {
        "id": "Gkm0YeboSUgq"
      },
      "source": [
        "**This file contains the code for the final predictions from my meta model(LGBM regressor)**"
      ]
    },
    {
      "cell_type": "code",
      "metadata": {
        "id": "BuIj_SLRW3lK"
      },
      "source": [
        "from google.colab import drive"
      ],
      "execution_count": null,
      "outputs": []
    },
    {
      "cell_type": "code",
      "metadata": {
        "colab": {
          "base_uri": "https://localhost:8080/"
        },
        "id": "qCZSWryhW4UZ",
        "outputId": "ce23c85a-18af-4268-c6fe-7f37fbf9c46a"
      },
      "source": [
        "drive.mount('/content/drive')"
      ],
      "execution_count": null,
      "outputs": [
        {
          "output_type": "stream",
          "text": [
            "Mounted at /content/drive\n"
          ],
          "name": "stdout"
        }
      ]
    },
    {
      "cell_type": "code",
      "metadata": {
        "id": "iwscD1ASW4qv"
      },
      "source": [
        "import pickle\r\n",
        "import numpy as np\r\n",
        "import pandas as pd\r\n",
        "from tqdm import tqdm"
      ],
      "execution_count": null,
      "outputs": []
    },
    {
      "cell_type": "code",
      "metadata": {
        "id": "fowmis6OW4-D"
      },
      "source": [
        "file_1=open('/content/drive/MyDrive/Project Energy Consumption/df_te_red_final_modified.txt','rb')\r\n",
        "df_tr_red_final=pickle.load(file_1)"
      ],
      "execution_count": null,
      "outputs": []
    },
    {
      "cell_type": "markdown",
      "metadata": {
        "id": "sN9OUElXSf2m"
      },
      "source": [
        "**Dropping the features which are not important**"
      ]
    },
    {
      "cell_type": "code",
      "metadata": {
        "id": "n1auixwjW5Ri"
      },
      "source": [
        "df_tr_red_final.drop(['cloud_coverage','sea_level_pressure','wind_direction','wind_speed',\r\n",
        "                      'is_summer_month','is_pub_holiday'],axis=1,inplace=True)"
      ],
      "execution_count": null,
      "outputs": []
    },
    {
      "cell_type": "code",
      "metadata": {
        "id": "9tLw35GFW5jM"
      },
      "source": [
        "df_tr_red_final.drop('row_id',axis=1,inplace=True)"
      ],
      "execution_count": null,
      "outputs": []
    },
    {
      "cell_type": "markdown",
      "metadata": {
        "id": "A9PvMHL8SnUk"
      },
      "source": [
        "**Here I will be importing all the 3 base models(LGBM,XGBOOST AND CATBOOST) and my meta model(LGBM).The predictions from my meta model on the test set will work as an input for my final meta model.**"
      ]
    },
    {
      "cell_type": "code",
      "metadata": {
        "id": "aa3KZdLqW511"
      },
      "source": [
        "file_2=open('/content/drive/MyDrive/Project Energy Consumption/meta_model.txt','rb')\r\n",
        "meta_model=pickle.load(file_2)"
      ],
      "execution_count": null,
      "outputs": []
    },
    {
      "cell_type": "code",
      "metadata": {
        "id": "EaL9fet46O2c"
      },
      "source": [
        "file_2=open('/content/drive/MyDrive/Project Energy Consumption/lgb_model_enesemble.txt','rb')\r\n",
        "lgbm_model=pickle.load(file_2)"
      ],
      "execution_count": null,
      "outputs": []
    },
    {
      "cell_type": "code",
      "metadata": {
        "colab": {
          "base_uri": "https://localhost:8080/"
        },
        "id": "B6cMAPFm7uNf",
        "outputId": "bab01c40-ee23-4a59-df84-0c0621e3499f"
      },
      "source": [
        "file_2=open('/content/drive/MyDrive/Project Energy Consumption/xgb_model_ensemble.txt','rb')\r\n",
        "xgb_model=pickle.load(file_2)"
      ],
      "execution_count": null,
      "outputs": [
        {
          "output_type": "stream",
          "text": [
            "[09:54:53] WARNING: /workspace/src/objective/regression_obj.cu:152: reg:linear is now deprecated in favor of reg:squarederror.\n"
          ],
          "name": "stdout"
        }
      ]
    },
    {
      "cell_type": "code",
      "metadata": {
        "colab": {
          "base_uri": "https://localhost:8080/"
        },
        "id": "AakkvTfr8Vi7",
        "outputId": "b86d73a2-a789-473e-fc61-ffbec64b052d"
      },
      "source": [
        "pip install catboost"
      ],
      "execution_count": null,
      "outputs": [
        {
          "output_type": "stream",
          "text": [
            "Collecting catboost\n",
            "\u001b[?25l  Downloading https://files.pythonhosted.org/packages/20/37/bc4e0ddc30c07a96482abf1de7ed1ca54e59bba2026a33bca6d2ef286e5b/catboost-0.24.4-cp36-none-manylinux1_x86_64.whl (65.7MB)\n",
            "\u001b[K     |████████████████████████████████| 65.8MB 48kB/s \n",
            "\u001b[?25hRequirement already satisfied: scipy in /usr/local/lib/python3.6/dist-packages (from catboost) (1.4.1)\n",
            "Requirement already satisfied: six in /usr/local/lib/python3.6/dist-packages (from catboost) (1.15.0)\n",
            "Requirement already satisfied: pandas>=0.24.0 in /usr/local/lib/python3.6/dist-packages (from catboost) (1.1.5)\n",
            "Requirement already satisfied: matplotlib in /usr/local/lib/python3.6/dist-packages (from catboost) (3.2.2)\n",
            "Requirement already satisfied: plotly in /usr/local/lib/python3.6/dist-packages (from catboost) (4.4.1)\n",
            "Requirement already satisfied: graphviz in /usr/local/lib/python3.6/dist-packages (from catboost) (0.10.1)\n",
            "Requirement already satisfied: numpy>=1.16.0 in /usr/local/lib/python3.6/dist-packages (from catboost) (1.19.5)\n",
            "Requirement already satisfied: python-dateutil>=2.7.3 in /usr/local/lib/python3.6/dist-packages (from pandas>=0.24.0->catboost) (2.8.1)\n",
            "Requirement already satisfied: pytz>=2017.2 in /usr/local/lib/python3.6/dist-packages (from pandas>=0.24.0->catboost) (2018.9)\n",
            "Requirement already satisfied: kiwisolver>=1.0.1 in /usr/local/lib/python3.6/dist-packages (from matplotlib->catboost) (1.3.1)\n",
            "Requirement already satisfied: cycler>=0.10 in /usr/local/lib/python3.6/dist-packages (from matplotlib->catboost) (0.10.0)\n",
            "Requirement already satisfied: pyparsing!=2.0.4,!=2.1.2,!=2.1.6,>=2.0.1 in /usr/local/lib/python3.6/dist-packages (from matplotlib->catboost) (2.4.7)\n",
            "Requirement already satisfied: retrying>=1.3.3 in /usr/local/lib/python3.6/dist-packages (from plotly->catboost) (1.3.3)\n",
            "Installing collected packages: catboost\n",
            "Successfully installed catboost-0.24.4\n"
          ],
          "name": "stdout"
        }
      ]
    },
    {
      "cell_type": "code",
      "metadata": {
        "id": "2DuqrWFB75Gz"
      },
      "source": [
        "file_2=open('/content/drive/MyDrive/Project Energy Consumption/catboost_model_ensemble.txt','rb')\r\n",
        "catboost_model=pickle.load(file_2)"
      ],
      "execution_count": null,
      "outputs": []
    },
    {
      "cell_type": "code",
      "metadata": {
        "id": "NOUBvrbHW6MY"
      },
      "source": [
        "test_pred_lgbm=lgbm_model.predict(df_tr_red_final)"
      ],
      "execution_count": null,
      "outputs": []
    },
    {
      "cell_type": "code",
      "metadata": {
        "id": "lT2ibENZ-4dI"
      },
      "source": [
        "df_lgbm=pd.DataFrame(test_pred_lgbm,columns=['lgb_pred'])"
      ],
      "execution_count": null,
      "outputs": []
    },
    {
      "cell_type": "code",
      "metadata": {
        "id": "u7PUAehn-5wU"
      },
      "source": [
        "test_pred_catboost=catboost_model.predict(df_tr_red_final)"
      ],
      "execution_count": null,
      "outputs": []
    },
    {
      "cell_type": "code",
      "metadata": {
        "id": "j6MrE3zv_xja"
      },
      "source": [
        "df_catboost=pd.DataFrame(test_pred_catboost,columns=['cat_pred'])"
      ],
      "execution_count": null,
      "outputs": []
    },
    {
      "cell_type": "code",
      "metadata": {
        "id": "Ck-p0SBSAbq8"
      },
      "source": [
        "test_pred_xgb=xgb_model.predict(df_tr_red_final)"
      ],
      "execution_count": null,
      "outputs": []
    },
    {
      "cell_type": "code",
      "metadata": {
        "id": "uuwxduoxAznD"
      },
      "source": [
        "df_xgb=pd.DataFrame(test_pred_xgb,columns=['xgb_pred'])"
      ],
      "execution_count": null,
      "outputs": []
    },
    {
      "cell_type": "markdown",
      "metadata": {
        "id": "1ytCKR6QS-32"
      },
      "source": [
        "**Concatenating the data from my base model and using it as input to make my final predictions.**"
      ]
    },
    {
      "cell_type": "code",
      "metadata": {
        "id": "0VqBEywTA_LS"
      },
      "source": [
        "df_final=pd.concat([df_lgbm,df_catboost,df_xgb],axis=1)"
      ],
      "execution_count": null,
      "outputs": []
    },
    {
      "cell_type": "code",
      "metadata": {
        "id": "3EBalIWSBUWz"
      },
      "source": [
        "y_test=meta_model.predict(df_final)"
      ],
      "execution_count": null,
      "outputs": []
    },
    {
      "cell_type": "markdown",
      "metadata": {
        "id": "NsH0vIUATQPr"
      },
      "source": [
        "**Converting the predictions back to normal meter readings by taking the exponent as we did the log transformation initially.**"
      ]
    },
    {
      "cell_type": "code",
      "metadata": {
        "id": "dopmld3xBUyD"
      },
      "source": [
        "y_test=np.expm1(y_test)"
      ],
      "execution_count": null,
      "outputs": []
    },
    {
      "cell_type": "code",
      "metadata": {
        "id": "3hYN9uxCC5XV"
      },
      "source": [
        "y_test_round=np.round(y_test,4)"
      ],
      "execution_count": null,
      "outputs": []
    },
    {
      "cell_type": "code",
      "metadata": {
        "id": "-l3l_wj7C5ql"
      },
      "source": [
        "y_test_df=pd.DataFrame(y_test_round)"
      ],
      "execution_count": null,
      "outputs": []
    },
    {
      "cell_type": "code",
      "metadata": {
        "id": "BIfVE_CMC59b"
      },
      "source": [
        "y_test_df.rename(columns={0:'meter_reading'},inplace=True)"
      ],
      "execution_count": null,
      "outputs": []
    },
    {
      "cell_type": "code",
      "metadata": {
        "id": "SJxdTozNC6YL"
      },
      "source": [
        "y_test_df['row_id']=y_test_df.index"
      ],
      "execution_count": null,
      "outputs": []
    },
    {
      "cell_type": "code",
      "metadata": {
        "id": "dfHLQxTbC66L"
      },
      "source": [
        "y_test_df=y_test_df[['row_id','meter_reading']]"
      ],
      "execution_count": null,
      "outputs": []
    },
    {
      "cell_type": "code",
      "metadata": {
        "id": "ZP-65uFyC7PA"
      },
      "source": [
        "y_test_df['row_id']=y_test_df['row_id'].astype(int)"
      ],
      "execution_count": null,
      "outputs": []
    },
    {
      "cell_type": "code",
      "metadata": {
        "colab": {
          "base_uri": "https://localhost:8080/"
        },
        "id": "tpDTUMVsC7kP",
        "outputId": "42418390-58d5-4fbd-ec4c-752414276e72"
      },
      "source": [
        "for i in tqdm(y_test_df[y_test_df['meter_reading']<0].index):\r\n",
        "  y_test_df['meter_reading'][i]=0"
      ],
      "execution_count": null,
      "outputs": [
        {
          "output_type": "stream",
          "text": [
            "  0%|          | 0/73481 [00:00<?, ?it/s]/usr/local/lib/python3.6/dist-packages/ipykernel_launcher.py:2: SettingWithCopyWarning: \n",
            "A value is trying to be set on a copy of a slice from a DataFrame\n",
            "\n",
            "See the caveats in the documentation: https://pandas.pydata.org/pandas-docs/stable/user_guide/indexing.html#returning-a-view-versus-a-copy\n",
            "  \n",
            "100%|██████████| 73481/73481 [00:05<00:00, 13275.70it/s]\n"
          ],
          "name": "stderr"
        }
      ]
    },
    {
      "cell_type": "code",
      "metadata": {
        "id": "Nkds7rUlC8eN"
      },
      "source": [
        "y_test_df.to_csv('final_ensemble.csv',index=False,header=True)"
      ],
      "execution_count": null,
      "outputs": []
    },
    {
      "cell_type": "markdown",
      "metadata": {
        "id": "hdYRlYArTjm2"
      },
      "source": [
        "**Final predicted meter readings**"
      ]
    },
    {
      "cell_type": "code",
      "metadata": {
        "colab": {
          "base_uri": "https://localhost:8080/",
          "height": 359
        },
        "id": "nuaHS0K2ASnU",
        "outputId": "190cfe79-fcf7-4f1d-dafc-7da27155450c"
      },
      "source": [
        "y_test_df.head(10)"
      ],
      "execution_count": null,
      "outputs": [
        {
          "output_type": "execute_result",
          "data": {
            "text/html": [
              "<div>\n",
              "<style scoped>\n",
              "    .dataframe tbody tr th:only-of-type {\n",
              "        vertical-align: middle;\n",
              "    }\n",
              "\n",
              "    .dataframe tbody tr th {\n",
              "        vertical-align: top;\n",
              "    }\n",
              "\n",
              "    .dataframe thead th {\n",
              "        text-align: right;\n",
              "    }\n",
              "</style>\n",
              "<table border=\"1\" class=\"dataframe\">\n",
              "  <thead>\n",
              "    <tr style=\"text-align: right;\">\n",
              "      <th></th>\n",
              "      <th>row_id</th>\n",
              "      <th>meter_reading</th>\n",
              "    </tr>\n",
              "  </thead>\n",
              "  <tbody>\n",
              "    <tr>\n",
              "      <th>0</th>\n",
              "      <td>0</td>\n",
              "      <td>148.5249</td>\n",
              "    </tr>\n",
              "    <tr>\n",
              "      <th>1</th>\n",
              "      <td>1</td>\n",
              "      <td>43.6769</td>\n",
              "    </tr>\n",
              "    <tr>\n",
              "      <th>2</th>\n",
              "      <td>2</td>\n",
              "      <td>15.4947</td>\n",
              "    </tr>\n",
              "    <tr>\n",
              "      <th>3</th>\n",
              "      <td>3</td>\n",
              "      <td>252.0610</td>\n",
              "    </tr>\n",
              "    <tr>\n",
              "      <th>4</th>\n",
              "      <td>4</td>\n",
              "      <td>795.5073</td>\n",
              "    </tr>\n",
              "    <tr>\n",
              "      <th>5</th>\n",
              "      <td>5</td>\n",
              "      <td>73.8136</td>\n",
              "    </tr>\n",
              "    <tr>\n",
              "      <th>6</th>\n",
              "      <td>6</td>\n",
              "      <td>81.4485</td>\n",
              "    </tr>\n",
              "    <tr>\n",
              "      <th>7</th>\n",
              "      <td>7</td>\n",
              "      <td>794.4527</td>\n",
              "    </tr>\n",
              "    <tr>\n",
              "      <th>8</th>\n",
              "      <td>8</td>\n",
              "      <td>481.4482</td>\n",
              "    </tr>\n",
              "    <tr>\n",
              "      <th>9</th>\n",
              "      <td>9</td>\n",
              "      <td>322.5558</td>\n",
              "    </tr>\n",
              "  </tbody>\n",
              "</table>\n",
              "</div>"
            ],
            "text/plain": [
              "   row_id  meter_reading\n",
              "0       0       148.5249\n",
              "1       1        43.6769\n",
              "2       2        15.4947\n",
              "3       3       252.0610\n",
              "4       4       795.5073\n",
              "5       5        73.8136\n",
              "6       6        81.4485\n",
              "7       7       794.4527\n",
              "8       8       481.4482\n",
              "9       9       322.5558"
            ]
          },
          "metadata": {
            "tags": []
          },
          "execution_count": 40
        }
      ]
    },
    {
      "cell_type": "markdown",
      "metadata": {
        "id": "5xgzTSg5Ts87"
      },
      "source": [
        "                                                             **End of Notebook**"
      ]
    }
  ]
}