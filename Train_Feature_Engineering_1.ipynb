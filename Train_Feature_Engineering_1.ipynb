{
  "nbformat": 4,
  "nbformat_minor": 0,
  "metadata": {
    "colab": {
      "name": "Train_Feature_Engineering.ipynb",
      "provenance": [],
      "collapsed_sections": [],
      "machine_shape": "hm"
    },
    "kernelspec": {
      "display_name": "Python 3",
      "name": "python3"
    }
  },
  "cells": [
    {
      "cell_type": "markdown",
      "metadata": {
        "id": "33ojwGdr2CtM"
      },
      "source": [
        "THIS FILE CONTAINS THE FEATURE ENGINEERING AND TIMESTAMP ALIGNMENT OF THE TRAIN DATA"
      ]
    },
    {
      "cell_type": "markdown",
      "metadata": {
        "id": "qFKsiEOmgtKg"
      },
      "source": [
        "                                       Importing the necessary file"
      ]
    },
    {
      "cell_type": "code",
      "metadata": {
        "id": "iIxLs7ZmXr0C"
      },
      "source": [
        "from google.colab import drive"
      ],
      "execution_count": null,
      "outputs": []
    },
    {
      "cell_type": "code",
      "metadata": {
        "colab": {
          "base_uri": "https://localhost:8080/"
        },
        "id": "C51omPwhXs9r",
        "outputId": "3762fcfe-ee58-42c1-cdd6-e1c8c4acbd72"
      },
      "source": [
        "drive.mount('/content/drive')"
      ],
      "execution_count": null,
      "outputs": [
        {
          "output_type": "stream",
          "text": [
            "Drive already mounted at /content/drive; to attempt to forcibly remount, call drive.mount(\"/content/drive\", force_remount=True).\n"
          ],
          "name": "stdout"
        }
      ]
    },
    {
      "cell_type": "code",
      "metadata": {
        "id": "G_zb0LpuxsUz"
      },
      "source": [
        "import pickle\r\n",
        "import pandas as pd\r\n",
        "import matplotlib.pyplot as plt\r\n",
        "import numpy as np\r\n",
        "import seaborn as sns\r\n",
        "from tqdm import tqdm"
      ],
      "execution_count": null,
      "outputs": []
    },
    {
      "cell_type": "code",
      "metadata": {
        "id": "zYorUY7-gsHm"
      },
      "source": [
        "file=open('/content/drive/MyDrive/Project Energy Consumption/df_train_merge_cleaned_imputed.txt','rb')\r\n",
        "df_train_merge_cleaned_imputed=pickle.load(file)"
      ],
      "execution_count": null,
      "outputs": []
    },
    {
      "cell_type": "code",
      "metadata": {
        "id": "4YhWnxab56sM"
      },
      "source": [
        "from sklearn.preprocessing import LabelEncoder,MinMaxScaler\r\n",
        "from sklearn.model_selection import StratifiedKFold,KFold\r\n",
        "import lightgbm as lgb"
      ],
      "execution_count": null,
      "outputs": []
    },
    {
      "cell_type": "code",
      "metadata": {
        "id": "5c8WUQGFYCD5"
      },
      "source": [
        "import warnings\r\n",
        "warnings.filterwarnings('ignore')"
      ],
      "execution_count": null,
      "outputs": []
    },
    {
      "cell_type": "code",
      "metadata": {
        "id": "3st11lFXYFBJ"
      },
      "source": [
        "from scipy.stats import stats\r\n",
        "import datetime as dt"
      ],
      "execution_count": null,
      "outputs": []
    },
    {
      "cell_type": "markdown",
      "metadata": {
        "id": "OOBJD7PmhFek"
      },
      "source": [
        "                                  **Function to reduce the memory usage**"
      ]
    },
    {
      "cell_type": "code",
      "metadata": {
        "id": "3-E0vc-NeRqi"
      },
      "source": [
        "def reduce_mem_usage(df, verbose=True):\r\n",
        "    numerics = ['int16', 'int32', 'int64', 'float16', 'float32', 'float64']\r\n",
        "    start_mem = df.memory_usage().sum() / 1024**2    \r\n",
        "    for col in df.columns:\r\n",
        "        col_type = df[col].dtypes\r\n",
        "        if col_type in numerics:\r\n",
        "            c_min = df[col].min()\r\n",
        "            c_max = df[col].max()\r\n",
        "            if str(col_type)[:3] == 'int':\r\n",
        "                if c_min > np.iinfo(np.int8).min and c_max < np.iinfo(np.int8).max:\r\n",
        "                    df[col] = df[col].astype(np.int8)\r\n",
        "                elif c_min > np.iinfo(np.int16).min and c_max < np.iinfo(np.int16).max:\r\n",
        "                    df[col] = df[col].astype(np.int16)\r\n",
        "                elif c_min > np.iinfo(np.int32).min and c_max < np.iinfo(np.int32).max:\r\n",
        "                    df[col] = df[col].astype(np.int32)\r\n",
        "                elif c_min > np.iinfo(np.int64).min and c_max < np.iinfo(np.int64).max:\r\n",
        "                    df[col] = df[col].astype(np.int64)  \r\n",
        "            else:\r\n",
        "                if c_min > np.finfo(np.float16).min and c_max < np.finfo(np.float16).max:\r\n",
        "                    df[col] = df[col].astype(np.float16)\r\n",
        "                elif c_min > np.finfo(np.float32).min and c_max < np.finfo(np.float32).max:\r\n",
        "                    df[col] = df[col].astype(np.float32)\r\n",
        "                else:\r\n",
        "                    df[col] = df[col].astype(np.float64)    \r\n",
        "    end_mem = df.memory_usage().sum() / 1024**2\r\n",
        "    if verbose: print('Mem. usage decreased to {:5.2f} Mb ({:.1f}% reduction)'.format(end_mem, 100 * (start_mem - end_mem) / start_mem))\r\n",
        "    return df"
      ],
      "execution_count": null,
      "outputs": []
    },
    {
      "cell_type": "markdown",
      "metadata": {
        "id": "2UOMq1HihP5r"
      },
      "source": [
        "**AIR TEMPERATURE ALIGNMENT**\r\n",
        "\r\n",
        "1.   HERE THE AIR TEMPERATURE IS NOT ALIGNED WITH THE LOCAL TIMESTAMP OF THE METER READINGS.\r\n",
        "\r\n",
        "2.   FOR 13 DIFFERENT SITES THE AIR TEMPERATURE MAXIMIZES AROUND 19:00 PM TO 23:00 PM WHICH NEEDS TO BE CORRECTED SO THAT THE MODEL CAN BEST IDENTIFY THE ENERGY PATTERN ACCORDING TO THE TEMPERATURE VARIATIONS OVER THE HOUR.\r\n",
        "\r\n"
      ]
    },
    {
      "cell_type": "code",
      "metadata": {
        "id": "mpyxGydyZUkm"
      },
      "source": [
        "from datetime import timedelta"
      ],
      "execution_count": null,
      "outputs": []
    },
    {
      "cell_type": "code",
      "metadata": {
        "id": "shUYCyM3dF4V"
      },
      "source": [
        "df_train_site_0=df_train_merge_cleaned_imputed[df_train_merge_cleaned_imputed['site_id']==0]\r\n",
        "df_train_site_0.reset_index(inplace=True)\r\n",
        "df_train_site_0['timestamp_aligned']=df_train_site_0['timestamp']-timedelta(hours=5,minutes=0)\r\n",
        "df_air_temp_timestamp=df_train_site_0[['timestamp_aligned','building_id','meter','air_temperature']].copy()\r\n",
        "df_air_temp_timestamp.rename(columns={'timestamp_aligned':'timestamp'},inplace=True)\r\n",
        "df_train_site_0.drop(['air_temperature','timestamp_aligned'],axis=1,inplace=True)\r\n",
        "df_train_site_0['air_temperature_aligned']=df_air_temp_timestamp[df_air_temp_timestamp['timestamp'].isin(df_train_site_0['timestamp'])].reset_index(drop=True)['air_temperature']\r\n",
        "df_train_site_0['air_temperature_aligned']=df_train_site_0['air_temperature_aligned'].interpolate()\r\n",
        "df_train_site_0.rename(columns={'air_temperature_aligned':'air_temperature'},inplace=True)\r\n",
        "df_train_site_0.drop(['level_0','index'],axis=1,inplace=True)"
      ],
      "execution_count": null,
      "outputs": []
    },
    {
      "cell_type": "code",
      "metadata": {
        "id": "lLC8v6BFpI0h"
      },
      "source": [
        "df_train_site_1=df_train_merge_cleaned_imputed[df_train_merge_cleaned_imputed['site_id']==1]\r\n",
        "df_train_site_1.reset_index(inplace=True)\r\n",
        "df_train_site_1.drop(['index','level_0'],axis=1,inplace=True)"
      ],
      "execution_count": null,
      "outputs": []
    },
    {
      "cell_type": "code",
      "metadata": {
        "id": "6yDM_IAyrVhJ"
      },
      "source": [
        "df_train_site_2=df_train_merge_cleaned_imputed[df_train_merge_cleaned_imputed['site_id']==2]\r\n",
        "df_train_site_2.reset_index(inplace=True)\r\n",
        "df_train_site_2['timestamp_aligned']=df_train_site_2['timestamp']-timedelta(hours=7,minutes=0)\r\n",
        "df_air_temp_timestamp=df_train_site_2[['timestamp_aligned','building_id','meter','air_temperature']].copy()\r\n",
        "df_air_temp_timestamp.rename(columns={'timestamp_aligned':'timestamp'},inplace=True)\r\n",
        "df_train_site_2.drop(['air_temperature','timestamp_aligned'],axis=1,inplace=True)\r\n",
        "df_train_site_2['air_temperature_aligned']=df_air_temp_timestamp[df_air_temp_timestamp['timestamp'].isin(df_train_site_2['timestamp'])].reset_index(drop=True)['air_temperature']\r\n",
        "df_train_site_2['air_temperature_aligned']=df_train_site_2['air_temperature_aligned'].interpolate()\r\n",
        "df_train_site_2.rename(columns={'air_temperature_aligned':'air_temperature'},inplace=True)\r\n",
        "df_train_site_2.drop(['level_0','index'],axis=1,inplace=True)"
      ],
      "execution_count": null,
      "outputs": []
    },
    {
      "cell_type": "code",
      "metadata": {
        "id": "vRu1P0b3s8nx"
      },
      "source": [
        "df_train_site_3=df_train_merge_cleaned_imputed[df_train_merge_cleaned_imputed['site_id']==3]\r\n",
        "df_train_site_3.reset_index(inplace=True)\r\n",
        "df_train_site_3['timestamp_aligned']=df_train_site_3['timestamp']-timedelta(hours=5,minutes=0)\r\n",
        "df_air_temp_timestamp=df_train_site_3[['timestamp_aligned','building_id','meter','air_temperature']].copy()\r\n",
        "df_air_temp_timestamp.rename(columns={'timestamp_aligned':'timestamp'},inplace=True)\r\n",
        "df_train_site_3.drop(['air_temperature','timestamp_aligned'],axis=1,inplace=True)\r\n",
        "df_train_site_3['air_temperature_aligned']=df_air_temp_timestamp[df_air_temp_timestamp['timestamp'].isin(df_train_site_3['timestamp'])].reset_index(drop=True)['air_temperature']\r\n",
        "df_train_site_3['air_temperature_aligned']=df_train_site_3['air_temperature_aligned'].interpolate()\r\n",
        "df_train_site_3.rename(columns={'air_temperature_aligned':'air_temperature'},inplace=True)\r\n",
        "df_train_site_3.drop(['level_0','index'],axis=1,inplace=True)"
      ],
      "execution_count": null,
      "outputs": []
    },
    {
      "cell_type": "code",
      "metadata": {
        "id": "66wfjw6xtiIe"
      },
      "source": [
        "df_train_site_4=df_train_merge_cleaned_imputed[df_train_merge_cleaned_imputed['site_id']==4]\r\n",
        "df_train_site_4.reset_index(inplace=True)\r\n",
        "df_train_site_4['timestamp_aligned']=df_train_site_4['timestamp']-timedelta(hours=8,minutes=0)\r\n",
        "df_air_temp_timestamp=df_train_site_4[['timestamp_aligned','building_id','meter','air_temperature']].copy()\r\n",
        "df_air_temp_timestamp.rename(columns={'timestamp_aligned':'timestamp'},inplace=True)\r\n",
        "df_train_site_4.drop(['air_temperature','timestamp_aligned'],axis=1,inplace=True)\r\n",
        "df_train_site_4['air_temperature_aligned']=df_air_temp_timestamp[df_air_temp_timestamp['timestamp'].isin(df_train_site_4['timestamp'])].reset_index(drop=True)['air_temperature']\r\n",
        "df_train_site_4['air_temperature_aligned']=df_train_site_4['air_temperature_aligned'].interpolate()\r\n",
        "df_train_site_4.rename(columns={'air_temperature_aligned':'air_temperature'},inplace=True)\r\n",
        "df_train_site_4.drop(['level_0','index'],axis=1,inplace=True)"
      ],
      "execution_count": null,
      "outputs": []
    },
    {
      "cell_type": "code",
      "metadata": {
        "id": "6D5KqUDut1Fd"
      },
      "source": [
        "df_train_site_5=df_train_merge_cleaned_imputed[df_train_merge_cleaned_imputed['site_id']==5]\r\n",
        "df_train_site_5.reset_index(inplace=True)\r\n",
        "df_train_site_5.drop(['index','level_0'],axis=1,inplace=True)"
      ],
      "execution_count": null,
      "outputs": []
    },
    {
      "cell_type": "code",
      "metadata": {
        "id": "UqYo8QpduOEA"
      },
      "source": [
        "df_train_site_6=df_train_merge_cleaned_imputed[df_train_merge_cleaned_imputed['site_id']==6]\r\n",
        "df_train_site_6.reset_index(inplace=True)\r\n",
        "df_train_site_6['timestamp_aligned']=df_train_site_6['timestamp']-timedelta(hours=5,minutes=0)\r\n",
        "df_air_temp_timestamp=df_train_site_6[['timestamp_aligned','building_id','meter','air_temperature']].copy()\r\n",
        "df_air_temp_timestamp.rename(columns={'timestamp_aligned':'timestamp'},inplace=True)\r\n",
        "df_train_site_6.drop(['air_temperature','timestamp_aligned'],axis=1,inplace=True)\r\n",
        "df_train_site_6['air_temperature_aligned']=df_air_temp_timestamp[df_air_temp_timestamp['timestamp'].isin(df_train_site_6['timestamp'])].reset_index(drop=True)['air_temperature']\r\n",
        "df_train_site_6['air_temperature_aligned']=df_train_site_6['air_temperature_aligned'].interpolate()\r\n",
        "df_train_site_6.rename(columns={'air_temperature_aligned':'air_temperature'},inplace=True)\r\n",
        "df_train_site_6.drop(['level_0','index'],axis=1,inplace=True)"
      ],
      "execution_count": null,
      "outputs": []
    },
    {
      "cell_type": "code",
      "metadata": {
        "id": "r5ORCjKru9Y6"
      },
      "source": [
        "df_train_site_7=df_train_merge_cleaned_imputed[df_train_merge_cleaned_imputed['site_id']==7]\r\n",
        "df_train_site_7.reset_index(inplace=True)\r\n",
        "df_train_site_7['timestamp_aligned']=df_train_site_7['timestamp']-timedelta(hours=5,minutes=0)\r\n",
        "df_air_temp_timestamp=df_train_site_7[['timestamp_aligned','building_id','meter','air_temperature']].copy()\r\n",
        "df_air_temp_timestamp.rename(columns={'timestamp_aligned':'timestamp'},inplace=True)\r\n",
        "df_train_site_7.drop(['air_temperature','timestamp_aligned'],axis=1,inplace=True)\r\n",
        "df_train_site_7['air_temperature_aligned']=df_air_temp_timestamp[df_air_temp_timestamp['timestamp'].isin(df_train_site_7['timestamp'])].reset_index(drop=True)['air_temperature']\r\n",
        "df_train_site_7['air_temperature_aligned']=df_train_site_7['air_temperature_aligned'].interpolate()\r\n",
        "df_train_site_7.rename(columns={'air_temperature_aligned':'air_temperature'},inplace=True)\r\n",
        "df_train_site_7.drop(['level_0','index'],axis=1,inplace=True)"
      ],
      "execution_count": null,
      "outputs": []
    },
    {
      "cell_type": "code",
      "metadata": {
        "id": "-2Tf_ap0vVbN"
      },
      "source": [
        "df_train_site_8=df_train_merge_cleaned_imputed[df_train_merge_cleaned_imputed['site_id']==8]\r\n",
        "df_train_site_8.reset_index(inplace=True)\r\n",
        "df_train_site_8['timestamp_aligned']=df_train_site_8['timestamp']-timedelta(hours=5,minutes=0)\r\n",
        "df_air_temp_timestamp=df_train_site_8[['timestamp_aligned','building_id','meter','air_temperature']].copy()\r\n",
        "df_air_temp_timestamp.rename(columns={'timestamp_aligned':'timestamp'},inplace=True)\r\n",
        "df_train_site_8.drop(['air_temperature','timestamp_aligned'],axis=1,inplace=True)\r\n",
        "df_train_site_8['air_temperature_aligned']=df_air_temp_timestamp[df_air_temp_timestamp['timestamp'].isin(df_train_site_8['timestamp'])].reset_index(drop=True)['air_temperature']\r\n",
        "df_train_site_8['air_temperature_aligned']=df_train_site_8['air_temperature_aligned'].interpolate()\r\n",
        "df_train_site_8.rename(columns={'air_temperature_aligned':'air_temperature'},inplace=True)\r\n",
        "df_train_site_8.drop(['level_0','index'],axis=1,inplace=True)"
      ],
      "execution_count": null,
      "outputs": []
    },
    {
      "cell_type": "code",
      "metadata": {
        "id": "Td-VHWwWvxE9"
      },
      "source": [
        "df_train_site_9=df_train_merge_cleaned_imputed[df_train_merge_cleaned_imputed['site_id']==9]\r\n",
        "df_train_site_9.reset_index(inplace=True)\r\n",
        "df_train_site_9['timestamp_aligned']=df_train_site_9['timestamp']-timedelta(hours=6,minutes=0)\r\n",
        "df_air_temp_timestamp=df_train_site_9[['timestamp_aligned','building_id','meter','air_temperature']].copy()\r\n",
        "df_air_temp_timestamp.rename(columns={'timestamp_aligned':'timestamp'},inplace=True)\r\n",
        "df_train_site_9.drop(['air_temperature','timestamp_aligned'],axis=1,inplace=True)\r\n",
        "df_train_site_9['air_temperature_aligned']=df_air_temp_timestamp[df_air_temp_timestamp['timestamp'].isin(df_train_site_9['timestamp'])].reset_index(drop=True)['air_temperature']\r\n",
        "df_train_site_9['air_temperature_aligned']=df_train_site_9['air_temperature_aligned'].interpolate()\r\n",
        "df_train_site_9.rename(columns={'air_temperature_aligned':'air_temperature'},inplace=True)\r\n",
        "df_train_site_9.drop(['level_0','index'],axis=1,inplace=True)"
      ],
      "execution_count": null,
      "outputs": []
    },
    {
      "cell_type": "code",
      "metadata": {
        "id": "0nkuxlBfwMSA"
      },
      "source": [
        "df_train_site_10=df_train_merge_cleaned_imputed[df_train_merge_cleaned_imputed['site_id']==10]\r\n",
        "df_train_site_10.reset_index(inplace=True)\r\n",
        "df_train_site_10['timestamp_aligned']=df_train_site_10['timestamp']-timedelta(hours=7,minutes=0)\r\n",
        "df_air_temp_timestamp=df_train_site_10[['timestamp_aligned','building_id','meter','air_temperature']].copy()\r\n",
        "df_air_temp_timestamp.rename(columns={'timestamp_aligned':'timestamp'},inplace=True)\r\n",
        "df_train_site_10.drop(['air_temperature','timestamp_aligned'],axis=1,inplace=True)\r\n",
        "df_train_site_10['air_temperature_aligned']=df_air_temp_timestamp[df_air_temp_timestamp['timestamp'].isin(df_train_site_10['timestamp'])].reset_index(drop=True)['air_temperature']\r\n",
        "df_train_site_10['air_temperature_aligned']=df_train_site_10['air_temperature_aligned'].interpolate()\r\n",
        "df_train_site_10.rename(columns={'air_temperature_aligned':'air_temperature'},inplace=True)\r\n",
        "df_train_site_10.drop(['level_0','index'],axis=1,inplace=True)"
      ],
      "execution_count": null,
      "outputs": []
    },
    {
      "cell_type": "code",
      "metadata": {
        "id": "w6FfQK1ww2wl"
      },
      "source": [
        "df_train_site_11=df_train_merge_cleaned_imputed[df_train_merge_cleaned_imputed['site_id']==11]\r\n",
        "df_train_site_11.reset_index(inplace=True)\r\n",
        "df_train_site_11['timestamp_aligned']=df_train_site_11['timestamp']-timedelta(hours=5,minutes=0)\r\n",
        "df_air_temp_timestamp=df_train_site_11[['timestamp_aligned','building_id','meter','air_temperature']].copy()\r\n",
        "df_air_temp_timestamp.rename(columns={'timestamp_aligned':'timestamp'},inplace=True)\r\n",
        "df_train_site_11.drop(['air_temperature','timestamp_aligned'],axis=1,inplace=True)\r\n",
        "df_train_site_11['air_temperature_aligned']=df_air_temp_timestamp[df_air_temp_timestamp['timestamp'].isin(df_train_site_11['timestamp'])].reset_index(drop=True)['air_temperature']\r\n",
        "df_train_site_11['air_temperature_aligned']=df_train_site_11['air_temperature_aligned'].interpolate()\r\n",
        "df_train_site_11.rename(columns={'air_temperature_aligned':'air_temperature'},inplace=True)\r\n",
        "df_train_site_11.drop(['level_0','index'],axis=1,inplace=True)"
      ],
      "execution_count": null,
      "outputs": []
    },
    {
      "cell_type": "code",
      "metadata": {
        "id": "Cj9gdMT0xJGD"
      },
      "source": [
        "df_train_site_12=df_train_merge_cleaned_imputed[df_train_merge_cleaned_imputed['site_id']==12]\r\n",
        "df_train_site_12.reset_index(inplace=True)\r\n",
        "df_train_site_12.drop(['index','level_0'],axis=1,inplace=True)"
      ],
      "execution_count": null,
      "outputs": []
    },
    {
      "cell_type": "code",
      "metadata": {
        "id": "Rlop3M0YxTJr"
      },
      "source": [
        "df_train_site_13=df_train_merge_cleaned_imputed[df_train_merge_cleaned_imputed['site_id']==13]\r\n",
        "df_train_site_13.reset_index(inplace=True)\r\n",
        "df_train_site_13['timestamp_aligned']=df_train_site_13['timestamp']-timedelta(hours=6,minutes=0)\r\n",
        "df_air_temp_timestamp=df_train_site_13[['timestamp_aligned','building_id','meter','air_temperature']].copy()\r\n",
        "df_air_temp_timestamp.rename(columns={'timestamp_aligned':'timestamp'},inplace=True)\r\n",
        "df_train_site_13.drop(['air_temperature','timestamp_aligned'],axis=1,inplace=True)\r\n",
        "df_train_site_13['air_temperature_aligned']=df_air_temp_timestamp[df_air_temp_timestamp['timestamp'].isin(df_train_site_13['timestamp'])].reset_index(drop=True)['air_temperature']\r\n",
        "df_train_site_13['air_temperature_aligned']=df_train_site_13['air_temperature_aligned'].interpolate()\r\n",
        "df_train_site_13.rename(columns={'air_temperature_aligned':'air_temperature'},inplace=True)\r\n",
        "df_train_site_13.drop(['level_0','index'],axis=1,inplace=True)"
      ],
      "execution_count": null,
      "outputs": []
    },
    {
      "cell_type": "code",
      "metadata": {
        "id": "2pHQAuKExmu1"
      },
      "source": [
        "df_train_site_14=df_train_merge_cleaned_imputed[df_train_merge_cleaned_imputed['site_id']==14]\r\n",
        "df_train_site_14.reset_index(inplace=True)\r\n",
        "df_train_site_14['timestamp_aligned']=df_train_site_14['timestamp']-timedelta(hours=5,minutes=0)\r\n",
        "df_air_temp_timestamp=df_train_site_14[['timestamp_aligned','building_id','meter','air_temperature']].copy()\r\n",
        "df_air_temp_timestamp.rename(columns={'timestamp_aligned':'timestamp'},inplace=True)\r\n",
        "df_train_site_14.drop(['air_temperature','timestamp_aligned'],axis=1,inplace=True)\r\n",
        "df_train_site_14['air_temperature_aligned']=df_air_temp_timestamp[df_air_temp_timestamp['timestamp'].isin(df_train_site_14['timestamp'])].reset_index(drop=True)['air_temperature']\r\n",
        "df_train_site_14['air_temperature_aligned']=df_train_site_14['air_temperature_aligned'].interpolate()\r\n",
        "df_train_site_14.rename(columns={'air_temperature_aligned':'air_temperature'},inplace=True)\r\n",
        "df_train_site_14.drop(['level_0','index'],axis=1,inplace=True)"
      ],
      "execution_count": null,
      "outputs": []
    },
    {
      "cell_type": "code",
      "metadata": {
        "id": "XPPohmwUyALW"
      },
      "source": [
        "df_train_site_15=df_train_merge_cleaned_imputed[df_train_merge_cleaned_imputed['site_id']==15]\r\n",
        "df_train_site_15.reset_index(inplace=True)\r\n",
        "df_train_site_15['timestamp_aligned']=df_train_site_15['timestamp']-timedelta(hours=5,minutes=0)\r\n",
        "df_air_temp_timestamp=df_train_site_15[['timestamp_aligned','building_id','meter','air_temperature']].copy()\r\n",
        "df_air_temp_timestamp.rename(columns={'timestamp_aligned':'timestamp'},inplace=True)\r\n",
        "df_train_site_15.drop(['air_temperature','timestamp_aligned'],axis=1,inplace=True)\r\n",
        "df_train_site_15['air_temperature_aligned']=df_air_temp_timestamp[df_air_temp_timestamp['timestamp'].isin(df_train_site_15['timestamp'])].reset_index(drop=True)['air_temperature']\r\n",
        "df_train_site_15['air_temperature_aligned']=df_train_site_15['air_temperature_aligned'].interpolate()\r\n",
        "df_train_site_15.rename(columns={'air_temperature_aligned':'air_temperature'},inplace=True)\r\n",
        "df_train_site_15.drop(['level_0','index'],axis=1,inplace=True)"
      ],
      "execution_count": null,
      "outputs": []
    },
    {
      "cell_type": "markdown",
      "metadata": {
        "id": "GOW1LEGcGZCf"
      },
      "source": [
        "**END OF AIR TEMPERATURE ALIGNMENT**"
      ]
    },
    {
      "cell_type": "markdown",
      "metadata": {
        "id": "Wf8Y7y0RknEM"
      },
      "source": [
        "**Merging all the sites and then sorting it so that the order of timestamp remains does not changes.**"
      ]
    },
    {
      "cell_type": "code",
      "metadata": {
        "id": "KyO2iAQsyWqo"
      },
      "source": [
        "df_train_merged_final=pd.concat([df_train_site_0,df_train_site_1,df_train_site_2,df_train_site_3,df_train_site_4,\r\n",
        "                                 df_train_site_5,df_train_site_6,df_train_site_7,df_train_site_8,df_train_site_9,\r\n",
        "                                 df_train_site_10,df_train_site_11,df_train_site_12,df_train_site_13,df_train_site_14,\r\n",
        "                                 df_train_site_15],axis=0)"
      ],
      "execution_count": null,
      "outputs": []
    },
    {
      "cell_type": "code",
      "metadata": {
        "id": "1cxTDOrTzbSu"
      },
      "source": [
        "df_train_merged_final=df_train_merged_final.sort_values(['timestamp','building_id'])"
      ],
      "execution_count": null,
      "outputs": []
    },
    {
      "cell_type": "markdown",
      "metadata": {
        "id": "Oiaxk2xrlhSJ"
      },
      "source": [
        "                                         **Starting with Feature Engineering**"
      ]
    },
    {
      "cell_type": "markdown",
      "metadata": {
        "id": "zz-oXklIGlV8"
      },
      "source": [
        "**ENGINEERED FEATURES**\r\n",
        "\r\n",
        "1.   RELATIVE HUMIDITY-->HUMIDITY AFFECTS THE ENERGY REQUIREMENTS OF THE BUILDINGS.AS HUMIDITY INCREASES THE LOAD ON THE HVAC SYSTEM INCREASES DUE TO WHICH THE METER READINGS ARE AFFECTED.THIS FEATURE WILL HELP THE MODEL TO LEARN THE ENRGY REQUIREMENTS ACCORDING TO THE HUMIDITY FACTOR.\r\n",
        "\r\n",
        "2.  IS SUMMER MONTH & IS WINTER MONTH--> CHILLED WATER HOT WATER AND STEAM READINGS SHOW CONSIDERABLE PATTERN OVER THE SEASONS.THIS FEATURE WILL HELP THE MODEL TO LEARN THAT.\r\n",
        "\r\n",
        "3.  HOLIDAYS-->AS THE ENERGY REQUIREMENTS MIGHT BE DIFFERENT DURING THE HOLIDAY AS COMPARED TO THE OTHER DAYS INCLUDING THIS FEATURE WILL HELP THE MODEL TO LEARN THAT.\r\n",
        "\r\n",
        "4.   BUSY-HOURS-->AS THE ENERGY REQUIREMENTS ARE DIFFERENT OVER THE DAY THAN THE NIGHT.SO TO HELP THE MODEL LEARN THAT WE CAN USE BUSY HOURS(6:00 AM TO 18:00 PM). \r\n",
        "\r\n",
        "\r\n",
        "5.  IS WEEKDAY-->THIS FEATURE IS ADDED TO CHECK THE ENRGY REQUIREMENTS OF THE WEEKDAY AS COMPARED TO THE WEEKEND.AS OBSERVED IN THE EDA IT SHOWS A SIGNIFICANT TREND OVER THE WEEK AS COMPARED TO THE WEEKEND FOR ALL THE ENERGY METER.\r\n",
        "\r\n",
        "\r\n",
        "6.   ADDING BASIC TIMESTAMP FEATURES SUCH AS DAY MONTH AND HOUR.\r\n",
        "\r\n",
        "\r\n",
        "\r\n",
        "\r\n",
        "\r\n",
        "\r\n"
      ]
    },
    {
      "cell_type": "code",
      "metadata": {
        "id": "R034JQrw0JzL"
      },
      "source": [
        "saturated_vapor_pressure = 6.11 * (10**(7.5*df_train_merged_final['air_temperature']/(237.3+df_train_merged_final['air_temperature'])))\r\n",
        "actual_vapor_pressure = 6.11 * (10**(7.5*df_train_merged_final['dew_temperature']/(237.3+df_train_merged_final['dew_temperature'])))\r\n",
        "df_train_merged_final['relative_humidity']=(actual_vapor_pressure/saturated_vapor_pressure)*100"
      ],
      "execution_count": null,
      "outputs": []
    },
    {
      "cell_type": "code",
      "metadata": {
        "id": "WkjjPdcB1L83"
      },
      "source": [
        "df_train_merged_final['is_winter_month']=(df_train_merged_final['month'].isin([12,1,2])).astype(int)\r\n",
        "df_train_merged_final['is_summer_month']=(df_train_merged_final['month'].isin([6,7,8])).astype(int)\r\n",
        "df_train_merged_final['weekday']=df_train_merged_final['timestamp'].dt.weekday"
      ],
      "execution_count": null,
      "outputs": []
    },
    {
      "cell_type": "code",
      "metadata": {
        "id": "S3-_hyWf1u2_"
      },
      "source": [
        "holidays = [\"2016-01-01\", \"2016-01-18\", \"2016-02-15\", \"2016-05-30\", \"2016-07-04\",\r\n",
        "            \"2016-09-05\", \"2016-10-10\", \"2016-11-11\", \"2016-11-24\", \"2016-12-25\"]"
      ],
      "execution_count": null,
      "outputs": []
    },
    {
      "cell_type": "code",
      "metadata": {
        "id": "BeCg82kX2OHA"
      },
      "source": [
        "holiday_datetime=pd.to_datetime(holidays,yearfirst=True)\r\n",
        "df_train_merged_final['is_pub_holiday']=(df_train_merged_final['timestamp'].dt.date.isin(holiday_datetime.date)).astype(int)\r\n",
        "df_train_merged_final['is_weekday']=((~df_train_merged_final['timestamp'].dt.date.isin(holiday_datetime.date))&(df_train_merged_final['weekday'].isin([0,1,2,3,4]))).astype(int)"
      ],
      "execution_count": null,
      "outputs": []
    },
    {
      "cell_type": "code",
      "metadata": {
        "id": "kmZfifQl2iRu"
      },
      "source": [
        "z_busy_hours=df_train_merged_final.set_index(['timestamp']).between_time('06:00:00','18:00:00').reset_index()\r\n",
        "z_busy_hours_timestamp=[i for i in z_busy_hours['timestamp']]\r\n",
        "df_train_merged_final['busy_hours']=((~df_train_merged_final['timestamp'].dt.date.isin(holiday_datetime.date))&(df_train_merged_final['timestamp'].isin(z_busy_hours_timestamp))).astype(int)"
      ],
      "execution_count": null,
      "outputs": []
    },
    {
      "cell_type": "code",
      "metadata": {
        "id": "v9HiYXJs23pm"
      },
      "source": [
        "df_train_merged_final['hour']=df_train_merged_final['timestamp'].dt.hour"
      ],
      "execution_count": null,
      "outputs": []
    },
    {
      "cell_type": "markdown",
      "metadata": {
        "id": "6bwlAW7WmLN2"
      },
      "source": [
        "                                                **End with Feature Engineering**"
      ]
    },
    {
      "cell_type": "code",
      "metadata": {
        "id": "hRlSHFWG3aQD"
      },
      "source": [
        "df_train_merged_final.reset_index(inplace=True)"
      ],
      "execution_count": null,
      "outputs": []
    },
    {
      "cell_type": "code",
      "metadata": {
        "colab": {
          "base_uri": "https://localhost:8080/"
        },
        "id": "pSXUWypZ6dUf",
        "outputId": "dc6c1fc3-14ed-4126-9d77-2bdc00f112bd"
      },
      "source": [
        "df_train_merged_final_red=reduce_mem_usage(df_train_merged_final,verbose=True)"
      ],
      "execution_count": null,
      "outputs": [
        {
          "output_type": "stream",
          "text": [
            "Mem. usage decreased to 1113.10 Mb (47.3% reduction)\n"
          ],
          "name": "stdout"
        }
      ]
    },
    {
      "cell_type": "code",
      "metadata": {
        "id": "InO00Hik6sDP"
      },
      "source": [
        "del df_train_merge_cleaned_imputed\r\n",
        "del df_train_site_0,df_train_site_1,df_train_site_2,df_train_site_3,df_train_site_4,df_train_site_5,df_train_site_6,df_train_site_7,df_train_site_8,df_train_site_9,df_train_site_10,df_train_site_11,df_train_site_12,df_train_site_13,df_train_site_14,df_train_site_15"
      ],
      "execution_count": null,
      "outputs": []
    },
    {
      "cell_type": "markdown",
      "metadata": {
        "id": "yrk_USW7mdGC"
      },
      "source": [
        "**Doing Label Encoding of the categorical variables**"
      ]
    },
    {
      "cell_type": "code",
      "metadata": {
        "id": "y1Xbxcsm_tnp"
      },
      "source": [
        "label_encoder=LabelEncoder()\r\n",
        "df_train_merged_final_red['primary_use']=label_encoder.fit_transform(df_train_merged_final_red['primary_use'])"
      ],
      "execution_count": null,
      "outputs": []
    },
    {
      "cell_type": "code",
      "metadata": {
        "colab": {
          "base_uri": "https://localhost:8080/"
        },
        "id": "L6VIbp6v4VCF",
        "outputId": "a635fef8-1e3e-401b-cc9a-7ed48155b179"
      },
      "source": [
        "df_tr_red_final=reduce_mem_usage(df_train_merged_final_red,verbose=True)"
      ],
      "execution_count": null,
      "outputs": [
        {
          "output_type": "stream",
          "text": [
            "Mem. usage decreased to 981.04 Mb (11.9% reduction)\n"
          ],
          "name": "stdout"
        }
      ]
    },
    {
      "cell_type": "markdown",
      "metadata": {
        "id": "ZgKd5jYEmzC1"
      },
      "source": [
        "**Storing the final trained file which is cleaned imputed aligned and feature engineered.**"
      ]
    },
    {
      "cell_type": "code",
      "metadata": {
        "id": "EsVGAXoq3k8N"
      },
      "source": [
        "filename='df_tr_red_final_modified.txt'\r\n",
        "my_file=open(filename,'wb')"
      ],
      "execution_count": null,
      "outputs": []
    },
    {
      "cell_type": "code",
      "metadata": {
        "id": "zqbxBxM23oeo"
      },
      "source": [
        "pickle.dump(df_tr_red_final,my_file)\r\n",
        "my_file.close()"
      ],
      "execution_count": null,
      "outputs": []
    },
    {
      "cell_type": "code",
      "metadata": {
        "id": "gzLfpAL9nWXm"
      },
      "source": [
        "#REF-->https://towardsdatascience.com/forecasting-energy-consumption-using-neural-networks-xgboost-2032b6e6f7e2\r\n",
        "    #--->https://www.kaggle.com/frednavruzov/aligning-temperature-timestamp\r\n",
        "    #--->https://www.weather.gov/media/epz/wxcalc/vaporPressure.pdf\r\n",
        "    #--->https://www.kaggle.com/gemartin/load-data-reduce-memory-usage"
      ],
      "execution_count": null,
      "outputs": []
    }
  ]
}