{
  "nbformat": 4,
  "nbformat_minor": 0,
  "metadata": {
    "colab": {
      "name": "Simple_MLP.ipynb",
      "provenance": [],
      "collapsed_sections": [],
      "machine_shape": "hm"
    },
    "kernelspec": {
      "name": "python3",
      "display_name": "Python 3"
    }
  },
  "cells": [
    {
      "cell_type": "markdown",
      "metadata": {
        "id": "a8T-hg70UCF2"
      },
      "source": [
        "**This file contains the code for building deep neural network and prediction on the test set.**"
      ]
    },
    {
      "cell_type": "code",
      "metadata": {
        "id": "P8BnLXKmNwLC"
      },
      "source": [
        "from google.colab import drive"
      ],
      "execution_count": null,
      "outputs": []
    },
    {
      "cell_type": "code",
      "metadata": {
        "colab": {
          "base_uri": "https://localhost:8080/"
        },
        "id": "BhoOtebQNyL9",
        "outputId": "c572a1c0-52f7-46f0-fce7-932ed11966df"
      },
      "source": [
        "drive.mount('/content/drive')"
      ],
      "execution_count": null,
      "outputs": [
        {
          "output_type": "stream",
          "text": [
            "Mounted at /content/drive\n"
          ],
          "name": "stdout"
        }
      ]
    },
    {
      "cell_type": "code",
      "metadata": {
        "id": "mxLm-JeTNyrw"
      },
      "source": [
        "from keras.models import Sequential\r\n",
        "from keras.layers import Conv2D\r\n",
        "from keras.layers import MaxPool2D\r\n",
        "from keras.layers import Dense\r\n",
        "from keras.layers import Flatten\r\n",
        "import tensorflow as tf\r\n",
        "import pandas as pd"
      ],
      "execution_count": null,
      "outputs": []
    },
    {
      "cell_type": "code",
      "metadata": {
        "id": "USyW2uehQ69V"
      },
      "source": [
        "import pickle\r\n",
        "import numpy as np"
      ],
      "execution_count": null,
      "outputs": []
    },
    {
      "cell_type": "code",
      "metadata": {
        "id": "EtfDdGlKQDZu"
      },
      "source": [
        "from sklearn.model_selection import train_test_split\r\n",
        "from sklearn.metrics import mean_squared_error\r\n",
        "from sklearn.model_selection import KFold\r\n",
        "from keras.wrappers.scikit_learn import KerasRegressor\r\n",
        "from sklearn.model_selection import cross_val_score"
      ],
      "execution_count": null,
      "outputs": []
    },
    {
      "cell_type": "code",
      "metadata": {
        "id": "s9pvdk1SNy-6"
      },
      "source": [
        "import warnings\r\n",
        "warnings.filterwarnings('ignore')"
      ],
      "execution_count": null,
      "outputs": []
    },
    {
      "cell_type": "code",
      "metadata": {
        "id": "2ka4ezBVNzd0"
      },
      "source": [
        "file=open('/content/drive/MyDrive/Project Energy Consumption/df_tr_red_final_modified.txt','rb')\r\n",
        "df_tr_red_final=pickle.load(file)"
      ],
      "execution_count": null,
      "outputs": []
    },
    {
      "cell_type": "code",
      "metadata": {
        "id": "xwLl-5q-N0pQ"
      },
      "source": [
        "df_tr_red_final.reset_index(inplace=True)"
      ],
      "execution_count": null,
      "outputs": []
    },
    {
      "cell_type": "code",
      "metadata": {
        "id": "KN9gVTACN088"
      },
      "source": [
        "df_tr_red_final.drop(['index','timestamp'],axis=1,inplace=True)"
      ],
      "execution_count": null,
      "outputs": []
    },
    {
      "cell_type": "code",
      "metadata": {
        "id": "cksgwwU7N1Ot"
      },
      "source": [
        "df_tr_red_final.drop('level_0',axis=1,inplace=True)"
      ],
      "execution_count": null,
      "outputs": []
    },
    {
      "cell_type": "markdown",
      "metadata": {
        "id": "3bt4fhnVUcJk"
      },
      "source": [
        "**Target Transformation**\r\n",
        "\r\n",
        "1.   Here I am taking log1p of the meter readings and then I will evaluate my base models on RMSE which by default becomes the RMSLE(The evaluation metric on which we have to evaluate on).\r\n",
        "\r\n"
      ]
    },
    {
      "cell_type": "code",
      "metadata": {
        "id": "WuExXGXKN1l3"
      },
      "source": [
        "y_tr=np.log1p(df_tr_red_final['meter_reading'])\r\n",
        "df_tr_red_final.drop('meter_reading',axis=1,inplace=True)"
      ],
      "execution_count": null,
      "outputs": []
    },
    {
      "cell_type": "markdown",
      "metadata": {
        "id": "El1qHo0SUkbW"
      },
      "source": [
        "**Dropping the features which are not important**"
      ]
    },
    {
      "cell_type": "code",
      "metadata": {
        "id": "J6gxYBt4N164"
      },
      "source": [
        "df_tr_red_final.drop(['cloud_coverage','sea_level_pressure','wind_direction','wind_speed',\r\n",
        "                      'is_summer_month','is_pub_holiday'],axis=1,inplace=True)"
      ],
      "execution_count": null,
      "outputs": []
    },
    {
      "cell_type": "markdown",
      "metadata": {
        "id": "8exzmwFMUqYt"
      },
      "source": [
        "**Dividing the data into train and test**"
      ]
    },
    {
      "cell_type": "code",
      "metadata": {
        "id": "dvaBTd1aN2VS"
      },
      "source": [
        "X_train,X_test,y_train,y_test=train_test_split(df_tr_red_final,y_tr,test_size=0.2,random_state=1)"
      ],
      "execution_count": null,
      "outputs": []
    },
    {
      "cell_type": "markdown",
      "metadata": {
        "id": "KOGRPsWDUy0t"
      },
      "source": [
        "**I will be building multiple models with diferent layers to see which one performs the best.**"
      ]
    },
    {
      "cell_type": "markdown",
      "metadata": {
        "id": "N3QK42yAVCYZ"
      },
      "source": [
        "**for my first model I will be using the Keras regressor and will beusing cross_val_score for my validation process.**"
      ]
    },
    {
      "cell_type": "markdown",
      "metadata": {
        "id": "ee4fY0jgWRcz"
      },
      "source": [
        "**Making a custom loss function to evaluate my model**"
      ]
    },
    {
      "cell_type": "code",
      "metadata": {
        "id": "4WAEtP29NliL"
      },
      "source": [
        "from keras import backend as K"
      ],
      "execution_count": null,
      "outputs": []
    },
    {
      "cell_type": "code",
      "metadata": {
        "id": "sf8bxvUMNl0u"
      },
      "source": [
        "def rmse(y_true,y_pred):\r\n",
        "  return K.sqrt(K.mean(K.square(y_true-y_pred)))"
      ],
      "execution_count": null,
      "outputs": []
    },
    {
      "cell_type": "markdown",
      "metadata": {
        "id": "Ypuy-WDpVOw8"
      },
      "source": [
        "**Building my 1st neural network**"
      ]
    },
    {
      "cell_type": "code",
      "metadata": {
        "id": "LqdurbmcP1XL"
      },
      "source": [
        "def nn_model():\r\n",
        " model=Sequential()\r\n",
        " model.add(Dense(128,activation='relu',input_shape=(X_train.shape[1],)))\r\n",
        " model.add(Dense(128,activation='relu'))\r\n",
        " model.add(Dense(128,activation='relu'))\r\n",
        " model.add(Dense(128,activation='relu'))\r\n",
        " model.add(Dense(1))\r\n",
        " model.compile(optimizer=tf.keras.optimizers.Adam(learning_rate=0.1),loss=rmse)\r\n",
        "\r\n",
        " \r\n",
        "\r\n",
        " return model"
      ],
      "execution_count": null,
      "outputs": []
    },
    {
      "cell_type": "code",
      "metadata": {
        "id": "JryQJvu7eJCC"
      },
      "source": [
        "model_reg=KerasRegressor(build_fn=nn_model,epochs=5)\r\n",
        "kf=KFold(n_splits=3,random_state=42)"
      ],
      "execution_count": null,
      "outputs": []
    },
    {
      "cell_type": "code",
      "metadata": {
        "colab": {
          "base_uri": "https://localhost:8080/"
        },
        "id": "ijcfFEuVP0bb",
        "outputId": "8a397583-2aac-47d1-d7c4-59e9a2fca220"
      },
      "source": [
        "cross_val_score(model_reg,X_train,y_train,cv=kf,verbose=15,n_jobs=-1)"
      ],
      "execution_count": null,
      "outputs": [
        {
          "output_type": "stream",
          "text": [
            "[Parallel(n_jobs=-1)]: Using backend LokyBackend with 4 concurrent workers.\n",
            "[Parallel(n_jobs=-1)]: Done   1 tasks      | elapsed: 90.7min\n",
            "[Parallel(n_jobs=-1)]: Done   3 out of   3 | elapsed: 91.0min remaining:    0.0s\n",
            "[Parallel(n_jobs=-1)]: Done   3 out of   3 | elapsed: 91.0min finished\n"
          ],
          "name": "stderr"
        }
      ]
    },
    {
      "cell_type": "code",
      "metadata": {
        "id": "a4u-c1ckRZRJ",
        "colab": {
          "base_uri": "https://localhost:8080/"
        },
        "outputId": "a67c8746-ccbf-487e-f57d-64a07b732649"
      },
      "source": [
        "model_reg.fit(X_train,y_train)"
      ],
      "execution_count": null,
      "outputs": [
        {
          "output_type": "stream",
          "text": [
            "Epoch 1/5\n",
            "494566/494566 [==============================] - 1027s 2ms/step - loss: 258.4074\n",
            "Epoch 2/5\n",
            "494566/494566 [==============================] - 868s 2ms/step - loss: 2.0680\n",
            "Epoch 3/5\n",
            "494566/494566 [==============================] - 827s 2ms/step - loss: 2.0679\n",
            "Epoch 4/5\n",
            "494566/494566 [==============================] - 834s 2ms/step - loss: 2.0677\n",
            "Epoch 5/5\n",
            "494566/494566 [==============================] - 842s 2ms/step - loss: 2.0675\n"
          ],
          "name": "stdout"
        },
        {
          "output_type": "execute_result",
          "data": {
            "text/plain": [
              "<tensorflow.python.keras.callbacks.History at 0x7f4dc976f588>"
            ]
          },
          "metadata": {
            "tags": []
          },
          "execution_count": 18
        }
      ]
    },
    {
      "cell_type": "code",
      "metadata": {
        "id": "d1Vxc0M9rdCu"
      },
      "source": [
        "test_pred=model_reg.predict(X_test)"
      ],
      "execution_count": null,
      "outputs": []
    },
    {
      "cell_type": "markdown",
      "metadata": {
        "id": "N4tQIu05VZO1"
      },
      "source": [
        "**Test Score from my first model**"
      ]
    },
    {
      "cell_type": "code",
      "metadata": {
        "id": "B1qP5DcHY7-X",
        "colab": {
          "base_uri": "https://localhost:8080/"
        },
        "outputId": "cb214243-6651-4aeb-b77a-40bfaa6d4ba1"
      },
      "source": [
        "np.sqrt(mean_squared_error(y_test,test_pred))"
      ],
      "execution_count": null,
      "outputs": [
        {
          "output_type": "execute_result",
          "data": {
            "text/plain": [
              "2.0856028"
            ]
          },
          "metadata": {
            "tags": []
          },
          "execution_count": 20
        }
      ]
    },
    {
      "cell_type": "markdown",
      "metadata": {
        "id": "lPf0UV7xVeUB"
      },
      "source": [
        "**Building my 2nd neural network**"
      ]
    },
    {
      "cell_type": "code",
      "metadata": {
        "id": "p9Ie_VTtY9KM"
      },
      "source": [
        "model_1=Sequential()\r\n",
        "model_1.add(Dense(128,activation='relu',input_shape=(X_train.shape[1],)))\r\n",
        "model_1.add(Dense(64,activation='relu'))\r\n",
        "model_1.add(Dense(32,activation='relu'))\r\n",
        "model_1.add(Dense(16,activation='relu'))\r\n",
        "model_1.add(Dense(1))\r\n",
        "model_1.compile(optimizer=tf.keras.optimizers.Adam(learning_rate=0.1),loss=rmse)"
      ],
      "execution_count": null,
      "outputs": []
    },
    {
      "cell_type": "code",
      "metadata": {
        "colab": {
          "base_uri": "https://localhost:8080/"
        },
        "id": "J4MWmPq8tMoM",
        "outputId": "dad5023e-6c7e-43b3-b13b-16e1c8c38051"
      },
      "source": [
        "model_1.fit(X_train,y_train,epochs=10,validation_data=(X_test,y_test),batch_size=int(X_train.shape[0]/10))"
      ],
      "execution_count": null,
      "outputs": [
        {
          "output_type": "stream",
          "text": [
            "Epoch 1/10\n",
            "11/11 [==============================] - 22s 2s/step - loss: 2.0876 - val_loss: 2.0794\n",
            "Epoch 2/10\n",
            "11/11 [==============================] - 21s 2s/step - loss: 2.0849 - val_loss: 2.0836\n",
            "Epoch 3/10\n",
            "11/11 [==============================] - 21s 2s/step - loss: 2.0814 - val_loss: 2.0822\n",
            "Epoch 4/10\n",
            "11/11 [==============================] - 21s 2s/step - loss: 2.0809 - val_loss: 2.0848\n",
            "Epoch 5/10\n",
            "11/11 [==============================] - 21s 2s/step - loss: 2.0853 - val_loss: 2.0800\n",
            "Epoch 6/10\n",
            "11/11 [==============================] - 21s 2s/step - loss: 2.0821 - val_loss: 2.0866\n",
            "Epoch 7/10\n",
            "11/11 [==============================] - 21s 2s/step - loss: 2.0851 - val_loss: 2.0798\n",
            "Epoch 8/10\n",
            "11/11 [==============================] - 21s 2s/step - loss: 2.0805 - val_loss: 2.0821\n",
            "Epoch 9/10\n",
            "11/11 [==============================] - 21s 2s/step - loss: 2.0805 - val_loss: 2.0798\n",
            "Epoch 10/10\n",
            "11/11 [==============================] - 21s 2s/step - loss: 2.0857 - val_loss: 2.0832\n"
          ],
          "name": "stdout"
        },
        {
          "output_type": "execute_result",
          "data": {
            "text/plain": [
              "<tensorflow.python.keras.callbacks.History at 0x7f4dbca85198>"
            ]
          },
          "metadata": {
            "tags": []
          },
          "execution_count": 23
        }
      ]
    },
    {
      "cell_type": "code",
      "metadata": {
        "id": "mMwUQCAqtM5s"
      },
      "source": [
        "test_pred_1=model_1.predict(X_test)"
      ],
      "execution_count": null,
      "outputs": []
    },
    {
      "cell_type": "markdown",
      "metadata": {
        "id": "RkDFbdc_Vq_L"
      },
      "source": [
        "**Test Score for my 2nd model**"
      ]
    },
    {
      "cell_type": "code",
      "metadata": {
        "colab": {
          "base_uri": "https://localhost:8080/"
        },
        "id": "TbKJ_ubItO4v",
        "outputId": "cff04555-07c2-48f5-d3d2-5040efa931e4"
      },
      "source": [
        "np.sqrt(mean_squared_error(y_test,test_pred_1))"
      ],
      "execution_count": null,
      "outputs": [
        {
          "output_type": "execute_result",
          "data": {
            "text/plain": [
              "2.083157"
            ]
          },
          "metadata": {
            "tags": []
          },
          "execution_count": 25
        }
      ]
    },
    {
      "cell_type": "markdown",
      "metadata": {
        "id": "cdNEInwkVyX5"
      },
      "source": [
        "**building my 3rd neural network**"
      ]
    },
    {
      "cell_type": "code",
      "metadata": {
        "id": "12Ldm7-XtPqe"
      },
      "source": [
        "model_2=Sequential()\r\n",
        "model_2.add(Dense(256,activation='relu',input_shape=(X_train.shape[1],)))\r\n",
        "model_2.add(Dense(128,activation='relu'))\r\n",
        "model_2.add(Dense(128,activation='relu'))\r\n",
        "model_2.add(Dense(64,activation='relu'))\r\n",
        "model_2.add(Dense(1))\r\n",
        "model_2.compile(optimizer=tf.keras.optimizers.Adam(learning_rate=0.1),loss=rmse)"
      ],
      "execution_count": null,
      "outputs": []
    },
    {
      "cell_type": "code",
      "metadata": {
        "colab": {
          "base_uri": "https://localhost:8080/"
        },
        "id": "mxW2AXk41Pl6",
        "outputId": "f5b23266-28f7-4759-c4f1-90a281d2e24e"
      },
      "source": [
        "model_2.fit(X_train,y_train,epochs=10,validation_data=(X_test,y_test),batch_size=int(X_train.shape[0]/10))"
      ],
      "execution_count": null,
      "outputs": [
        {
          "output_type": "stream",
          "text": [
            "Epoch 1/10\n",
            "11/11 [==============================] - 74s 7s/step - loss: 2591554.8835 - val_loss: 1244.5565\n",
            "Epoch 2/10\n",
            "11/11 [==============================] - 70s 6s/step - loss: 21113.8582 - val_loss: 5421.0215\n",
            "Epoch 3/10\n",
            "11/11 [==============================] - 69s 6s/step - loss: 2690.0631 - val_loss: 5.0656\n",
            "Epoch 4/10\n",
            "11/11 [==============================] - 70s 6s/step - loss: 4.8052 - val_loss: 4.1187\n",
            "Epoch 5/10\n",
            "11/11 [==============================] - 70s 6s/step - loss: 3.8954 - val_loss: 3.1980\n",
            "Epoch 6/10\n",
            "11/11 [==============================] - 70s 6s/step - loss: 2.9992 - val_loss: 2.4542\n",
            "Epoch 7/10\n",
            "11/11 [==============================] - 70s 6s/step - loss: 2.3419 - val_loss: 2.1132\n",
            "Epoch 8/10\n",
            "11/11 [==============================] - 70s 6s/step - loss: 2.0956 - val_loss: 2.0827\n",
            "Epoch 9/10\n",
            "11/11 [==============================] - 69s 6s/step - loss: 2.0834 - val_loss: 2.0856\n",
            "Epoch 10/10\n",
            "11/11 [==============================] - 69s 6s/step - loss: 2.0871 - val_loss: 2.0875\n"
          ],
          "name": "stdout"
        },
        {
          "output_type": "execute_result",
          "data": {
            "text/plain": [
              "<tensorflow.python.keras.callbacks.History at 0x7f4dbcadca20>"
            ]
          },
          "metadata": {
            "tags": []
          },
          "execution_count": 27
        }
      ]
    },
    {
      "cell_type": "code",
      "metadata": {
        "id": "Xx4JUJ741Rlp"
      },
      "source": [
        "test_pred_2=model_2.predict(X_test)"
      ],
      "execution_count": null,
      "outputs": []
    },
    {
      "cell_type": "markdown",
      "metadata": {
        "id": "1XWh7OpSV7nb"
      },
      "source": [
        "**Test Score on my 3rd base model**"
      ]
    },
    {
      "cell_type": "code",
      "metadata": {
        "colab": {
          "base_uri": "https://localhost:8080/"
        },
        "id": "6retHrpd33ys",
        "outputId": "c211fad1-2a7d-4e5e-9d44-7a5c0eb9d1be"
      },
      "source": [
        "np.sqrt(mean_squared_error(y_test,test_pred_2))"
      ],
      "execution_count": null,
      "outputs": [
        {
          "output_type": "execute_result",
          "data": {
            "text/plain": [
              "2.0875163"
            ]
          },
          "metadata": {
            "tags": []
          },
          "execution_count": 29
        }
      ]
    },
    {
      "cell_type": "markdown",
      "metadata": {
        "id": "SOud_kZMWDOa"
      },
      "source": [
        "**Building my 4th neural network model**"
      ]
    },
    {
      "cell_type": "code",
      "metadata": {
        "id": "n6ddqN_54TpN"
      },
      "source": [
        "model_3=Sequential()\r\n",
        "model_3.add(Dense(256,activation='relu',input_shape=(X_train.shape[1],)))\r\n",
        "model_3.add(Dense(128,activation='relu'))\r\n",
        "model_3.add(Dense(64,activation='relu'))\r\n",
        "model_3.add(Dense(32,activation='relu'))\r\n",
        "model_3.add(Dense(1))\r\n",
        "model_3.compile(optimizer=tf.keras.optimizers.Adam(learning_rate=0.1),loss=rmse)"
      ],
      "execution_count": null,
      "outputs": []
    },
    {
      "cell_type": "code",
      "metadata": {
        "colab": {
          "base_uri": "https://localhost:8080/"
        },
        "id": "mnUxY6ap4gjJ",
        "outputId": "255f18e3-11ee-4778-b1a3-aeb4c24f80fc"
      },
      "source": [
        "model_3.fit(X_train,y_train,epochs=10,validation_data=(X_test,y_test),batch_size=int(X_train.shape[0]/10))"
      ],
      "execution_count": null,
      "outputs": [
        {
          "output_type": "stream",
          "text": [
            "Epoch 1/10\n",
            "11/11 [==============================] - 57s 5s/step - loss: 1200632.2554 - val_loss: 3.3051\n",
            "Epoch 2/10\n",
            "11/11 [==============================] - 55s 5s/step - loss: 2.6724 - val_loss: 2.3621\n",
            "Epoch 3/10\n",
            "11/11 [==============================] - 55s 5s/step - loss: 2.3916 - val_loss: 2.1868\n",
            "Epoch 4/10\n",
            "11/11 [==============================] - 55s 5s/step - loss: 2.1294 - val_loss: 2.0849\n",
            "Epoch 5/10\n",
            "11/11 [==============================] - 55s 5s/step - loss: 2.0988 - val_loss: 2.0801\n",
            "Epoch 6/10\n",
            "11/11 [==============================] - 55s 5s/step - loss: 2.0969 - val_loss: 2.1468\n",
            "Epoch 7/10\n",
            "11/11 [==============================] - 55s 5s/step - loss: 2.1280 - val_loss: 2.0903\n",
            "Epoch 8/10\n",
            "11/11 [==============================] - 55s 5s/step - loss: 2.1155 - val_loss: 2.1396\n",
            "Epoch 9/10\n",
            "11/11 [==============================] - 55s 5s/step - loss: 2.1278 - val_loss: 2.0815\n",
            "Epoch 10/10\n",
            "11/11 [==============================] - 55s 5s/step - loss: 2.0806 - val_loss: 2.0793\n"
          ],
          "name": "stdout"
        },
        {
          "output_type": "execute_result",
          "data": {
            "text/plain": [
              "<tensorflow.python.keras.callbacks.History at 0x7f4dbb7b75f8>"
            ]
          },
          "metadata": {
            "tags": []
          },
          "execution_count": 31
        }
      ]
    },
    {
      "cell_type": "code",
      "metadata": {
        "id": "gRha9HDC4kmL"
      },
      "source": [
        "test_pred_3=model_3.predict(X_test)"
      ],
      "execution_count": null,
      "outputs": []
    },
    {
      "cell_type": "markdown",
      "metadata": {
        "id": "sR93ZjqtWIjq"
      },
      "source": [
        "**Test Score on my 4th model**"
      ]
    },
    {
      "cell_type": "code",
      "metadata": {
        "colab": {
          "base_uri": "https://localhost:8080/"
        },
        "id": "KI-9J6pz6wrj",
        "outputId": "77f12563-24b1-40f0-8302-bb08f4bba414"
      },
      "source": [
        "np.sqrt(mean_squared_error(y_test,test_pred_3))"
      ],
      "execution_count": null,
      "outputs": [
        {
          "output_type": "execute_result",
          "data": {
            "text/plain": [
              "2.0793393"
            ]
          },
          "metadata": {
            "tags": []
          },
          "execution_count": 33
        }
      ]
    },
    {
      "cell_type": "markdown",
      "metadata": {
        "id": "R8t2Sw8VWb2Y"
      },
      "source": [
        "**Predictions on my test dataset**"
      ]
    },
    {
      "cell_type": "code",
      "metadata": {
        "id": "iD425obf8OYc"
      },
      "source": [
        "file_1=open('/content/drive/MyDrive/Project Energy Consumption/df_te_red_final_modified.txt','rb')\r\n",
        "df_te_red_final=pickle.load(file_1)"
      ],
      "execution_count": null,
      "outputs": []
    },
    {
      "cell_type": "markdown",
      "metadata": {
        "id": "wnwm-67pWgaj"
      },
      "source": [
        "**Dropping the features which are not important**"
      ]
    },
    {
      "cell_type": "code",
      "metadata": {
        "id": "cKnomwfTABOH"
      },
      "source": [
        "df_te_red_final.drop(['cloud_coverage','sea_level_pressure','wind_direction','wind_speed',\r\n",
        "                      'is_summer_month','is_pub_holiday'],axis=1,inplace=True)"
      ],
      "execution_count": null,
      "outputs": []
    },
    {
      "cell_type": "code",
      "metadata": {
        "id": "xdi7ZTmbAF4j"
      },
      "source": [
        "df_te_red_final.drop('row_id',axis=1,inplace=True)"
      ],
      "execution_count": null,
      "outputs": []
    },
    {
      "cell_type": "markdown",
      "metadata": {
        "id": "AtdCw0FnW5j-"
      },
      "source": [
        "**The 4th neural network model is used as it performs best on the test set obtained from 80-20 split.**"
      ]
    },
    {
      "cell_type": "code",
      "metadata": {
        "id": "pJnMPmdyAJRf"
      },
      "source": [
        "y_test=model_3.predict(df_te_red_final)"
      ],
      "execution_count": null,
      "outputs": []
    },
    {
      "cell_type": "markdown",
      "metadata": {
        "id": "5nPMdhBAWmuS"
      },
      "source": [
        "**Converting th epredicted readings back to normal as we did the log transformation of the target variable.**"
      ]
    },
    {
      "cell_type": "code",
      "metadata": {
        "id": "fY07dminAP0s"
      },
      "source": [
        "y_test=np.expm1(y_test)"
      ],
      "execution_count": null,
      "outputs": []
    },
    {
      "cell_type": "code",
      "metadata": {
        "id": "wyTi4RY3AuLT"
      },
      "source": [
        "y_test_round=np.round(y_test,4)"
      ],
      "execution_count": null,
      "outputs": []
    },
    {
      "cell_type": "code",
      "metadata": {
        "id": "acWCCkV0AusY"
      },
      "source": [
        "y_test_df=pd.DataFrame(y_test_round)"
      ],
      "execution_count": null,
      "outputs": []
    },
    {
      "cell_type": "code",
      "metadata": {
        "id": "jVwsDdhlAvEy"
      },
      "source": [
        "y_test_df.rename(columns={0:'meter_reading'},inplace=True)"
      ],
      "execution_count": null,
      "outputs": []
    },
    {
      "cell_type": "code",
      "metadata": {
        "id": "100mzml0COmy"
      },
      "source": [
        "y_test_df['row_id']=y_test_df.index"
      ],
      "execution_count": null,
      "outputs": []
    },
    {
      "cell_type": "code",
      "metadata": {
        "id": "Vgpb4gkECRsP"
      },
      "source": [
        "y_test_df=y_test_df[['row_id','meter_reading']]"
      ],
      "execution_count": null,
      "outputs": []
    },
    {
      "cell_type": "code",
      "metadata": {
        "id": "zKnKKXKiCUuU"
      },
      "source": [
        "y_test_df['row_id']=y_test_df['row_id'].astype(int)"
      ],
      "execution_count": null,
      "outputs": []
    },
    {
      "cell_type": "code",
      "metadata": {
        "id": "h4YZ4jVyCXuu"
      },
      "source": [
        "for i in (y_test_df[y_test_df['meter_reading']<0].index):\r\n",
        "  y_test_df['meter_reading'][i]=0"
      ],
      "execution_count": null,
      "outputs": []
    },
    {
      "cell_type": "code",
      "metadata": {
        "id": "kg_AW21OGeAm"
      },
      "source": [
        "y_test_df.to_csv('mlp_model.csv',index=False,header=True)"
      ],
      "execution_count": null,
      "outputs": []
    },
    {
      "cell_type": "code",
      "metadata": {
        "colab": {
          "base_uri": "https://localhost:8080/",
          "height": 34
        },
        "id": "4zxwRA6CHEUK",
        "outputId": "fd6d9bfa-264c-4443-a7e5-896cfb6f398b"
      },
      "source": [
        "from google.colab import files\r\n",
        "files=files.download('/content/mlp_model.csv')"
      ],
      "execution_count": null,
      "outputs": [
        {
          "output_type": "display_data",
          "data": {
            "application/javascript": [
              "\n",
              "    async function download(id, filename, size) {\n",
              "      if (!google.colab.kernel.accessAllowed) {\n",
              "        return;\n",
              "      }\n",
              "      const div = document.createElement('div');\n",
              "      const label = document.createElement('label');\n",
              "      label.textContent = `Downloading \"${filename}\": `;\n",
              "      div.appendChild(label);\n",
              "      const progress = document.createElement('progress');\n",
              "      progress.max = size;\n",
              "      div.appendChild(progress);\n",
              "      document.body.appendChild(div);\n",
              "\n",
              "      const buffers = [];\n",
              "      let downloaded = 0;\n",
              "\n",
              "      const channel = await google.colab.kernel.comms.open(id);\n",
              "      // Send a message to notify the kernel that we're ready.\n",
              "      channel.send({})\n",
              "\n",
              "      for await (const message of channel.messages) {\n",
              "        // Send a message to notify the kernel that we're ready.\n",
              "        channel.send({})\n",
              "        if (message.buffers) {\n",
              "          for (const buffer of message.buffers) {\n",
              "            buffers.push(buffer);\n",
              "            downloaded += buffer.byteLength;\n",
              "            progress.value = downloaded;\n",
              "          }\n",
              "        }\n",
              "      }\n",
              "      const blob = new Blob(buffers, {type: 'application/binary'});\n",
              "      const a = document.createElement('a');\n",
              "      a.href = window.URL.createObjectURL(blob);\n",
              "      a.download = filename;\n",
              "      div.appendChild(a);\n",
              "      a.click();\n",
              "      div.remove();\n",
              "    }\n",
              "  "
            ],
            "text/plain": [
              "<IPython.core.display.Javascript object>"
            ]
          },
          "metadata": {
            "tags": []
          }
        },
        {
          "output_type": "display_data",
          "data": {
            "application/javascript": [
              "download(\"download_f3a889e9-fc03-4a06-8295-90c3e19580f7\", \"mlp_model.csv\", 697748117)"
            ],
            "text/plain": [
              "<IPython.core.display.Javascript object>"
            ]
          },
          "metadata": {
            "tags": []
          }
        }
      ]
    },
    {
      "cell_type": "markdown",
      "metadata": {
        "id": "hDnUGUnRW0W0"
      },
      "source": [
        "**Predicted meter readings on the final test set**"
      ]
    },
    {
      "cell_type": "code",
      "metadata": {
        "colab": {
          "base_uri": "https://localhost:8080/",
          "height": 419
        },
        "id": "xbIoeAZRHVEW",
        "outputId": "7234418f-5cec-45ee-e00a-475ac440c3a4"
      },
      "source": [
        "y_test_df"
      ],
      "execution_count": null,
      "outputs": [
        {
          "output_type": "execute_result",
          "data": {
            "text/html": [
              "<div>\n",
              "<style scoped>\n",
              "    .dataframe tbody tr th:only-of-type {\n",
              "        vertical-align: middle;\n",
              "    }\n",
              "\n",
              "    .dataframe tbody tr th {\n",
              "        vertical-align: top;\n",
              "    }\n",
              "\n",
              "    .dataframe thead th {\n",
              "        text-align: right;\n",
              "    }\n",
              "</style>\n",
              "<table border=\"1\" class=\"dataframe\">\n",
              "  <thead>\n",
              "    <tr style=\"text-align: right;\">\n",
              "      <th></th>\n",
              "      <th>row_id</th>\n",
              "      <th>meter_reading</th>\n",
              "    </tr>\n",
              "  </thead>\n",
              "  <tbody>\n",
              "    <tr>\n",
              "      <th>0</th>\n",
              "      <td>0</td>\n",
              "      <td>66.7966</td>\n",
              "    </tr>\n",
              "    <tr>\n",
              "      <th>1</th>\n",
              "      <td>1</td>\n",
              "      <td>66.7966</td>\n",
              "    </tr>\n",
              "    <tr>\n",
              "      <th>2</th>\n",
              "      <td>2</td>\n",
              "      <td>66.7966</td>\n",
              "    </tr>\n",
              "    <tr>\n",
              "      <th>3</th>\n",
              "      <td>3</td>\n",
              "      <td>66.7966</td>\n",
              "    </tr>\n",
              "    <tr>\n",
              "      <th>4</th>\n",
              "      <td>4</td>\n",
              "      <td>66.7966</td>\n",
              "    </tr>\n",
              "    <tr>\n",
              "      <th>...</th>\n",
              "      <td>...</td>\n",
              "      <td>...</td>\n",
              "    </tr>\n",
              "    <tr>\n",
              "      <th>41697595</th>\n",
              "      <td>41697595</td>\n",
              "      <td>66.7966</td>\n",
              "    </tr>\n",
              "    <tr>\n",
              "      <th>41697596</th>\n",
              "      <td>41697596</td>\n",
              "      <td>66.7966</td>\n",
              "    </tr>\n",
              "    <tr>\n",
              "      <th>41697597</th>\n",
              "      <td>41697597</td>\n",
              "      <td>66.7966</td>\n",
              "    </tr>\n",
              "    <tr>\n",
              "      <th>41697598</th>\n",
              "      <td>41697598</td>\n",
              "      <td>66.7966</td>\n",
              "    </tr>\n",
              "    <tr>\n",
              "      <th>41697599</th>\n",
              "      <td>41697599</td>\n",
              "      <td>66.7966</td>\n",
              "    </tr>\n",
              "  </tbody>\n",
              "</table>\n",
              "<p>41697600 rows × 2 columns</p>\n",
              "</div>"
            ],
            "text/plain": [
              "            row_id  meter_reading\n",
              "0                0        66.7966\n",
              "1                1        66.7966\n",
              "2                2        66.7966\n",
              "3                3        66.7966\n",
              "4                4        66.7966\n",
              "...            ...            ...\n",
              "41697595  41697595        66.7966\n",
              "41697596  41697596        66.7966\n",
              "41697597  41697597        66.7966\n",
              "41697598  41697598        66.7966\n",
              "41697599  41697599        66.7966\n",
              "\n",
              "[41697600 rows x 2 columns]"
            ]
          },
          "metadata": {
            "tags": []
          },
          "execution_count": 85
        }
      ]
    },
    {
      "cell_type": "code",
      "metadata": {
        "id": "P9_rvQARHbzC"
      },
      "source": [
        "#REF-->https://stackoverflow.com/questions/43855162/rmse-rmsle-loss-function-in-keras/43863854"
      ],
      "execution_count": null,
      "outputs": []
    },
    {
      "cell_type": "markdown",
      "metadata": {
        "id": "0UE8K6NtXa5w"
      },
      "source": [
        "                                                             **End of Notebook**"
      ]
    }
  ]
}