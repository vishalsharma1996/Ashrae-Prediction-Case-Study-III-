{
  "nbformat": 4,
  "nbformat_minor": 0,
  "metadata": {
    "colab": {
      "name": "app.ipynb",
      "provenance": [],
      "collapsed_sections": [],
      "machine_shape": "hm"
    },
    "kernelspec": {
      "name": "python3",
      "display_name": "Python 3"
    }
  },
  "cells": [
    {
      "cell_type": "markdown",
      "metadata": {
        "id": "tsyJFSrZz_ka"
      },
      "source": [
        "**This file contains the code for the model deployment**"
      ]
    },
    {
      "cell_type": "code",
      "metadata": {
        "id": "Ytz5czJQWMHf"
      },
      "source": [
        "from google.colab import drive"
      ],
      "execution_count": 2,
      "outputs": []
    },
    {
      "cell_type": "code",
      "metadata": {
        "id": "UaY0_ID6WMkN",
        "colab": {
          "base_uri": "https://localhost:8080/"
        },
        "outputId": "a6ec7cf1-99b1-481f-818c-835a6bd74d68"
      },
      "source": [
        "drive.mount('/content/drive')"
      ],
      "execution_count": 3,
      "outputs": [
        {
          "output_type": "stream",
          "text": [
            "Mounted at /content/drive\n"
          ],
          "name": "stdout"
        }
      ]
    },
    {
      "cell_type": "code",
      "metadata": {
        "id": "5SNW0kFpX0SX"
      },
      "source": [
        "import pickle\r\n",
        "from flask import Flask, jsonify, request\r\n",
        "import flask\r\n",
        "import numpy as np\r\n",
        "import pandas as pd"
      ],
      "execution_count": 1,
      "outputs": []
    },
    {
      "cell_type": "code",
      "metadata": {
        "colab": {
          "base_uri": "https://localhost:8080/"
        },
        "id": "d7P9MU98bhxG",
        "outputId": "3b0729b9-9ee9-45a4-e73a-c657c11f6996"
      },
      "source": [
        "pip install flask_ngrok"
      ],
      "execution_count": 2,
      "outputs": [
        {
          "output_type": "stream",
          "text": [
            "Requirement already satisfied: flask_ngrok in /usr/local/lib/python3.7/dist-packages (0.0.25)\n",
            "Requirement already satisfied: Flask>=0.8 in /usr/local/lib/python3.7/dist-packages (from flask_ngrok) (1.1.2)\n",
            "Requirement already satisfied: requests in /usr/local/lib/python3.7/dist-packages (from flask_ngrok) (2.23.0)\n",
            "Requirement already satisfied: Werkzeug>=0.15 in /usr/local/lib/python3.7/dist-packages (from Flask>=0.8->flask_ngrok) (1.0.1)\n",
            "Requirement already satisfied: Jinja2>=2.10.1 in /usr/local/lib/python3.7/dist-packages (from Flask>=0.8->flask_ngrok) (2.11.3)\n",
            "Requirement already satisfied: click>=5.1 in /usr/local/lib/python3.7/dist-packages (from Flask>=0.8->flask_ngrok) (7.1.2)\n",
            "Requirement already satisfied: itsdangerous>=0.24 in /usr/local/lib/python3.7/dist-packages (from Flask>=0.8->flask_ngrok) (1.1.0)\n",
            "Requirement already satisfied: idna<3,>=2.5 in /usr/local/lib/python3.7/dist-packages (from requests->flask_ngrok) (2.10)\n",
            "Requirement already satisfied: chardet<4,>=3.0.2 in /usr/local/lib/python3.7/dist-packages (from requests->flask_ngrok) (3.0.4)\n",
            "Requirement already satisfied: urllib3!=1.25.0,!=1.25.1,<1.26,>=1.21.1 in /usr/local/lib/python3.7/dist-packages (from requests->flask_ngrok) (1.24.3)\n",
            "Requirement already satisfied: certifi>=2017.4.17 in /usr/local/lib/python3.7/dist-packages (from requests->flask_ngrok) (2020.12.5)\n",
            "Requirement already satisfied: MarkupSafe>=0.23 in /usr/local/lib/python3.7/dist-packages (from Jinja2>=2.10.1->Flask>=0.8->flask_ngrok) (1.1.1)\n"
          ],
          "name": "stdout"
        }
      ]
    },
    {
      "cell_type": "code",
      "metadata": {
        "id": "5dQCu0jxbvWi"
      },
      "source": [
        "from flask_ngrok import run_with_ngrok"
      ],
      "execution_count": 3,
      "outputs": []
    },
    {
      "cell_type": "code",
      "metadata": {
        "id": "4ItZQ2Y5X7pV"
      },
      "source": [
        "app=Flask(__name__,template_folder='/content/drive/MyDrive/templates')"
      ],
      "execution_count": 4,
      "outputs": []
    },
    {
      "cell_type": "code",
      "metadata": {
        "id": "Mr-HmbXOeKyB"
      },
      "source": [
        "run_with_ngrok(app)"
      ],
      "execution_count": 5,
      "outputs": []
    },
    {
      "cell_type": "code",
      "metadata": {
        "id": "8qOItjcDeRP6"
      },
      "source": [
        "@app.route('/')\r\n",
        "def index():\r\n",
        "  return flask.render_template('index_modified_7.html')"
      ],
      "execution_count": 6,
      "outputs": []
    },
    {
      "cell_type": "code",
      "metadata": {
        "colab": {
          "base_uri": "https://localhost:8080/"
        },
        "id": "tCR7yV6lfdzO",
        "outputId": "72d459a8-65a7-4aa0-fc32-2940f5a5e2b4"
      },
      "source": [
        "@app.route('/predict',methods=['POST'])\r\n",
        "def predict():\r\n",
        "\r\n",
        "  file=request.form\r\n",
        "  file_1=open('/content/drive/MyDrive/'+file['fileupload'],'rb')\r\n",
        "  deployed=pickle.load(file_1)\r\n",
        "  \r\n",
        "\r\n",
        "  \r\n",
        "  \r\n",
        "  \r\n",
        "  file_3=open('/content/drive/MyDrive/Project Energy Consumption/lgbm_model_2.txt','rb')\r\n",
        "  lgbm_model_2=pickle.load(file_3)\r\n",
        "  predictions=np.expm1(lgbm_model_2.predict(deployed))\r\n",
        "  predictions_lst=list(predictions)\r\n",
        "  return jsonify({'Energy_Prediction':predictions_lst})\r\n",
        "\r\n",
        "if __name__== '__main__':\r\n",
        "  app.run()"
      ],
      "execution_count": 7,
      "outputs": [
        {
          "output_type": "stream",
          "text": [
            " * Serving Flask app \"__main__\" (lazy loading)\n",
            " * Environment: production\n",
            "\u001b[31m   WARNING: This is a development server. Do not use it in a production deployment.\u001b[0m\n",
            "\u001b[2m   Use a production WSGI server instead.\u001b[0m\n",
            " * Debug mode: off\n"
          ],
          "name": "stdout"
        },
        {
          "output_type": "stream",
          "text": [
            " * Running on http://127.0.0.1:5000/ (Press CTRL+C to quit)\n"
          ],
          "name": "stderr"
        },
        {
          "output_type": "stream",
          "text": [
            " * Running on http://edc456078c19.ngrok.io\n",
            " * Traffic stats available on http://127.0.0.1:4040\n"
          ],
          "name": "stdout"
        },
        {
          "output_type": "stream",
          "text": [
            "127.0.0.1 - - [01/Mar/2021 12:35:16] \"\u001b[37mGET / HTTP/1.1\u001b[0m\" 200 -\n",
            "127.0.0.1 - - [01/Mar/2021 12:35:17] \"\u001b[33mGET /favicon.ico HTTP/1.1\u001b[0m\" 404 -\n",
            "127.0.0.1 - - [01/Mar/2021 12:35:27] \"\u001b[37mPOST /predict HTTP/1.1\u001b[0m\" 200 -\n"
          ],
          "name": "stderr"
        }
      ]
    },
    {
      "cell_type": "code",
      "metadata": {
        "id": "838L7Lb5svzS"
      },
      "source": [
        "#REF-->https://deveshsurve.medium.com/running-flask-app-with-google-colab-c9f0c078fb53"
      ],
      "execution_count": null,
      "outputs": []
    }
  ]
}