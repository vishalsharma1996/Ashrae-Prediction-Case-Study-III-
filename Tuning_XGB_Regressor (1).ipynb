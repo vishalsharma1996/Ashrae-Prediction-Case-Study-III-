{
  "nbformat": 4,
  "nbformat_minor": 0,
  "metadata": {
    "colab": {
      "name": "Tuning_XGB_Regressor.ipynb",
      "provenance": [],
      "collapsed_sections": [],
      "machine_shape": "hm"
    },
    "kernelspec": {
      "display_name": "Python 3",
      "name": "python3"
    }
  },
  "cells": [
    {
      "cell_type": "markdown",
      "metadata": {
        "id": "mbvX6yfCLUlJ"
      },
      "source": [
        "**THIS FILE CONTAINS THE NECESSARY CODE FOR MODELLING AND HYPERPARAMETER TUNING FOR XGB REGRESSOR.**"
      ]
    },
    {
      "cell_type": "markdown",
      "metadata": {
        "id": "xYz6sBaLLNP-"
      },
      "source": [
        "**Taking necessary files from drive**"
      ]
    },
    {
      "cell_type": "code",
      "metadata": {
        "id": "g9agYx9uq2DT"
      },
      "source": [
        "from google.colab import drive"
      ],
      "execution_count": null,
      "outputs": []
    },
    {
      "cell_type": "code",
      "metadata": {
        "colab": {
          "base_uri": "https://localhost:8080/"
        },
        "id": "wkRfmfuHtCG7",
        "outputId": "03f9a0eb-3ca1-4a1c-efa5-6c2904ec4b76"
      },
      "source": [
        "drive.mount('/content/drive')"
      ],
      "execution_count": null,
      "outputs": [
        {
          "output_type": "stream",
          "text": [
            "Mounted at /content/drive\n"
          ],
          "name": "stdout"
        }
      ]
    },
    {
      "cell_type": "code",
      "metadata": {
        "id": "3WBN4nw2tERV"
      },
      "source": [
        "import pickle\r\n",
        "import pandas as pd\r\n",
        "import matplotlib.pyplot as plt\r\n",
        "import numpy as np\r\n",
        "import seaborn as sns\r\n",
        "from tqdm import tqdm\r\n",
        "import sklearn"
      ],
      "execution_count": null,
      "outputs": []
    },
    {
      "cell_type": "code",
      "metadata": {
        "id": "6SQArcHAtM6u"
      },
      "source": [
        "from sklearn.preprocessing import LabelEncoder,MinMaxScaler\r\n",
        "from sklearn.model_selection import StratifiedKFold,KFold\r\n",
        "import lightgbm as lgb\r\n",
        "from lightgbm import LGBMRegressor\r\n",
        "from sklearn.model_selection import RandomizedSearchCV\r\n",
        "from sklearn.metrics import mean_squared_error\r\n",
        "import xgboost as xgb\r\n",
        "from sklearn.preprocessing import MinMaxScaler\r\n",
        "from sklearn.ensemble import RandomForestRegressor\r\n",
        "from sklearn.model_selection import cross_val_score\r\n",
        "from scipy.stats import uniform,randint\r\n",
        "from sklearn.model_selection import train_test_split"
      ],
      "execution_count": null,
      "outputs": []
    },
    {
      "cell_type": "code",
      "metadata": {
        "id": "JK5bmZ-ktTu5"
      },
      "source": [
        "from xgboost import XGBRegressor"
      ],
      "execution_count": null,
      "outputs": []
    },
    {
      "cell_type": "code",
      "metadata": {
        "id": "tlpkXxP_tX0t"
      },
      "source": [
        "import warnings\r\n",
        "warnings.filterwarnings('ignore')"
      ],
      "execution_count": null,
      "outputs": []
    },
    {
      "cell_type": "code",
      "metadata": {
        "id": "rbPmQ9dataY7"
      },
      "source": [
        "file=open('/content/drive/MyDrive/Project Energy Consumption/df_tr_red_final_modified.txt','rb')\r\n",
        "df_tr_red_final=pickle.load(file)"
      ],
      "execution_count": null,
      "outputs": []
    },
    {
      "cell_type": "code",
      "metadata": {
        "id": "VKz7VsRwu8Wh"
      },
      "source": [
        "df_tr_red_final.reset_index(inplace=True)"
      ],
      "execution_count": null,
      "outputs": []
    },
    {
      "cell_type": "code",
      "metadata": {
        "id": "oGwbpiE9tggd"
      },
      "source": [
        "df_tr_red_final.drop(['index','timestamp'],axis=1,inplace=True)"
      ],
      "execution_count": null,
      "outputs": []
    },
    {
      "cell_type": "code",
      "metadata": {
        "id": "gJ0hsA1DvOnq"
      },
      "source": [
        "df_tr_red_final.drop('level_0',axis=1,inplace=True)"
      ],
      "execution_count": null,
      "outputs": []
    },
    {
      "cell_type": "markdown",
      "metadata": {
        "id": "WQwivsqLLxYd"
      },
      "source": [
        "**TARGET TRANSFORMATION**\r\n",
        "\r\n",
        "1.   AS THE METRIC IS RMSLE I AM TAKING THE LOG1P OF THE METER READINGS THEN TAKING THE EVALUATION METRIC TO BE RMSE.\r\n",
        "\r\n"
      ]
    },
    {
      "cell_type": "code",
      "metadata": {
        "id": "Cn-kUGMetn7e"
      },
      "source": [
        "y_tr=np.log1p(df_tr_red_final['meter_reading'])\r\n",
        "df_tr_red_final.drop('meter_reading',axis=1,inplace=True)"
      ],
      "execution_count": null,
      "outputs": []
    },
    {
      "cell_type": "markdown",
      "metadata": {
        "id": "zBFOjTWMMSj0"
      },
      "source": [
        "**FEATURE SELECTION**\r\n",
        "\r\n",
        "1.   DOING FEATURE SELECTION USING XGB REGRESSOR WHICH HELPS TO PREVENT OVERFITTING ON THE TRAINING DATA.\r\n",
        "\r\n",
        "2.   IN THIS WAY THE DIMENSIONS ARE ALSO REDUCED WHICH HELPS TO REDUCE THE TRAINING TIME OF THE MODEL.\r\n",
        "\r\n",
        "\r\n",
        "\r\n"
      ]
    },
    {
      "cell_type": "code",
      "metadata": {
        "colab": {
          "base_uri": "https://localhost:8080/"
        },
        "id": "xVq2Nng-DrMA",
        "outputId": "6c93c4ea-1b73-4ef5-b372-7a3f733ce2a7"
      },
      "source": [
        "xgb_feat_sel=XGBRegressor(n_jobs=-1,tree_method='gpu_hist')\r\n",
        "xgb_feat_sel.fit(df_tr_red_final,y_tr)"
      ],
      "execution_count": null,
      "outputs": [
        {
          "output_type": "stream",
          "text": [
            "[07:43:10] WARNING: /workspace/src/objective/regression_obj.cu:152: reg:linear is now deprecated in favor of reg:squarederror.\n"
          ],
          "name": "stdout"
        },
        {
          "output_type": "execute_result",
          "data": {
            "text/plain": [
              "XGBRegressor(base_score=0.5, booster='gbtree', colsample_bylevel=1,\n",
              "             colsample_bynode=1, colsample_bytree=1, gamma=0,\n",
              "             importance_type='gain', learning_rate=0.1, max_delta_step=0,\n",
              "             max_depth=3, min_child_weight=1, missing=None, n_estimators=100,\n",
              "             n_jobs=-1, nthread=None, objective='reg:linear', random_state=0,\n",
              "             reg_alpha=0, reg_lambda=1, scale_pos_weight=1, seed=None,\n",
              "             silent=None, subsample=1, tree_method='gpu_hist', verbosity=1)"
            ]
          },
          "metadata": {
            "tags": []
          },
          "execution_count": 10
        }
      ]
    },
    {
      "cell_type": "markdown",
      "metadata": {
        "id": "Hy5p58OhMhXY"
      },
      "source": [
        "**FEATURE IMPORTANCE PLOT**"
      ]
    },
    {
      "cell_type": "code",
      "metadata": {
        "colab": {
          "base_uri": "https://localhost:8080/",
          "height": 295
        },
        "id": "vW1nQlISEBsJ",
        "outputId": "f016be9f-a4cd-4aed-c696-953911503a6f"
      },
      "source": [
        "xgb.plot_importance(xgb_feat_sel)\r\n",
        "plt.title('Feature Importance Plot')\r\n",
        "plt.show()"
      ],
      "execution_count": null,
      "outputs": [
        {
          "output_type": "display_data",
          "data": {
            "image/png": "[encoded data removed]",
            "text/plain": [
              "<Figure size 432x288 with 1 Axes>"
            ]
          },
          "metadata": {
            "tags": [],
            "needs_background": "light"
          }
        }
      ]
    },
    {
      "cell_type": "markdown",
      "metadata": {
        "id": "WKaiFeo0Mm97"
      },
      "source": [
        "**DROPPING THE FEATURES WHICH ARE NOT IMPORTANT**"
      ]
    },
    {
      "cell_type": "code",
      "metadata": {
        "id": "rc8HgIb_tszY"
      },
      "source": [
        "df_tr_red_final.drop(['cloud_coverage','sea_level_pressure','wind_direction','wind_speed',\r\n",
        "                      'is_summer_month','is_pub_holiday'],axis=1,inplace=True)"
      ],
      "execution_count": null,
      "outputs": []
    },
    {
      "cell_type": "markdown",
      "metadata": {
        "id": "Tzb98YLlM7n1"
      },
      "source": [
        "**DIVIDING THE DATA USING THE TRAIN TEST SPLIT**"
      ]
    },
    {
      "cell_type": "code",
      "metadata": {
        "id": "kDeaIWJXtvvX"
      },
      "source": [
        "X_train,X_test,y_train,y_test=train_test_split(df_tr_red_final,y_tr,test_size=0.2,random_state=0)"
      ],
      "execution_count": null,
      "outputs": []
    },
    {
      "cell_type": "markdown",
      "metadata": {
        "id": "VGm7NsKONHlq"
      },
      "source": [
        "**HYPERPARAMETER TUNING**\r\n",
        "\r\n",
        "1.   HERE I AM DOING THE HYPERPARAMETER TUNING USING RANDOMIZED SEARCH CV WITH THE USE OF GPU.\r\n",
        "\r\n",
        "2.   IT HELPS THE MODEL TO FIND THE BEST PARAMS REQUIRED FOR TRAINING.\r\n",
        "\r\n"
      ]
    },
    {
      "cell_type": "code",
      "metadata": {
        "colab": {
          "base_uri": "https://localhost:8080/"
        },
        "id": "wozU_0vsuh2t",
        "outputId": "748d93bf-ae4e-48aa-9844-9ac5af91e256"
      },
      "source": [
        "x_cfl=XGBRegressor(tree_method='gpu_hist')\r\n",
        "params={'n_estimators':[300,500,1000,1500,2000],\r\n",
        "        'learning_rate':[0.01,0.03,0.05,0.1],\r\n",
        "        'max_depth':[3,5,7,9],\r\n",
        "        'colsample_bytree':[0.5,0.8,0.9,1]}\r\n",
        "random_clf=RandomizedSearchCV(x_cfl,params,scoring='neg_root_mean_squared_error',n_jobs=-1,cv=3,verbose=10,random_state=0,n_iter=10)\r\n",
        "random_clf.fit(X_train,y_train)"
      ],
      "execution_count": null,
      "outputs": [
        {
          "output_type": "stream",
          "text": [
            "Fitting 3 folds for each of 10 candidates, totalling 30 fits\n"
          ],
          "name": "stdout"
        },
        {
          "output_type": "stream",
          "text": [
            "[Parallel(n_jobs=-1)]: Using backend LokyBackend with 4 concurrent workers.\n",
            "[Parallel(n_jobs=-1)]: Done   5 tasks      | elapsed:  7.3min\n",
            "[Parallel(n_jobs=-1)]: Done  10 tasks      | elapsed: 14.0min\n",
            "[Parallel(n_jobs=-1)]: Done  17 tasks      | elapsed: 19.1min\n",
            "[Parallel(n_jobs=-1)]: Done  27 out of  30 | elapsed: 27.4min remaining:  3.0min\n",
            "[Parallel(n_jobs=-1)]: Done  30 out of  30 | elapsed: 30.1min finished\n"
          ],
          "name": "stderr"
        },
        {
          "output_type": "stream",
          "text": [
            "[08:13:48] WARNING: /workspace/src/objective/regression_obj.cu:152: reg:linear is now deprecated in favor of reg:squarederror.\n"
          ],
          "name": "stdout"
        },
        {
          "output_type": "execute_result",
          "data": {
            "text/plain": [
              "RandomizedSearchCV(cv=3, error_score=nan,\n",
              "                   estimator=XGBRegressor(base_score=0.5, booster='gbtree',\n",
              "                                          colsample_bylevel=1,\n",
              "                                          colsample_bynode=1,\n",
              "                                          colsample_bytree=1, gamma=0,\n",
              "                                          importance_type='gain',\n",
              "                                          learning_rate=0.1, max_delta_step=0,\n",
              "                                          max_depth=3, min_child_weight=1,\n",
              "                                          missing=None, n_estimators=100,\n",
              "                                          n_jobs=1, nthread=None,\n",
              "                                          objective='reg:linear',\n",
              "                                          random_state=0, reg_alpha=...\n",
              "                                          tree_method='gpu_hist', verbosity=1),\n",
              "                   iid='deprecated', n_iter=10, n_jobs=-1,\n",
              "                   param_distributions={'colsample_bytree': [0.5, 0.8, 0.9, 1],\n",
              "                                        'learning_rate': [0.01, 0.03, 0.05,\n",
              "                                                          0.1],\n",
              "                                        'max_depth': [3, 5, 7, 9],\n",
              "                                        'n_estimators': [300, 500, 1000, 1500,\n",
              "                                                         2000]},\n",
              "                   pre_dispatch='2*n_jobs', random_state=0, refit=True,\n",
              "                   return_train_score=False,\n",
              "                   scoring='neg_root_mean_squared_error', verbose=10)"
            ]
          },
          "metadata": {
            "tags": []
          },
          "execution_count": 14
        }
      ]
    },
    {
      "cell_type": "markdown",
      "metadata": {
        "id": "i83VbiVwN9Ub"
      },
      "source": [
        "**BEST PARAMS**"
      ]
    },
    {
      "cell_type": "code",
      "metadata": {
        "colab": {
          "base_uri": "https://localhost:8080/"
        },
        "id": "tb8vzDVj3Sud",
        "outputId": "88514165-b9b3-418e-cd47-5111cf897a7f"
      },
      "source": [
        "random_clf.best_params_"
      ],
      "execution_count": null,
      "outputs": [
        {
          "output_type": "execute_result",
          "data": {
            "text/plain": [
              "{'colsample_bytree': 0.8,\n",
              " 'learning_rate': 0.1,\n",
              " 'max_depth': 9,\n",
              " 'n_estimators': 500}"
            ]
          },
          "metadata": {
            "tags": []
          },
          "execution_count": 15
        }
      ]
    },
    {
      "cell_type": "markdown",
      "metadata": {
        "id": "13Z19eUZODfA"
      },
      "source": [
        "**BEST SCORE**"
      ]
    },
    {
      "cell_type": "code",
      "metadata": {
        "colab": {
          "base_uri": "https://localhost:8080/"
        },
        "id": "6nOtxnJb3V9S",
        "outputId": "d14833b1-174a-4889-9bb3-fe53e4044964"
      },
      "source": [
        "random_clf.best_score_"
      ],
      "execution_count": null,
      "outputs": [
        {
          "output_type": "execute_result",
          "data": {
            "text/plain": [
              "-0.7280361453692118"
            ]
          },
          "metadata": {
            "tags": []
          },
          "execution_count": 16
        }
      ]
    },
    {
      "cell_type": "code",
      "metadata": {
        "id": "2Wr4Cwp04fs6"
      },
      "source": [
        "predict=random_clf.predict(X_test)\r\n",
        "cv_score=np.sqrt(mean_squared_error(y_test,predict))"
      ],
      "execution_count": null,
      "outputs": []
    },
    {
      "cell_type": "markdown",
      "metadata": {
        "id": "j4vBuwJLOIbK"
      },
      "source": [
        "**SCORE ON THE TEST SET USING THE BEST PARAMS FOUND FROM HYPERPARAMETER TUNING**"
      ]
    },
    {
      "cell_type": "code",
      "metadata": {
        "colab": {
          "base_uri": "https://localhost:8080/"
        },
        "id": "iizuX_0Y6fzF",
        "outputId": "4441b201-9a5a-4b20-bc49-e66ae7c61e5d"
      },
      "source": [
        "cv_score"
      ],
      "execution_count": null,
      "outputs": [
        {
          "output_type": "execute_result",
          "data": {
            "text/plain": [
              "0.7237433"
            ]
          },
          "metadata": {
            "tags": []
          },
          "execution_count": 18
        }
      ]
    },
    {
      "cell_type": "markdown",
      "metadata": {
        "id": "SWZFkS2xOV6Z"
      },
      "source": [
        "**FITTING THE BEST MODEL ON THE TRAINING SET**"
      ]
    },
    {
      "cell_type": "code",
      "metadata": {
        "colab": {
          "base_uri": "https://localhost:8080/"
        },
        "id": "AUaMWFTbumHs",
        "outputId": "8cacbe71-c9df-4a27-8dc0-694811f14ea5"
      },
      "source": [
        "xgb_reg=XGBRegressor(n_estimators=500,max_depth=9,learning_rate=0.1,colsample_bytree=0.8,tree_method='gpu_hist')\r\n",
        "xgb_model=xgb_reg.fit(df_tr_red_final,y_tr)"
      ],
      "execution_count": null,
      "outputs": [
        {
          "output_type": "stream",
          "text": [
            "[08:15:37] WARNING: /workspace/src/objective/regression_obj.cu:152: reg:linear is now deprecated in favor of reg:squarederror.\n"
          ],
          "name": "stdout"
        }
      ]
    },
    {
      "cell_type": "markdown",
      "metadata": {
        "id": "z6-lo-xBOcZF"
      },
      "source": [
        "**STORING THE BEST MODEL IN THE FORM OF PICKLE FILE AND DUMPING IT INTO DRIVE**"
      ]
    },
    {
      "cell_type": "code",
      "metadata": {
        "id": "mG2xCTmc4JfT"
      },
      "source": [
        "filename='xgb_model_modified.txt'\r\n",
        "my_file=open(filename,'wb')"
      ],
      "execution_count": null,
      "outputs": []
    },
    {
      "cell_type": "code",
      "metadata": {
        "id": "v9j2LYr74QcM"
      },
      "source": [
        "pickle.dump(xgb_model,my_file)"
      ],
      "execution_count": null,
      "outputs": []
    }
  ]
}