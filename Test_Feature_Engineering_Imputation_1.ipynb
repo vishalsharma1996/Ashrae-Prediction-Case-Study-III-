{
  "nbformat": 4,
  "nbformat_minor": 0,
  "metadata": {
    "colab": {
      "name": " Test_Feature_Engineering_Imputation.ipynb",
      "provenance": [],
      "collapsed_sections": [],
      "machine_shape": "hm"
    },
    "kernelspec": {
      "name": "python3",
      "display_name": "Python 3"
    }
  },
  "cells": [
    {
      "cell_type": "markdown",
      "metadata": {
        "id": "gOU_eh77wOUQ"
      },
      "source": [
        "THIS FILE CONTAINS THE CODE FOR MAKING THE TEST DATA READY FOR PREDICTION.IT INCLUDES THE FEATURE ENGINEERING STEPS  TIMESTAMP ALIGNMENT OF THE AIR-TEMPERATURE AND FILLING UP THE MISSING VALUES."
      ]
    },
    {
      "cell_type": "markdown",
      "metadata": {
        "id": "lFBy4yBgw0na"
      },
      "source": [
        "                        **Importing the necessary files using the kaggle API**"
      ]
    },
    {
      "cell_type": "code",
      "metadata": {
        "colab": {
          "resources": {
            "http://localhost:8080/nbextensions/google.colab/files.js": {
              "data": "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",
              "ok": true,
              "headers": [
                [
                  "content-type",
                  "application/javascript"
                ]
              ],
              "status": 200,
              "status_text": ""
            }
          },
          "base_uri": "https://localhost:8080/",
          "height": 72
        },
        "id": "4ukigh7Z9NEo",
        "outputId": "f4a03d45-6e5a-4943-b25c-d4d2f9e64d0b"
      },
      "source": [
        "from google.colab import files\r\n",
        "file=files.upload()"
      ],
      "execution_count": null,
      "outputs": [
        {
          "output_type": "display_data",
          "data": {
            "text/html": [
              "\n",
              "     <input type=\"file\" id=\"files-a92fed7e-ec05-463d-8808-82b8920cd79f\" name=\"files[]\" multiple disabled\n",
              "        style=\"border:none\" />\n",
              "     <output id=\"result-a92fed7e-ec05-463d-8808-82b8920cd79f\">\n",
              "      Upload widget is only available when the cell has been executed in the\n",
              "      current browser session. Please rerun this cell to enable.\n",
              "      </output>\n",
              "      <script src=\"/nbextensions/google.colab/files.js\"></script> "
            ],
            "text/plain": [
              "<IPython.core.display.HTML object>"
            ]
          },
          "metadata": {
            "tags": []
          }
        },
        {
          "output_type": "stream",
          "text": [
            "Saving kaggle.json to kaggle.json\n"
          ],
          "name": "stdout"
        }
      ]
    },
    {
      "cell_type": "code",
      "metadata": {
        "id": "OE1rWCzW9N4W"
      },
      "source": [
        "!pip install -q kaggle"
      ],
      "execution_count": null,
      "outputs": []
    },
    {
      "cell_type": "code",
      "metadata": {
        "id": "I56tXyLD9OL5"
      },
      "source": [
        "!mkdir -p ~/.kaggle"
      ],
      "execution_count": null,
      "outputs": []
    },
    {
      "cell_type": "code",
      "metadata": {
        "id": "Qc-OaU6B9ak4"
      },
      "source": [
        "!cp /content/kaggle.json ~/.kaggle/"
      ],
      "execution_count": null,
      "outputs": []
    },
    {
      "cell_type": "code",
      "metadata": {
        "id": "5xcnVO6w9cyK"
      },
      "source": [
        "!chmod 600 /root/.kaggle/kaggle.json"
      ],
      "execution_count": null,
      "outputs": []
    },
    {
      "cell_type": "code",
      "metadata": {
        "colab": {
          "base_uri": "https://localhost:8080/"
        },
        "id": "FZJxbFoY9gss",
        "outputId": "b44d5c61-e935-4097-d769-9d6f632bcfca"
      },
      "source": [
        "!kaggle competitions download -c ashrae-energy-prediction"
      ],
      "execution_count": null,
      "outputs": [
        {
          "output_type": "stream",
          "text": [
            "Warning: Looks like you're using an outdated API Version, please consider updating (server 1.5.10 / client 1.5.4)\n",
            "Downloading weather_train.csv.zip to /content\n",
            "  0% 0.00/1.27M [00:00<?, ?B/s]\n",
            "100% 1.27M/1.27M [00:00<00:00, 43.1MB/s]\n",
            "Downloading train.csv.zip to /content\n",
            "100% 120M/120M [00:01<00:00, 97.1MB/s]\n",
            "\n",
            "Downloading test.csv.zip to /content\n",
            " 95% 159M/167M [00:01<00:00, 104MB/s] \n",
            "100% 167M/167M [00:01<00:00, 101MB/s]\n",
            "Downloading building_metadata.csv to /content\n",
            "  0% 0.00/44.5k [00:00<?, ?B/s]\n",
            "100% 44.5k/44.5k [00:00<00:00, 44.4MB/s]\n",
            "Downloading weather_test.csv.zip to /content\n",
            "  0% 0.00/2.53M [00:00<?, ?B/s]\n",
            "100% 2.53M/2.53M [00:00<00:00, 167MB/s]\n",
            "Downloading sample_submission.csv.zip to /content\n",
            " 94% 83.0M/88.4M [00:00<00:00, 103MB/s] \n",
            "100% 88.4M/88.4M [00:00<00:00, 121MB/s]\n"
          ],
          "name": "stdout"
        }
      ]
    },
    {
      "cell_type": "code",
      "metadata": {
        "colab": {
          "base_uri": "https://localhost:8080/"
        },
        "id": "WcIh739l9jPl",
        "outputId": "a54c55fc-c113-4e82-e5ec-778ed2694867"
      },
      "source": [
        "!unzip /content/test.csv.zip"
      ],
      "execution_count": null,
      "outputs": [
        {
          "output_type": "stream",
          "text": [
            "Archive:  /content/test.csv.zip\n",
            "  inflating: test.csv                \n"
          ],
          "name": "stdout"
        }
      ]
    },
    {
      "cell_type": "code",
      "metadata": {
        "id": "ff7vtXUx9nEB"
      },
      "source": [
        "import warnings\r\n",
        "warnings.filterwarnings('ignore')"
      ],
      "execution_count": null,
      "outputs": []
    },
    {
      "cell_type": "code",
      "metadata": {
        "id": "1LhagF7g9viF"
      },
      "source": [
        "import pandas as pd\r\n",
        "import matplotlib.pyplot as plt\r\n",
        "import numpy as np\r\n",
        "import seaborn as sns\r\n",
        "import pickle"
      ],
      "execution_count": null,
      "outputs": []
    },
    {
      "cell_type": "code",
      "metadata": {
        "id": "pcS4PkXDmgr0"
      },
      "source": [
        "from sklearn.preprocessing import LabelEncoder,MinMaxScaler\r\n",
        "import lightgbm as lgb"
      ],
      "execution_count": null,
      "outputs": []
    },
    {
      "cell_type": "markdown",
      "metadata": {
        "id": "JujDnfcZxGrf"
      },
      "source": [
        "**Function for reducing the memory usage**"
      ]
    },
    {
      "cell_type": "code",
      "metadata": {
        "id": "4pu9hFOr9ySA"
      },
      "source": [
        "def reduce_mem_usage(df, verbose=True):\r\n",
        "    numerics = ['int16', 'int32', 'int64', 'float16', 'float32', 'float64']\r\n",
        "    start_mem = df.memory_usage().sum() / 1024**2    \r\n",
        "    for col in df.columns:\r\n",
        "        col_type = df[col].dtypes\r\n",
        "        if col_type in numerics:\r\n",
        "            c_min = df[col].min()\r\n",
        "            c_max = df[col].max()\r\n",
        "            if str(col_type)[:3] == 'int':\r\n",
        "                if c_min > np.iinfo(np.int8).min and c_max < np.iinfo(np.int8).max:\r\n",
        "                    df[col] = df[col].astype(np.int8)\r\n",
        "                elif c_min > np.iinfo(np.int16).min and c_max < np.iinfo(np.int16).max:\r\n",
        "                    df[col] = df[col].astype(np.int16)\r\n",
        "                elif c_min > np.iinfo(np.int32).min and c_max < np.iinfo(np.int32).max:\r\n",
        "                    df[col] = df[col].astype(np.int32)\r\n",
        "                elif c_min > np.iinfo(np.int64).min and c_max < np.iinfo(np.int64).max:\r\n",
        "                    df[col] = df[col].astype(np.int64)  \r\n",
        "            else:\r\n",
        "                if c_min > np.finfo(np.float16).min and c_max < np.finfo(np.float16).max:\r\n",
        "                    df[col] = df[col].astype(np.float16)\r\n",
        "                elif c_min > np.finfo(np.float32).min and c_max < np.finfo(np.float32).max:\r\n",
        "                    df[col] = df[col].astype(np.float32)\r\n",
        "                else:\r\n",
        "                    df[col] = df[col].astype(np.float64)    \r\n",
        "    end_mem = df.memory_usage().sum() / 1024**2\r\n",
        "    if verbose: print('Mem. usage decreased to {:5.2f} Mb ({:.1f}% reduction)'.format(end_mem, 100 * (start_mem - end_mem) / start_mem))\r\n",
        "    return df"
      ],
      "execution_count": null,
      "outputs": []
    },
    {
      "cell_type": "code",
      "metadata": {
        "id": "WpR70SHW9231"
      },
      "source": [
        "df_test=pd.read_csv('test.csv')"
      ],
      "execution_count": null,
      "outputs": []
    },
    {
      "cell_type": "code",
      "metadata": {
        "colab": {
          "base_uri": "https://localhost:8080/"
        },
        "id": "h3kLlcmY97T0",
        "outputId": "31a801c7-bd02-4f93-d4ab-5239141dd0b9"
      },
      "source": [
        "df_test_red=reduce_mem_usage(df_test,verbose=True)"
      ],
      "execution_count": null,
      "outputs": [
        {
          "output_type": "stream",
          "text": [
            "Mem. usage decreased to 596.49 Mb (53.1% reduction)\n"
          ],
          "name": "stdout"
        }
      ]
    },
    {
      "cell_type": "code",
      "metadata": {
        "id": "TV7wV_dL99mR"
      },
      "source": [
        "del df_test"
      ],
      "execution_count": null,
      "outputs": []
    },
    {
      "cell_type": "code",
      "metadata": {
        "id": "xgOcokZ09_5w"
      },
      "source": [
        "df_weather_test=pd.read_csv('weather_test.csv')"
      ],
      "execution_count": null,
      "outputs": []
    },
    {
      "cell_type": "code",
      "metadata": {
        "colab": {
          "base_uri": "https://localhost:8080/"
        },
        "id": "tFC9591n-B8K",
        "outputId": "eea0b7b3-3c1f-4555-c9bd-8f810144a798"
      },
      "source": [
        "df_weather_test_red=reduce_mem_usage(df_weather_test,verbose=True)"
      ],
      "execution_count": null,
      "outputs": [
        {
          "output_type": "stream",
          "text": [
            "Mem. usage decreased to  6.08 Mb (68.1% reduction)\n"
          ],
          "name": "stdout"
        }
      ]
    },
    {
      "cell_type": "code",
      "metadata": {
        "id": "GyeCHq7w-EKN"
      },
      "source": [
        "del df_weather_test"
      ],
      "execution_count": null,
      "outputs": []
    },
    {
      "cell_type": "code",
      "metadata": {
        "id": "Djo8rO-j-Hox"
      },
      "source": [
        "df_building=pd.read_csv('building_metadata.csv')"
      ],
      "execution_count": null,
      "outputs": []
    },
    {
      "cell_type": "code",
      "metadata": {
        "colab": {
          "base_uri": "https://localhost:8080/"
        },
        "id": "AN9624xH-KHI",
        "outputId": "94a645cd-d152-4711-945d-1f37eb291337"
      },
      "source": [
        "df_building_red=reduce_mem_usage(df_building,verbose=True)"
      ],
      "execution_count": null,
      "outputs": [
        {
          "output_type": "stream",
          "text": [
            "Mem. usage decreased to  0.03 Mb (60.3% reduction)\n"
          ],
          "name": "stdout"
        }
      ]
    },
    {
      "cell_type": "code",
      "metadata": {
        "id": "28_Ps8pN-MVN"
      },
      "source": [
        "df_test_build=pd.merge(df_test_red,df_building_red,how='left',on=['building_id'])"
      ],
      "execution_count": null,
      "outputs": []
    },
    {
      "cell_type": "code",
      "metadata": {
        "id": "h5zCDUoE-QKm"
      },
      "source": [
        "df_test_merge=pd.merge(df_test_build,df_weather_test_red,how='left',on=['site_id','timestamp'])"
      ],
      "execution_count": null,
      "outputs": []
    },
    {
      "cell_type": "markdown",
      "metadata": {
        "id": "RQdQAKckxN8D"
      },
      "source": [
        "**Checking the percentage of missing values**"
      ]
    },
    {
      "cell_type": "code",
      "metadata": {
        "colab": {
          "base_uri": "https://localhost:8080/"
        },
        "id": "iUC54zxF-TFb",
        "outputId": "d8c1d87b-ba6a-4c30-ac0f-e82d5a29fd19"
      },
      "source": [
        "(df_test_merge.isnull().sum()/df_test_merge.shape[0])*100"
      ],
      "execution_count": null,
      "outputs": [
        {
          "output_type": "execute_result",
          "data": {
            "text/plain": [
              "row_id                 0.000000\n",
              "building_id            0.000000\n",
              "meter                  0.000000\n",
              "timestamp              0.000000\n",
              "site_id                0.000000\n",
              "primary_use            0.000000\n",
              "square_feet            0.000000\n",
              "year_built            58.991597\n",
              "floor_count           82.605042\n",
              "air_temperature        0.532167\n",
              "cloud_coverage        46.866438\n",
              "dew_temperature        0.625453\n",
              "precip_depth_1_hr     18.709861\n",
              "sea_level_pressure     6.035901\n",
              "wind_direction         7.143488\n",
              "wind_speed             0.724476\n",
              "dtype: float64"
            ]
          },
          "metadata": {
            "tags": []
          },
          "execution_count": 25
        }
      ]
    },
    {
      "cell_type": "markdown",
      "metadata": {
        "id": "R7pCmXZjxS0K"
      },
      "source": [
        "**Dropping the floor count as it contains more than 80% missing data**"
      ]
    },
    {
      "cell_type": "code",
      "metadata": {
        "id": "nJnUtXT4-WxE"
      },
      "source": [
        "df_test_merge.drop('floor_count',axis=1,inplace=True)"
      ],
      "execution_count": null,
      "outputs": []
    },
    {
      "cell_type": "code",
      "metadata": {
        "id": "Btjr5phA-Zqk"
      },
      "source": [
        "df_test_merge.reset_index(inplace=True)"
      ],
      "execution_count": null,
      "outputs": []
    },
    {
      "cell_type": "code",
      "metadata": {
        "id": "fHxIFmEK-cQJ"
      },
      "source": [
        "df_test_merge['timestamp']=pd.to_datetime(df_test_merge['timestamp'])"
      ],
      "execution_count": null,
      "outputs": []
    },
    {
      "cell_type": "code",
      "metadata": {
        "id": "s55uH_6--e-S"
      },
      "source": [
        "df_test_merge['day']=df_test_merge['timestamp'].dt.day\r\n",
        "df_test_merge['month']=df_test_merge['timestamp'].dt.month"
      ],
      "execution_count": null,
      "outputs": []
    },
    {
      "cell_type": "code",
      "metadata": {
        "colab": {
          "base_uri": "https://localhost:8080/"
        },
        "id": "j4EBca6P-hmR",
        "outputId": "28e4bc73-d5f8-41b3-fa2a-95be793cf29a"
      },
      "source": [
        "df_test_merge_red=reduce_mem_usage(df_test_merge,verbose=True)"
      ],
      "execution_count": null,
      "outputs": [
        {
          "output_type": "stream",
          "text": [
            "Mem. usage decreased to 1988.30 Mb (26.5% reduction)\n"
          ],
          "name": "stdout"
        }
      ]
    },
    {
      "cell_type": "code",
      "metadata": {
        "id": "2r-qBuMd-laH"
      },
      "source": [
        "del df_test_merge"
      ],
      "execution_count": null,
      "outputs": []
    },
    {
      "cell_type": "code",
      "metadata": {
        "id": "LAX_JS8_-np8"
      },
      "source": [
        "df_test_merge_red[['year_built','air_temperature','dew_temperature','cloud_coverage','precip_depth_1_hr','sea_level_pressure','wind_direction','wind_speed']]=df_test_merge_red[['year_built','air_temperature','dew_temperature','cloud_coverage','precip_depth_1_hr','sea_level_pressure','wind_direction','wind_speed']].astype(np.float32)"
      ],
      "execution_count": null,
      "outputs": []
    },
    {
      "cell_type": "markdown",
      "metadata": {
        "id": "6wxZt5fAUPnk"
      },
      "source": [
        "**FROM HERE I WILL BE IMPTUING THE MISSING VALUES**\r\n",
        "\r\n",
        "1.   HERE THE BUILDINGS ARE PRESENT AT DIFFERENT GEOGRAPHICAL LOCATIONS DUE TO WHICH THERE ARE VARIATIONS OVER THE WEATHER CONDITIONS.\r\n",
        "\r\n",
        "2.   SO INSTEAD OF IMPUTING IT DIRECTLY BY TAKING THE MEAN HERE I AM GROUPING IT BY THE SITE ID MONTH AND DAY WHICH PROVIDES A MORE ACCURATE DATA FOR FILLING THE MISSING VALUE.\r\n",
        "\r\n"
      ]
    },
    {
      "cell_type": "code",
      "metadata": {
        "id": "6S4a8OEk-rCK"
      },
      "source": [
        "cc_fill=df_test_merge_red.groupby(['site_id','day','month'])['cloud_coverage'].median().reset_index()\r\n",
        "cc_fill.rename(columns={'cloud_coverage':'cc_filler'},inplace=True)\r\n",
        "cc_fill['cc_filler'].fillna(method='ffill',inplace=True)\r\n",
        "df_test_merge_red=df_test_merge_red.merge(cc_fill,how='left',on=['site_id','day','month'])\r\n",
        "df_test_merge_red['cloud_coverage'].fillna(df_test_merge_red['cc_filler'],inplace=True)\r\n",
        "df_test_merge_red.drop(labels=['cc_filler'],axis=1,inplace=True)"
      ],
      "execution_count": null,
      "outputs": []
    },
    {
      "cell_type": "code",
      "metadata": {
        "id": "cYaYkYjg-0C3"
      },
      "source": [
        "wd_fill=df_test_merge_red.groupby(['site_id','day','month'])['wind_direction'].median().reset_index()\r\n",
        "wd_fill.rename(columns={'wind_direction':'wind_direction_filler'},inplace=True)\r\n",
        "df_test_merge_red=df_test_merge_red.merge(wd_fill,how='left',on=['site_id','day','month'])\r\n",
        "df_test_merge_red['wind_direction'].fillna(df_test_merge_red['wind_direction_filler'],inplace=True)\r\n",
        "df_test_merge_red.drop(labels=['wind_direction_filler'],axis=1,inplace=True)"
      ],
      "execution_count": null,
      "outputs": []
    },
    {
      "cell_type": "code",
      "metadata": {
        "id": "APu2zrkG-29G"
      },
      "source": [
        "ws_fill=df_test_merge_red.groupby(['site_id','day','month'])['wind_speed'].median().reset_index()\r\n",
        "ws_fill.rename(columns={'wind_speed':'wind_speed_filler'},inplace=True)\r\n",
        "df_test_merge_red=df_test_merge_red.merge(ws_fill,how='left',on=['site_id','day','month'])\r\n",
        "df_test_merge_red['wind_speed'].fillna(df_test_merge_red['wind_speed_filler'],inplace=True)\r\n",
        "df_test_merge_red.drop(labels=['wind_speed_filler'],axis=1,inplace=True)"
      ],
      "execution_count": null,
      "outputs": []
    },
    {
      "cell_type": "code",
      "metadata": {
        "id": "eh7f8MHk-6j0"
      },
      "source": [
        "slp_fill=df_test_merge_red.groupby(['site_id','day','month'])['sea_level_pressure'].median().reset_index()\r\n",
        "slp_fill.rename(columns={'sea_level_pressure':'slp_filler'},inplace=True)\r\n",
        "slp_fill.fillna(method='ffill',inplace=True)\r\n",
        "df_test_merge_red=df_test_merge_red.merge(slp_fill,how='left',on=['site_id','day','month'])\r\n",
        "df_test_merge_red['sea_level_pressure'].fillna(df_test_merge_red['slp_filler'],inplace=True)\r\n",
        "df_test_merge_red.drop(labels=['slp_filler'],axis=1,inplace=True)"
      ],
      "execution_count": null,
      "outputs": []
    },
    {
      "cell_type": "code",
      "metadata": {
        "id": "pfw7ChxR-9vG"
      },
      "source": [
        "pd_fill=df_test_merge_red.groupby(['site_id','day','month'])['precip_depth_1_hr'].median().reset_index()\r\n",
        "pd_fill.rename(columns={'precip_depth_1_hr':'pd_filler'},inplace=True)\r\n",
        "pd_fill['pd_filler'].fillna(method='ffill',inplace=True)\r\n",
        "df_test_merge_red=df_test_merge_red.merge(pd_fill,how='left',on=['site_id','day','month'])\r\n",
        "df_test_merge_red['precip_depth_1_hr'].fillna(df_test_merge_red['pd_filler'],inplace=True)\r\n",
        "df_test_merge_red.drop(labels=['pd_filler'],axis=1,inplace=True)"
      ],
      "execution_count": null,
      "outputs": []
    },
    {
      "cell_type": "code",
      "metadata": {
        "id": "NRuLJ83T_E8z"
      },
      "source": [
        "yb_fill=df_test_merge_red.groupby(['site_id','day','month'])['year_built'].median().reset_index()\r\n",
        "yb_fill.rename(columns={'year_built':'yb_filler'},inplace=True)\r\n",
        "yb_fill['yb_filler'].fillna(method='ffill',inplace=True)\r\n",
        "df_test_merge_red=df_test_merge_red.merge(yb_fill,how='left',on=['site_id','day','month'])\r\n",
        "df_test_merge_red['year_built'].fillna(df_test_merge_red['yb_filler'],inplace=True)\r\n",
        "df_test_merge_red.drop(labels=['yb_filler'],axis=1,inplace=True)"
      ],
      "execution_count": null,
      "outputs": []
    },
    {
      "cell_type": "code",
      "metadata": {
        "id": "CGdyKw0L_H3H"
      },
      "source": [
        "df_test_merge_red['air_temperature']=df_test_merge_red['air_temperature'].interpolate(method='linear')\r\n",
        "df_test_merge_red['dew_temperature']=df_test_merge_red['dew_temperature'].interpolate(method='linear')"
      ],
      "execution_count": null,
      "outputs": []
    },
    {
      "cell_type": "markdown",
      "metadata": {
        "id": "YeBL7p_HUdHM"
      },
      "source": [
        "**AIR-TEMPERATURE ALIGNMENT**\r\n",
        "\r\n",
        "1.   HERE THE AIR TEMPERATURE IS NOT ALIGNED WITH THE LOCAL TIMESTAMP OF THE METER READINGS.\r\n",
        "2.   FOR 13 DIFFERENT SITES THE AIR TEMPERATURE MAXIMIZES AROUND 19:00 PM TO 23:00 PM WHICH NEEDS TO BE CORRECTED SO THAT THE MODEL CAN BEST IDENTIFY THE ENERGY PATTERN ACCORDING TO THE TEMPERATURE VARIATIONS OVER THE HOUR.\r\n",
        "\r\n"
      ]
    },
    {
      "cell_type": "code",
      "metadata": {
        "id": "yQ5ojZue_O6D"
      },
      "source": [
        "from datetime import timedelta"
      ],
      "execution_count": null,
      "outputs": []
    },
    {
      "cell_type": "code",
      "metadata": {
        "id": "illv9o1Z_aKu"
      },
      "source": [
        "df_test_site_0=df_test_merge_red[df_test_merge_red['site_id']==0]\r\n",
        "df_test_site_0.reset_index(inplace=True)\r\n",
        "df_test_site_0['timestamp_aligned']=df_test_site_0['timestamp']-timedelta(hours=5,minutes=0)\r\n",
        "df_air_temp_timestamp=df_test_site_0[['timestamp_aligned','building_id','meter','air_temperature']].copy()\r\n",
        "df_air_temp_timestamp.rename(columns={'timestamp_aligned':'timestamp'},inplace=True)\r\n",
        "df_test_site_0.drop(['air_temperature','timestamp_aligned'],axis=1,inplace=True)\r\n",
        "df_test_site_0['air_temperature_aligned']=df_air_temp_timestamp[df_air_temp_timestamp['timestamp'].isin(df_test_site_0['timestamp'])].reset_index(drop=True)['air_temperature']\r\n",
        "df_test_site_0['air_temperature_aligned']=df_test_site_0['air_temperature_aligned'].interpolate()\r\n",
        "df_test_site_0.rename(columns={'air_temperature_aligned':'air_temperature'},inplace=True)\r\n",
        "df_test_site_0.drop(['level_0','index'],axis=1,inplace=True)"
      ],
      "execution_count": null,
      "outputs": []
    },
    {
      "cell_type": "code",
      "metadata": {
        "id": "iXa8g7B__cqu"
      },
      "source": [
        "df_test_site_1=df_test_merge_red[df_test_merge_red['site_id']==1]\r\n",
        "df_test_site_1.reset_index(inplace=True)\r\n",
        "df_test_site_1.drop(['index','level_0'],axis=1,inplace=True)"
      ],
      "execution_count": null,
      "outputs": []
    },
    {
      "cell_type": "code",
      "metadata": {
        "id": "C94M7fgg_gzd"
      },
      "source": [
        "df_test_site_2=df_test_merge_red[df_test_merge_red['site_id']==2]\r\n",
        "df_test_site_2.reset_index(inplace=True)\r\n",
        "df_test_site_2['timestamp_aligned']=df_test_site_2['timestamp']-timedelta(hours=7,minutes=0)\r\n",
        "df_air_temp_timestamp=df_test_site_2[['timestamp_aligned','building_id','meter','air_temperature']].copy()\r\n",
        "df_air_temp_timestamp.rename(columns={'timestamp_aligned':'timestamp'},inplace=True)\r\n",
        "df_test_site_2.drop(['air_temperature','timestamp_aligned'],axis=1,inplace=True)\r\n",
        "df_test_site_2['air_temperature_aligned']=df_air_temp_timestamp[df_air_temp_timestamp['timestamp'].isin(df_test_site_2['timestamp'])].reset_index(drop=True)['air_temperature']\r\n",
        "df_test_site_2['air_temperature_aligned']=df_test_site_2['air_temperature_aligned'].interpolate()\r\n",
        "df_test_site_2.rename(columns={'air_temperature_aligned':'air_temperature'},inplace=True)\r\n",
        "df_test_site_2.drop(['level_0','index'],axis=1,inplace=True)"
      ],
      "execution_count": null,
      "outputs": []
    },
    {
      "cell_type": "code",
      "metadata": {
        "id": "729zUoEX_lAD"
      },
      "source": [
        "df_test_site_3=df_test_merge_red[df_test_merge_red['site_id']==3]\r\n",
        "df_test_site_3.reset_index(inplace=True)\r\n",
        "df_test_site_3['timestamp_aligned']=df_test_site_3['timestamp']-timedelta(hours=5,minutes=0)\r\n",
        "df_air_temp_timestamp=df_test_site_3[['timestamp_aligned','building_id','meter','air_temperature']].copy()\r\n",
        "df_air_temp_timestamp.rename(columns={'timestamp_aligned':'timestamp'},inplace=True)\r\n",
        "df_test_site_3.drop(['air_temperature','timestamp_aligned'],axis=1,inplace=True)\r\n",
        "df_test_site_3['air_temperature_aligned']=df_air_temp_timestamp[df_air_temp_timestamp['timestamp'].isin(df_test_site_3['timestamp'])].reset_index(drop=True)['air_temperature']\r\n",
        "df_test_site_3['air_temperature_aligned']=df_test_site_3['air_temperature_aligned'].interpolate()\r\n",
        "df_test_site_3.rename(columns={'air_temperature_aligned':'air_temperature'},inplace=True)\r\n",
        "df_test_site_3.drop(['level_0','index'],axis=1,inplace=True)"
      ],
      "execution_count": null,
      "outputs": []
    },
    {
      "cell_type": "code",
      "metadata": {
        "id": "nuEDYRi6_nlR"
      },
      "source": [
        "df_test_site_4=df_test_merge_red[df_test_merge_red['site_id']==4]\r\n",
        "df_test_site_4.reset_index(inplace=True)\r\n",
        "df_test_site_4['timestamp_aligned']=df_test_site_4['timestamp']-timedelta(hours=8,minutes=0)\r\n",
        "df_air_temp_timestamp=df_test_site_4[['timestamp_aligned','building_id','meter','air_temperature']].copy()\r\n",
        "df_air_temp_timestamp.rename(columns={'timestamp_aligned':'timestamp'},inplace=True)\r\n",
        "df_test_site_4.drop(['air_temperature','timestamp_aligned'],axis=1,inplace=True)\r\n",
        "df_test_site_4['air_temperature_aligned']=df_air_temp_timestamp[df_air_temp_timestamp['timestamp'].isin(df_test_site_4['timestamp'])].reset_index(drop=True)['air_temperature']\r\n",
        "df_test_site_4['air_temperature_aligned']=df_test_site_4['air_temperature_aligned'].interpolate()\r\n",
        "df_test_site_4.rename(columns={'air_temperature_aligned':'air_temperature'},inplace=True)\r\n",
        "df_test_site_4.drop(['level_0','index'],axis=1,inplace=True)"
      ],
      "execution_count": null,
      "outputs": []
    },
    {
      "cell_type": "code",
      "metadata": {
        "id": "j7UsuyU3_qBu"
      },
      "source": [
        "df_test_site_5=df_test_merge_red[df_test_merge_red['site_id']==5]\r\n",
        "df_test_site_5.reset_index(inplace=True)\r\n",
        "df_test_site_5.drop(['index','level_0'],axis=1,inplace=True)"
      ],
      "execution_count": null,
      "outputs": []
    },
    {
      "cell_type": "code",
      "metadata": {
        "id": "LEvJQv_Q_svV"
      },
      "source": [
        "df_test_site_6=df_test_merge_red[df_test_merge_red['site_id']==6]\r\n",
        "df_test_site_6.reset_index(inplace=True)\r\n",
        "df_test_site_6['timestamp_aligned']=df_test_site_6['timestamp']-timedelta(hours=5,minutes=0)\r\n",
        "df_air_temp_timestamp=df_test_site_6[['timestamp_aligned','building_id','meter','air_temperature']].copy()\r\n",
        "df_air_temp_timestamp.rename(columns={'timestamp_aligned':'timestamp'},inplace=True)\r\n",
        "df_test_site_6.drop(['air_temperature','timestamp_aligned'],axis=1,inplace=True)\r\n",
        "df_test_site_6['air_temperature_aligned']=df_air_temp_timestamp[df_air_temp_timestamp['timestamp'].isin(df_test_site_6['timestamp'])].reset_index(drop=True)['air_temperature']\r\n",
        "df_test_site_6['air_temperature_aligned']=df_test_site_6['air_temperature_aligned'].interpolate()\r\n",
        "df_test_site_6.rename(columns={'air_temperature_aligned':'air_temperature'},inplace=True)\r\n",
        "df_test_site_6.drop(['level_0','index'],axis=1,inplace=True)"
      ],
      "execution_count": null,
      "outputs": []
    },
    {
      "cell_type": "code",
      "metadata": {
        "id": "V2Aluz6w_vYJ"
      },
      "source": [
        "df_test_site_7=df_test_merge_red[df_test_merge_red['site_id']==7]\r\n",
        "df_test_site_7.reset_index(inplace=True)\r\n",
        "df_test_site_7['timestamp_aligned']=df_test_site_7['timestamp']-timedelta(hours=5,minutes=0)\r\n",
        "df_air_temp_timestamp=df_test_site_7[['timestamp_aligned','building_id','meter','air_temperature']].copy()\r\n",
        "df_air_temp_timestamp.rename(columns={'timestamp_aligned':'timestamp'},inplace=True)\r\n",
        "df_test_site_7.drop(['air_temperature','timestamp_aligned'],axis=1,inplace=True)\r\n",
        "df_test_site_7['air_temperature_aligned']=df_air_temp_timestamp[df_air_temp_timestamp['timestamp'].isin(df_test_site_7['timestamp'])].reset_index(drop=True)['air_temperature']\r\n",
        "df_test_site_7['air_temperature_aligned']=df_test_site_7['air_temperature_aligned'].interpolate()\r\n",
        "df_test_site_7.rename(columns={'air_temperature_aligned':'air_temperature'},inplace=True)\r\n",
        "df_test_site_7.drop(['level_0','index'],axis=1,inplace=True)"
      ],
      "execution_count": null,
      "outputs": []
    },
    {
      "cell_type": "code",
      "metadata": {
        "id": "bVO11g5n_yah"
      },
      "source": [
        "df_test_site_8=df_test_merge_red[df_test_merge_red['site_id']==8]\r\n",
        "df_test_site_8.reset_index(inplace=True)\r\n",
        "df_test_site_8['timestamp_aligned']=df_test_site_8['timestamp']-timedelta(hours=5,minutes=0)\r\n",
        "df_air_temp_timestamp=df_test_site_8[['timestamp_aligned','building_id','meter','air_temperature']].copy()\r\n",
        "df_air_temp_timestamp.rename(columns={'timestamp_aligned':'timestamp'},inplace=True)\r\n",
        "df_test_site_8.drop(['air_temperature','timestamp_aligned'],axis=1,inplace=True)\r\n",
        "df_test_site_8['air_temperature_aligned']=df_air_temp_timestamp[df_air_temp_timestamp['timestamp'].isin(df_test_site_8['timestamp'])].reset_index(drop=True)['air_temperature']\r\n",
        "df_test_site_8['air_temperature_aligned']=df_test_site_8['air_temperature_aligned'].interpolate()\r\n",
        "df_test_site_8.rename(columns={'air_temperature_aligned':'air_temperature'},inplace=True)\r\n",
        "df_test_site_8.drop(['level_0','index'],axis=1,inplace=True)"
      ],
      "execution_count": null,
      "outputs": []
    },
    {
      "cell_type": "code",
      "metadata": {
        "id": "WVi1oNCg_0xC"
      },
      "source": [
        "df_test_site_9=df_test_merge_red[df_test_merge_red['site_id']==9]\r\n",
        "df_test_site_9.reset_index(inplace=True)\r\n",
        "df_test_site_9['timestamp_aligned']=df_test_site_9['timestamp']-timedelta(hours=6,minutes=0)\r\n",
        "df_air_temp_timestamp=df_test_site_9[['timestamp_aligned','building_id','meter','air_temperature']].copy()\r\n",
        "df_air_temp_timestamp.rename(columns={'timestamp_aligned':'timestamp'},inplace=True)\r\n",
        "df_test_site_9.drop(['air_temperature','timestamp_aligned'],axis=1,inplace=True)\r\n",
        "df_test_site_9['air_temperature_aligned']=df_air_temp_timestamp[df_air_temp_timestamp['timestamp'].isin(df_test_site_9['timestamp'])].reset_index(drop=True)['air_temperature']\r\n",
        "df_test_site_9['air_temperature_aligned']=df_test_site_9['air_temperature_aligned'].interpolate()\r\n",
        "df_test_site_9.rename(columns={'air_temperature_aligned':'air_temperature'},inplace=True)\r\n",
        "df_test_site_9.drop(['level_0','index'],axis=1,inplace=True)"
      ],
      "execution_count": null,
      "outputs": []
    },
    {
      "cell_type": "code",
      "metadata": {
        "id": "_0fV4q2G_3Jh"
      },
      "source": [
        "df_test_site_10=df_test_merge_red[df_test_merge_red['site_id']==10]\r\n",
        "df_test_site_10.reset_index(inplace=True)\r\n",
        "df_test_site_10['timestamp_aligned']=df_test_site_10['timestamp']-timedelta(hours=7,minutes=0)\r\n",
        "df_air_temp_timestamp=df_test_site_10[['timestamp_aligned','building_id','meter','air_temperature']].copy()\r\n",
        "df_air_temp_timestamp.rename(columns={'timestamp_aligned':'timestamp'},inplace=True)\r\n",
        "df_test_site_10.drop(['air_temperature','timestamp_aligned'],axis=1,inplace=True)\r\n",
        "df_test_site_10['air_temperature_aligned']=df_air_temp_timestamp[df_air_temp_timestamp['timestamp'].isin(df_test_site_10['timestamp'])].reset_index(drop=True)['air_temperature']\r\n",
        "df_test_site_10['air_temperature_aligned']=df_test_site_10['air_temperature_aligned'].interpolate()\r\n",
        "df_test_site_10.rename(columns={'air_temperature_aligned':'air_temperature'},inplace=True)\r\n",
        "df_test_site_10.drop(['level_0','index'],axis=1,inplace=True)"
      ],
      "execution_count": null,
      "outputs": []
    },
    {
      "cell_type": "code",
      "metadata": {
        "id": "R0zih06o_5pb"
      },
      "source": [
        "df_test_site_11=df_test_merge_red[df_test_merge_red['site_id']==11]\r\n",
        "df_test_site_11.reset_index(inplace=True)\r\n",
        "df_test_site_11['timestamp_aligned']=df_test_site_11['timestamp']-timedelta(hours=5,minutes=0)\r\n",
        "df_air_temp_timestamp=df_test_site_11[['timestamp_aligned','building_id','meter','air_temperature']].copy()\r\n",
        "df_air_temp_timestamp.rename(columns={'timestamp_aligned':'timestamp'},inplace=True)\r\n",
        "df_test_site_11.drop(['air_temperature','timestamp_aligned'],axis=1,inplace=True)\r\n",
        "df_test_site_11['air_temperature_aligned']=df_air_temp_timestamp[df_air_temp_timestamp['timestamp'].isin(df_test_site_11['timestamp'])].reset_index(drop=True)['air_temperature']\r\n",
        "df_test_site_11['air_temperature_aligned']=df_test_site_11['air_temperature_aligned'].interpolate()\r\n",
        "df_test_site_11.rename(columns={'air_temperature_aligned':'air_temperature'},inplace=True)\r\n",
        "df_test_site_11.drop(['level_0','index'],axis=1,inplace=True)"
      ],
      "execution_count": null,
      "outputs": []
    },
    {
      "cell_type": "code",
      "metadata": {
        "id": "1I-MCiAj_8yF"
      },
      "source": [
        "df_test_site_12=df_test_merge_red[df_test_merge_red['site_id']==12]\r\n",
        "df_test_site_12.reset_index(inplace=True)\r\n",
        "df_test_site_12.drop(['index','level_0'],axis=1,inplace=True)"
      ],
      "execution_count": null,
      "outputs": []
    },
    {
      "cell_type": "code",
      "metadata": {
        "id": "mHbmXNbk__fI"
      },
      "source": [
        "df_test_site_13=df_test_merge_red[df_test_merge_red['site_id']==13]\r\n",
        "df_test_site_13.reset_index(inplace=True)\r\n",
        "df_test_site_13['timestamp_aligned']=df_test_site_13['timestamp']-timedelta(hours=6,minutes=0)\r\n",
        "df_air_temp_timestamp=df_test_site_13[['timestamp_aligned','building_id','meter','air_temperature']].copy()\r\n",
        "df_air_temp_timestamp.rename(columns={'timestamp_aligned':'timestamp'},inplace=True)\r\n",
        "df_test_site_13.drop(['air_temperature','timestamp_aligned'],axis=1,inplace=True)\r\n",
        "df_test_site_13['air_temperature_aligned']=df_air_temp_timestamp[df_air_temp_timestamp['timestamp'].isin(df_test_site_13['timestamp'])].reset_index(drop=True)['air_temperature']\r\n",
        "df_test_site_13['air_temperature_aligned']=df_test_site_13['air_temperature_aligned'].interpolate()\r\n",
        "df_test_site_13.rename(columns={'air_temperature_aligned':'air_temperature'},inplace=True)\r\n",
        "df_test_site_13.drop(['level_0','index'],axis=1,inplace=True)"
      ],
      "execution_count": null,
      "outputs": []
    },
    {
      "cell_type": "code",
      "metadata": {
        "id": "L_hVE-IyAB5B"
      },
      "source": [
        "df_test_site_14=df_test_merge_red[df_test_merge_red['site_id']==14]\r\n",
        "df_test_site_14.reset_index(inplace=True)\r\n",
        "df_test_site_14['timestamp_aligned']=df_test_site_14['timestamp']-timedelta(hours=5,minutes=0)\r\n",
        "df_air_temp_timestamp=df_test_site_14[['timestamp_aligned','building_id','meter','air_temperature']].copy()\r\n",
        "df_air_temp_timestamp.rename(columns={'timestamp_aligned':'timestamp'},inplace=True)\r\n",
        "df_test_site_14.drop(['air_temperature','timestamp_aligned'],axis=1,inplace=True)\r\n",
        "df_test_site_14['air_temperature_aligned']=df_air_temp_timestamp[df_air_temp_timestamp['timestamp'].isin(df_test_site_14['timestamp'])].reset_index(drop=True)['air_temperature']\r\n",
        "df_test_site_14['air_temperature_aligned']=df_test_site_14['air_temperature_aligned'].interpolate()\r\n",
        "df_test_site_14.rename(columns={'air_temperature_aligned':'air_temperature'},inplace=True)\r\n",
        "df_test_site_14.drop(['level_0','index'],axis=1,inplace=True)"
      ],
      "execution_count": null,
      "outputs": []
    },
    {
      "cell_type": "code",
      "metadata": {
        "id": "N4q_sqXPAEWP"
      },
      "source": [
        "df_test_site_15=df_test_merge_red[df_test_merge_red['site_id']==15]\r\n",
        "df_test_site_15.reset_index(inplace=True)\r\n",
        "df_test_site_15['timestamp_aligned']=df_test_site_15['timestamp']-timedelta(hours=5,minutes=0)\r\n",
        "df_air_temp_timestamp=df_test_site_15[['timestamp_aligned','building_id','meter','air_temperature']].copy()\r\n",
        "df_air_temp_timestamp.rename(columns={'timestamp_aligned':'timestamp'},inplace=True)\r\n",
        "df_test_site_15.drop(['air_temperature','timestamp_aligned'],axis=1,inplace=True)\r\n",
        "df_test_site_15['air_temperature_aligned']=df_air_temp_timestamp[df_air_temp_timestamp['timestamp'].isin(df_test_site_15['timestamp'])].reset_index(drop=True)['air_temperature']\r\n",
        "df_test_site_15['air_temperature_aligned']=df_test_site_15['air_temperature_aligned'].interpolate()\r\n",
        "df_test_site_15.rename(columns={'air_temperature_aligned':'air_temperature'},inplace=True)\r\n",
        "df_test_site_15.drop(['level_0','index'],axis=1,inplace=True)"
      ],
      "execution_count": null,
      "outputs": []
    },
    {
      "cell_type": "markdown",
      "metadata": {
        "id": "igxoJdNFUu_m"
      },
      "source": [
        "**END OF AIR-TEMPERATURE ALIGNMENT**"
      ]
    },
    {
      "cell_type": "markdown",
      "metadata": {
        "id": "yFa5GsIzyHG0"
      },
      "source": [
        "**Merging the data from all the different sites and then merging it with the original test df so that I can get the information in the correct order needed for prediction.**"
      ]
    },
    {
      "cell_type": "code",
      "metadata": {
        "id": "0LamAwq9AHCi"
      },
      "source": [
        "df_te=pd.concat([df_test_site_0,df_test_site_1,df_test_site_2,df_test_site_3,df_test_site_4,\r\n",
        "                                 df_test_site_5,df_test_site_6,df_test_site_7,df_test_site_8,df_test_site_9,\r\n",
        "                                 df_test_site_10,df_test_site_11,df_test_site_12,df_test_site_13,df_test_site_14,\r\n",
        "                                 df_test_site_15],axis=0)"
      ],
      "execution_count": null,
      "outputs": []
    },
    {
      "cell_type": "code",
      "metadata": {
        "id": "Jlg9vr8ZAOCq"
      },
      "source": [
        "df_te.reset_index(inplace=True)"
      ],
      "execution_count": null,
      "outputs": []
    },
    {
      "cell_type": "code",
      "metadata": {
        "id": "0grlr2upASHm"
      },
      "source": [
        "df_te.drop(['row_id','index','primary_use','square_feet','year_built','cloud_coverage','dew_temperature',\r\n",
        "            'precip_depth_1_hr','sea_level_pressure','wind_direction','wind_speed','day','month'],axis=1,inplace=True)\r\n",
        "df_test_merge_red.drop('index',axis=1,inplace=True)"
      ],
      "execution_count": null,
      "outputs": []
    },
    {
      "cell_type": "code",
      "metadata": {
        "id": "QABTcNFQD5wU"
      },
      "source": [
        "df_te.rename(columns={'air_temperature':'air_temperature_aligned'},inplace=True)"
      ],
      "execution_count": null,
      "outputs": []
    },
    {
      "cell_type": "code",
      "metadata": {
        "id": "xynFfwqAAaa5"
      },
      "source": [
        "df_test_merge_red_final=pd.merge(left=df_test_merge_red,right=df_te,on=['site_id','timestamp','meter','building_id'])"
      ],
      "execution_count": null,
      "outputs": []
    },
    {
      "cell_type": "code",
      "metadata": {
        "id": "fNcI06qPEm1H"
      },
      "source": [
        "del df_test_merge_red,df_te\r\n",
        "del df_test_site_0,df_test_site_1,df_test_site_2,df_test_site_3,df_test_site_4,df_test_site_5,df_test_site_6,df_test_site_7,df_test_site_8,df_test_site_9,df_test_site_10,df_test_site_11,df_test_site_12,df_test_site_13,df_test_site_14,df_test_site_15"
      ],
      "execution_count": null,
      "outputs": []
    },
    {
      "cell_type": "code",
      "metadata": {
        "id": "LUVXKf9ydpgz"
      },
      "source": [
        "df_test_merge_red_final.drop('air_temperature',axis=1,inplace=True)\r\n",
        "df_test_merge_red_final.rename(columns={'air_temperature_aligned':'air_temperature'},inplace=True)"
      ],
      "execution_count": null,
      "outputs": []
    },
    {
      "cell_type": "markdown",
      "metadata": {
        "id": "dtt1FOUkU1eJ"
      },
      "source": [
        "**FEATURE ENGINEERING**\r\n",
        "\r\n",
        "1.   RELATIVE HUMIDITY-->HUMIDITY AFFECTS THE ENERGY REQUIREMENTS OF THE BUILDINGS.AS HUMIDITY INCREASES THE LOAD ON THE HVAC SYSTEM INCREASES DUE TO WHICH THE METER READINGS ARE AFFECTED.THIS FEATURE WILL HELP THE MODEL TO LEARN THE ENRGY REQUIREMENTS ACCORDING TO THE HUMIDITY FACTOR.\r\n",
        "\r\n",
        "2.   IS SUMMER MONTH & IS WINTER MONTH--> CHILLED WATER HOT WATER AND STEAM READINGS SHOW CONSIDERABLE PATTERN OVER THE SEASONS.THIS FEATURE WILL HELP THE MODEL TO LEARN THAT.\r\n",
        "\r\n",
        "3.   HOLIDAYS-->AS THE ENERGY REQUIREMENTS MIGHT BE DIFFERENT DURING THE HOLIDAY AS COMPARED TO THE OTHER DAYS INCLUDING THIS FEATURE WILL HELP THE MODEL TO LEARN THAT.\r\n",
        "\r\n",
        "4.   BUSY-HOURS-->AS THE ENERGY REQUIREMENTS ARE DIFFERENT OVER THE DAY THAN THE NIGHT.SO TO HELP THE MODEL LEARN THAT WE CAN USE BUSY HOURS(6:00 AM TO 18:00 PM).\r\n",
        "\r\n",
        "5.   IS WEEKDAY-->THIS FEATURE IS ADDED TO CHECK THE ENRGY REQUIREMENTS OF THE WEEKDAY AS COMPARED TO THE WEEKEND.AS OBSERVED IN THE EDA IT SHOWS A SIGNIFICANT TREND OVER THE WEEK AS COMPARED TO THE WEEKEND FOR ALL THE ENERGY METER.\r\n",
        "\r\n",
        "6.   ADDING BASIC TIMESTAMP FEATURES SUCH AS DAY MONTH AND HOUR.\r\n",
        "\r\n"
      ]
    },
    {
      "cell_type": "code",
      "metadata": {
        "id": "lvTVIsgEetw5"
      },
      "source": [
        "saturated_vapor_pressure = 6.11 * (10**(7.5*df_test_merge_red_final['air_temperature']/(237.3+df_test_merge_red_final['air_temperature'])))\r\n",
        "actual_vapor_pressure = 6.11 * (10**(7.5*df_test_merge_red_final['dew_temperature']/(237.3+df_test_merge_red_final['dew_temperature'])))\r\n",
        "df_test_merge_red_final['relative_humidity']=(actual_vapor_pressure/saturated_vapor_pressure)*100"
      ],
      "execution_count": null,
      "outputs": []
    },
    {
      "cell_type": "code",
      "metadata": {
        "id": "k3SQlYpKiR8V"
      },
      "source": [
        "df_test_merge_red_final['is_winter_month']=(df_test_merge_red_final['month'].isin([12,1,2])).astype(int)\r\n",
        "df_test_merge_red_final['is_summer_month']=(df_test_merge_red_final['month'].isin([6,7,8])).astype(int)\r\n",
        "df_test_merge_red_final['weekday']=df_test_merge_red_final['timestamp'].dt.weekday"
      ],
      "execution_count": null,
      "outputs": []
    },
    {
      "cell_type": "code",
      "metadata": {
        "id": "TSknVOHCi0EJ"
      },
      "source": [
        "holidays = [\"2017-01-01\", \"2017-01-16\", \"2017-02-20\", \"2017-05-29\", \"2017-07-04\",\r\n",
        "            \"2017-09-04\", \"2017-10-09\", \"2017-11-10\", \"2017-11-23\", \"2017-12-25\",\r\n",
        "            \"2018-01-01\", \"2018-01-15\", \"2018-02-19\", \"2018-05-28\", \"2018-07-04\",\r\n",
        "            \"2018-09-03\", \"2018-10-08\", \"2018-11-12\", \"2018-11-22\", \"2018-12-25\",\r\n",
        "            \"2019-01-01\"]"
      ],
      "execution_count": null,
      "outputs": []
    },
    {
      "cell_type": "code",
      "metadata": {
        "id": "3TwGl9s4jDgT"
      },
      "source": [
        "holiday_datetime=pd.to_datetime(holidays,yearfirst=True)\r\n",
        "df_test_merge_red_final['is_pub_holiday']=(df_test_merge_red_final['timestamp'].dt.date.isin(holiday_datetime.date)).astype(int)\r\n",
        "df_test_merge_red_final['is_weekday']=((~df_test_merge_red_final['timestamp'].dt.date.isin(holiday_datetime.date))&(df_test_merge_red_final['weekday'].isin([0,1,2,3,4]))).astype(int)"
      ],
      "execution_count": null,
      "outputs": []
    },
    {
      "cell_type": "code",
      "metadata": {
        "id": "uH6IAjiAjXD8"
      },
      "source": [
        "z_busy_hours=df_test_merge_red_final.set_index(['timestamp']).between_time('06:00:00','18:00:00').reset_index()\r\n",
        "z_busy_hours_timestamp=[i for i in z_busy_hours['timestamp']]\r\n",
        "df_test_merge_red_final['busy_hours']=((~df_test_merge_red_final['timestamp'].dt.date.isin(holiday_datetime.date))&(df_test_merge_red_final['timestamp'].isin(z_busy_hours_timestamp))).astype(int)"
      ],
      "execution_count": null,
      "outputs": []
    },
    {
      "cell_type": "code",
      "metadata": {
        "id": "fPiLQu8PoQjF"
      },
      "source": [
        "df_test_merge_red_final['hour']=df_test_merge_red_final['timestamp'].dt.hour"
      ],
      "execution_count": null,
      "outputs": []
    },
    {
      "cell_type": "markdown",
      "metadata": {
        "id": "Zo2RfN5LyjnK"
      },
      "source": [
        "**End of Feature engineering**"
      ]
    },
    {
      "cell_type": "code",
      "metadata": {
        "colab": {
          "base_uri": "https://localhost:8080/"
        },
        "id": "EHLTZsJCk6L-",
        "outputId": "16f99728-7304-4026-c03d-6c4594c22be4"
      },
      "source": [
        "df_te_red=reduce_mem_usage(df_test_merge_red_final,verbose=True)"
      ],
      "execution_count": null,
      "outputs": [
        {
          "output_type": "stream",
          "text": [
            "Mem. usage decreased to 2505.25 Mb (53.0% reduction)\n"
          ],
          "name": "stdout"
        }
      ]
    },
    {
      "cell_type": "code",
      "metadata": {
        "id": "bLS1bMzxlAjr"
      },
      "source": [
        "del df_test_merge_red_final"
      ],
      "execution_count": null,
      "outputs": []
    },
    {
      "cell_type": "code",
      "metadata": {
        "id": "z5Mx09eCnB8V"
      },
      "source": [
        "df_te_red.drop(['timestamp'],axis=1,inplace=True)"
      ],
      "execution_count": null,
      "outputs": []
    },
    {
      "cell_type": "markdown",
      "metadata": {
        "id": "2IfSk3RSy0iv"
      },
      "source": [
        "**Label Encoding of the categorical variables**"
      ]
    },
    {
      "cell_type": "code",
      "metadata": {
        "id": "hI249wsanKQu"
      },
      "source": [
        "label_encoder=LabelEncoder()\r\n",
        "df_te_red['primary_use']=label_encoder.fit_transform(df_te_red['primary_use'])"
      ],
      "execution_count": null,
      "outputs": []
    },
    {
      "cell_type": "code",
      "metadata": {
        "colab": {
          "base_uri": "https://localhost:8080/"
        },
        "id": "M0xQqU_5uaSh",
        "outputId": "1be7ac81-f821-4ab5-f088-61aa22559822"
      },
      "source": [
        "df_te_red_final=reduce_mem_usage(df_te_red,verbose=True)"
      ],
      "execution_count": null,
      "outputs": [
        {
          "output_type": "stream",
          "text": [
            "Mem. usage decreased to 1908.76 Mb (12.7% reduction)\n"
          ],
          "name": "stdout"
        }
      ]
    },
    {
      "cell_type": "code",
      "metadata": {
        "id": "Bvw1qYm7upTb"
      },
      "source": [
        "del df_te_red"
      ],
      "execution_count": null,
      "outputs": []
    },
    {
      "cell_type": "markdown",
      "metadata": {
        "id": "FJ6aopO0y7kj"
      },
      "source": [
        "**Storing my final test file on drive**"
      ]
    },
    {
      "cell_type": "code",
      "metadata": {
        "id": "hXuYUwfZ2F6z"
      },
      "source": [
        "filename='df_te_red_final_modified.txt'\r\n",
        "my_file=open(filename,'wb')"
      ],
      "execution_count": null,
      "outputs": []
    },
    {
      "cell_type": "code",
      "metadata": {
        "id": "tO4qUB7h2K0S"
      },
      "source": [
        "pickle.dump(df_te_red_final,my_file)"
      ],
      "execution_count": null,
      "outputs": []
    },
    {
      "cell_type": "code",
      "metadata": {
        "id": "MXXW9lK8zEHx"
      },
      "source": [
        "#REF-->https://towardsdatascience.com/forecasting-energy-consumption-using-neural-networks-xgboost-2032b6e6f7e2\r\n",
        "    #--->https://www.kaggle.com/gunesevitan/ashrae-eda-and-preprocessing\r\n",
        "    #--->https://www.kaggle.com/gemartin/load-data-reduce-memory-usage"
      ],
      "execution_count": null,
      "outputs": []
    }
  ]
}