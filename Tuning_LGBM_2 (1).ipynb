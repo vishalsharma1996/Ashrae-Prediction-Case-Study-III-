{
  "nbformat": 4,
  "nbformat_minor": 0,
  "metadata": {
    "colab": {
      "name": "Tuning_LGBM_2.ipynb",
      "provenance": [],
      "collapsed_sections": [],
      "machine_shape": "hm"
    },
    "kernelspec": {
      "name": "python3",
      "display_name": "Python 3"
    }
  },
  "cells": [
    {
      "cell_type": "markdown",
      "metadata": {
        "id": "Qe3jfa32Q0y9"
      },
      "source": [
        "**THIS FILE CONTAINS THE NECESSARY CODE FOR MODELLING AND HYPERPARAMETER TUNING FOR LGBM REGRESSOR.**"
      ]
    },
    {
      "cell_type": "code",
      "metadata": {
        "id": "RF9GPhJyUxYv"
      },
      "source": [
        "from google.colab import drive"
      ],
      "execution_count": null,
      "outputs": []
    },
    {
      "cell_type": "code",
      "metadata": {
        "colab": {
          "base_uri": "https://localhost:8080/"
        },
        "id": "Or-JhIeMUyHH",
        "outputId": "731fd0f0-a332-4653-f696-e1dded8d5a3d"
      },
      "source": [
        "drive.mount('/content/drive')"
      ],
      "execution_count": null,
      "outputs": [
        {
          "output_type": "stream",
          "text": [
            "Mounted at /content/drive\n"
          ],
          "name": "stdout"
        }
      ]
    },
    {
      "cell_type": "code",
      "metadata": {
        "id": "NiZH-C4GUyeV"
      },
      "source": [
        "import pickle\r\n",
        "import pandas as pd\r\n",
        "import matplotlib.pyplot as plt\r\n",
        "import numpy as np\r\n",
        "import seaborn as sns\r\n",
        "from tqdm import tqdm\r\n",
        "import sklearn"
      ],
      "execution_count": null,
      "outputs": []
    },
    {
      "cell_type": "code",
      "metadata": {
        "id": "knuNsAr3Uy0P"
      },
      "source": [
        "from sklearn.preprocessing import LabelEncoder,MinMaxScaler\r\n",
        "from sklearn.model_selection import StratifiedKFold,KFold\r\n",
        "import lightgbm as lgb\r\n",
        "from lightgbm import LGBMRegressor\r\n",
        "from sklearn.model_selection import RandomizedSearchCV\r\n",
        "from sklearn.metrics import mean_squared_error\r\n",
        "import xgboost\r\n",
        "from sklearn.preprocessing import MinMaxScaler\r\n",
        "from sklearn.ensemble import RandomForestRegressor\r\n",
        "from sklearn.model_selection import cross_val_score\r\n",
        "from scipy.stats import uniform,randint\r\n",
        "from sklearn.model_selection import train_test_split"
      ],
      "execution_count": null,
      "outputs": []
    },
    {
      "cell_type": "code",
      "metadata": {
        "id": "YhjD8JseUzOb"
      },
      "source": [
        "import warnings\r\n",
        "warnings.filterwarnings('ignore')"
      ],
      "execution_count": null,
      "outputs": []
    },
    {
      "cell_type": "code",
      "metadata": {
        "id": "xtFvaGTMUznd"
      },
      "source": [
        "file=open('/content/drive/MyDrive/Project Energy Consumption/df_tr_red_final_modified.txt','rb')\r\n",
        "df_tr_red_final=pickle.load(file)"
      ],
      "execution_count": null,
      "outputs": []
    },
    {
      "cell_type": "code",
      "metadata": {
        "id": "MyEPwCb3Uz-B"
      },
      "source": [
        "df_tr_red_final.drop(['index','timestamp'],axis=1,inplace=True)"
      ],
      "execution_count": null,
      "outputs": []
    },
    {
      "cell_type": "code",
      "metadata": {
        "id": "Tg6XByRHU0Wx"
      },
      "source": [
        "df_tr_red_final.reset_index(inplace=True)"
      ],
      "execution_count": null,
      "outputs": []
    },
    {
      "cell_type": "markdown",
      "metadata": {
        "id": "VoxqoWfiROCy"
      },
      "source": [
        "**TARGET TRANSFORMATION**\r\n",
        "\r\n",
        "1.   AS THE METRIC IS RMSLE I AM TAKING THE LOG1P OF THE METER READINGS THEN TAKING THE EVALUATION METRIC TO BE RMSE.\r\n",
        "\r\n"
      ]
    },
    {
      "cell_type": "code",
      "metadata": {
        "id": "pKyIyShbU0rQ"
      },
      "source": [
        "y_tr=np.log1p(df_tr_red_final['meter_reading'])\r\n",
        "df_tr_red_final.drop('meter_reading',axis=1,inplace=True)"
      ],
      "execution_count": null,
      "outputs": []
    },
    {
      "cell_type": "markdown",
      "metadata": {
        "id": "v_uV0kaFRY2m"
      },
      "source": [
        "**DROPPING THE FEATURES WHICH ARE NOT IMPORTANT**"
      ]
    },
    {
      "cell_type": "code",
      "metadata": {
        "id": "CqbJxqqoU1PQ"
      },
      "source": [
        "df_tr_red_final.drop(['cloud_coverage','sea_level_pressure','wind_direction','wind_speed',\r\n",
        "                      'is_summer_month','is_pub_holiday'],axis=1,inplace=True)"
      ],
      "execution_count": null,
      "outputs": []
    },
    {
      "cell_type": "code",
      "metadata": {
        "id": "kt3dVKz6U1wO"
      },
      "source": [
        "df_tr_red_final.drop('index',axis=1,inplace=True)"
      ],
      "execution_count": null,
      "outputs": []
    },
    {
      "cell_type": "code",
      "metadata": {
        "id": "KeSS8ibDU2Jk"
      },
      "source": [
        "X_train,X_test,y_train,y_test=train_test_split(df_tr_red_final,y_tr,test_size=0.2,random_state=0)"
      ],
      "execution_count": null,
      "outputs": []
    },
    {
      "cell_type": "code",
      "metadata": {
        "id": "JUu_5aVRU2h_"
      },
      "source": [
        "kf=KFold(n_splits=3,random_state=0)"
      ],
      "execution_count": null,
      "outputs": []
    },
    {
      "cell_type": "markdown",
      "metadata": {
        "id": "PqN3pMvqRhlc"
      },
      "source": [
        "**HYPERPARAMETER TUNING**\r\n",
        "\r\n",
        "\r\n",
        "\r\n",
        "1.   HERE I AM DOING THE HYPERPARAMETER TUNING USING RANDOMIZED SEARCH CV WITH THE USE OF GPU.\r\n",
        "2.   IT HELPS THE MODEL TO FIND THE BEST PARAMS REQUIRED FOR TRAINING.\r\n",
        "\r\n",
        "\r\n",
        "\r\n"
      ]
    },
    {
      "cell_type": "code",
      "metadata": {
        "colab": {
          "base_uri": "https://localhost:8080/"
        },
        "id": "a73m1I_UVlS0",
        "outputId": "63c0a545-69df-4d86-f9b9-47ef6fc5677d"
      },
      "source": [
        "params={'max_depth':[3,5,7,9,11],\r\n",
        "'learning_rate':[0.1,0.01,0.03,0.05],\r\n",
        "'colsample_bytree':[0.7,0.8,0.9,1.0],\r\n",
        "'n_estimators':[300,500,800,1200],\r\n",
        "'min_child_samples':[50,100,200,300,500]}\r\n",
        "\r\n",
        "\r\n",
        "lgb_reg=LGBMRegressor()\r\n",
        "random_clf=RandomizedSearchCV(lgb_reg,params,n_iter=8,scoring='neg_root_mean_squared_error',cv=kf,verbose=24,random_state=1,n_jobs=-1)\r\n",
        "random_clf.fit(X_train,y_train)"
      ],
      "execution_count": null,
      "outputs": [
        {
          "output_type": "stream",
          "text": [
            "Fitting 3 folds for each of 8 candidates, totalling 24 fits\n"
          ],
          "name": "stdout"
        },
        {
          "output_type": "stream",
          "text": [
            "[Parallel(n_jobs=-1)]: Using backend LokyBackend with 4 concurrent workers.\n",
            "[Parallel(n_jobs=-1)]: Done   1 tasks      | elapsed: 17.0min\n",
            "[Parallel(n_jobs=-1)]: Done   2 tasks      | elapsed: 17.8min\n",
            "[Parallel(n_jobs=-1)]: Done   3 tasks      | elapsed: 17.9min\n",
            "[Parallel(n_jobs=-1)]: Done   4 tasks      | elapsed: 29.3min\n",
            "[Parallel(n_jobs=-1)]: Done   5 tasks      | elapsed: 34.1min\n",
            "[Parallel(n_jobs=-1)]: Done   6 tasks      | elapsed: 40.8min\n",
            "[Parallel(n_jobs=-1)]: Done   7 tasks      | elapsed: 45.6min\n",
            "[Parallel(n_jobs=-1)]: Done   8 tasks      | elapsed: 51.6min\n",
            "[Parallel(n_jobs=-1)]: Done   9 tasks      | elapsed: 52.6min\n",
            "[Parallel(n_jobs=-1)]: Done  10 tasks      | elapsed: 52.7min\n",
            "[Parallel(n_jobs=-1)]: Done  11 tasks      | elapsed: 57.3min\n",
            "[Parallel(n_jobs=-1)]: Done  12 tasks      | elapsed: 63.5min\n",
            "[Parallel(n_jobs=-1)]: Done  13 tasks      | elapsed: 76.4min\n",
            "[Parallel(n_jobs=-1)]: Done  14 tasks      | elapsed: 76.5min\n",
            "[Parallel(n_jobs=-1)]: Done  15 tasks      | elapsed: 80.5min\n",
            "[Parallel(n_jobs=-1)]: Done  16 tasks      | elapsed: 94.0min\n",
            "[Parallel(n_jobs=-1)]: Done  17 tasks      | elapsed: 96.6min\n",
            "[Parallel(n_jobs=-1)]: Done  19 out of  24 | elapsed: 109.2min remaining: 28.7min\n",
            "[Parallel(n_jobs=-1)]: Done  21 out of  24 | elapsed: 110.1min remaining: 15.7min\n",
            "[Parallel(n_jobs=-1)]: Done  24 out of  24 | elapsed: 120.9min finished\n"
          ],
          "name": "stderr"
        },
        {
          "output_type": "execute_result",
          "data": {
            "text/plain": [
              "RandomizedSearchCV(cv=KFold(n_splits=3, random_state=0, shuffle=False),\n",
              "                   error_score=nan,\n",
              "                   estimator=LGBMRegressor(boosting_type='gbdt',\n",
              "                                           class_weight=None,\n",
              "                                           colsample_bytree=1.0,\n",
              "                                           importance_type='split',\n",
              "                                           learning_rate=0.1, max_depth=-1,\n",
              "                                           min_child_samples=20,\n",
              "                                           min_child_weight=0.001,\n",
              "                                           min_split_gain=0.0, n_estimators=100,\n",
              "                                           n_jobs=-1, num_leaves=31,\n",
              "                                           objective=None, random_...\n",
              "                   iid='deprecated', n_iter=8, n_jobs=-1,\n",
              "                   param_distributions={'colsample_bytree': [0.7, 0.8, 0.9,\n",
              "                                                             1.0],\n",
              "                                        'learning_rate': [0.1, 0.01, 0.03,\n",
              "                                                          0.05],\n",
              "                                        'max_depth': [3, 5, 7, 9, 11],\n",
              "                                        'min_child_samples': [50, 100, 200, 300,\n",
              "                                                              500],\n",
              "                                        'n_estimators': [300, 500, 800, 1200]},\n",
              "                   pre_dispatch='2*n_jobs', random_state=1, refit=True,\n",
              "                   return_train_score=False,\n",
              "                   scoring='neg_root_mean_squared_error', verbose=24)"
            ]
          },
          "metadata": {
            "tags": []
          },
          "execution_count": 15
        }
      ]
    },
    {
      "cell_type": "markdown",
      "metadata": {
        "id": "xEiz1AEPRxLy"
      },
      "source": [
        "**BEST PARAMS**"
      ]
    },
    {
      "cell_type": "code",
      "metadata": {
        "colab": {
          "base_uri": "https://localhost:8080/"
        },
        "id": "Vhmben-jVlk5",
        "outputId": "430bbbc2-8619-4b7b-db41-dc137b845c12"
      },
      "source": [
        "random_clf.best_params_"
      ],
      "execution_count": null,
      "outputs": [
        {
          "output_type": "execute_result",
          "data": {
            "text/plain": [
              "{'colsample_bytree': 0.9,\n",
              " 'learning_rate': 0.1,\n",
              " 'max_depth': 7,\n",
              " 'min_child_samples': 100,\n",
              " 'n_estimators': 1200}"
            ]
          },
          "metadata": {
            "tags": []
          },
          "execution_count": 16
        }
      ]
    },
    {
      "cell_type": "markdown",
      "metadata": {
        "id": "lxCfZz5mR0xK"
      },
      "source": [
        "**BEST SCORE**"
      ]
    },
    {
      "cell_type": "code",
      "metadata": {
        "colab": {
          "base_uri": "https://localhost:8080/"
        },
        "id": "4h2bcVc5z_P_",
        "outputId": "49403062-4c77-4cf5-f533-a1643e4322c1"
      },
      "source": [
        "random_clf.best_score_"
      ],
      "execution_count": null,
      "outputs": [
        {
          "output_type": "execute_result",
          "data": {
            "text/plain": [
              "-0.8866650518027203"
            ]
          },
          "metadata": {
            "tags": []
          },
          "execution_count": 17
        }
      ]
    },
    {
      "cell_type": "markdown",
      "metadata": {
        "id": "M389mZCWR39E"
      },
      "source": [
        "**PREDICTING ON THE TEST SET WITH THE BEST PARAMS FOUND FROM HYPERPARAMETER TUNING**"
      ]
    },
    {
      "cell_type": "code",
      "metadata": {
        "id": "RBrMcGap15sA"
      },
      "source": [
        "test_pred=random_clf.predict(X_test)"
      ],
      "execution_count": null,
      "outputs": []
    },
    {
      "cell_type": "code",
      "metadata": {
        "colab": {
          "base_uri": "https://localhost:8080/"
        },
        "id": "CzjYf6-H2E9_",
        "outputId": "88a8a025-371b-4ada-d6da-a2bc92e7cdc3"
      },
      "source": [
        "np.sqrt(mean_squared_error(y_test,test_pred))"
      ],
      "execution_count": null,
      "outputs": [
        {
          "output_type": "execute_result",
          "data": {
            "text/plain": [
              "0.8857758144612343"
            ]
          },
          "metadata": {
            "tags": []
          },
          "execution_count": 19
        }
      ]
    },
    {
      "cell_type": "markdown",
      "metadata": {
        "id": "oo1WutjCSH1L"
      },
      "source": [
        "**FITTING THE BEST MODEL ON THE TRAINING DATA**"
      ]
    },
    {
      "cell_type": "code",
      "metadata": {
        "id": "z02lySmC2W8e"
      },
      "source": [
        "lgbm_reg_final=LGBMRegressor(n_estimators=1200,min_child_samples=100,max_depth=7,learning_rate=0.1,colsample_bytree=0.9,n_jobs=-1)"
      ],
      "execution_count": null,
      "outputs": []
    },
    {
      "cell_type": "code",
      "metadata": {
        "id": "qKZHeqTJ2vK1"
      },
      "source": [
        "lgbm_model=lgbm_reg_final.fit(df_tr_red_final,y_tr)"
      ],
      "execution_count": null,
      "outputs": []
    },
    {
      "cell_type": "markdown",
      "metadata": {
        "id": "5aecCyP6SOcj"
      },
      "source": [
        "**STORING THE BEST MODEL IN THE FORM OF PICKLE AND DUMPING IT ON DRIVE**"
      ]
    },
    {
      "cell_type": "code",
      "metadata": {
        "id": "iFPOdky620HE"
      },
      "source": [
        "filename='lgbm_model_2.txt'\r\n",
        "my_file=open(filename,'wb')"
      ],
      "execution_count": null,
      "outputs": []
    },
    {
      "cell_type": "code",
      "metadata": {
        "id": "-J0NlVET3H8w"
      },
      "source": [
        "pickle.dump(lgbm_model,my_file)"
      ],
      "execution_count": null,
      "outputs": []
    }
  ]
}