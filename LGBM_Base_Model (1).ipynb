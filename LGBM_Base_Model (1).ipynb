{
  "nbformat": 4,
  "nbformat_minor": 0,
  "metadata": {
    "colab": {
      "name": "LGBM_Base_Model.ipynb",
      "provenance": [],
      "collapsed_sections": [],
      "machine_shape": "hm"
    },
    "kernelspec": {
      "name": "python3",
      "display_name": "Python 3"
    }
  },
  "cells": [
    {
      "cell_type": "markdown",
      "metadata": {
        "id": "JZXHeps3NiXp"
      },
      "source": [
        "**This file contains the code for the LGBM base model**"
      ]
    },
    {
      "cell_type": "markdown",
      "metadata": {
        "id": "zWfnSeTvNtk2"
      },
      "source": [
        "Importing the necessary files from drive"
      ]
    },
    {
      "cell_type": "code",
      "metadata": {
        "id": "GBbA6jMJWtYO"
      },
      "source": [
        "from google.colab import drive"
      ],
      "execution_count": null,
      "outputs": []
    },
    {
      "cell_type": "code",
      "metadata": {
        "colab": {
          "base_uri": "https://localhost:8080/"
        },
        "id": "P0QWlQMCWuQS",
        "outputId": "2c3155d4-7d15-4821-c9ff-b8c1d0e39b7a"
      },
      "source": [
        "drive.mount('/content/drive')"
      ],
      "execution_count": null,
      "outputs": [
        {
          "output_type": "stream",
          "text": [
            "Mounted at /content/drive\n"
          ],
          "name": "stdout"
        }
      ]
    },
    {
      "cell_type": "code",
      "metadata": {
        "id": "vUO-y44LWuje"
      },
      "source": [
        "import pickle\r\n",
        "import pandas as pd\r\n",
        "import matplotlib.pyplot as plt\r\n",
        "import numpy as np\r\n",
        "import seaborn as sns\r\n",
        "from tqdm import tqdm\r\n",
        "import sklearn"
      ],
      "execution_count": null,
      "outputs": []
    },
    {
      "cell_type": "code",
      "metadata": {
        "id": "-TGv_SSBWu1n"
      },
      "source": [
        "from sklearn.preprocessing import LabelEncoder,MinMaxScaler\r\n",
        "from sklearn.model_selection import StratifiedKFold,KFold\r\n",
        "import lightgbm as lgb\r\n",
        "from lightgbm import LGBMRegressor\r\n",
        "from sklearn.model_selection import RandomizedSearchCV\r\n",
        "from sklearn.metrics import mean_squared_error\r\n",
        "import xgboost as xgb\r\n",
        "from sklearn.preprocessing import MinMaxScaler\r\n",
        "from sklearn.ensemble import RandomForestRegressor\r\n",
        "from sklearn.model_selection import cross_val_score\r\n",
        "from scipy.stats import uniform,randint\r\n",
        "from sklearn.model_selection import train_test_split"
      ],
      "execution_count": null,
      "outputs": []
    },
    {
      "cell_type": "code",
      "metadata": {
        "id": "Aowz4EC3WvW1"
      },
      "source": [
        "import warnings\r\n",
        "warnings.filterwarnings('ignore')"
      ],
      "execution_count": null,
      "outputs": []
    },
    {
      "cell_type": "code",
      "metadata": {
        "id": "0Q2O0HxxWv4W"
      },
      "source": [
        "file=open('/content/drive/MyDrive/Project Energy Consumption/df_tr_red_final_modified.txt','rb')\r\n",
        "df_tr_red_final=pickle.load(file)"
      ],
      "execution_count": null,
      "outputs": []
    },
    {
      "cell_type": "code",
      "metadata": {
        "id": "kLa2m-UUWwOZ"
      },
      "source": [
        "df_tr_red_final.reset_index(inplace=True)"
      ],
      "execution_count": null,
      "outputs": []
    },
    {
      "cell_type": "code",
      "metadata": {
        "id": "CqjSurXsWwff"
      },
      "source": [
        "df_tr_red_final.drop(['index','timestamp'],axis=1,inplace=True)"
      ],
      "execution_count": null,
      "outputs": []
    },
    {
      "cell_type": "code",
      "metadata": {
        "id": "DPQ9bF9CWwzZ"
      },
      "source": [
        "df_tr_red_final.drop('level_0',axis=1,inplace=True)"
      ],
      "execution_count": null,
      "outputs": []
    },
    {
      "cell_type": "markdown",
      "metadata": {
        "id": "HqICiSOmNy4L"
      },
      "source": [
        "**Target Transformation**\r\n",
        "\r\n",
        "1.   Here I am taking log1p of the meter readings and then I will evaluate my base models on RMSE which by default becomes the RMSLE(The evaluation metric on which we have to evaluate on).\r\n",
        "\r\n"
      ]
    },
    {
      "cell_type": "code",
      "metadata": {
        "id": "hWc4PkvDWxHH"
      },
      "source": [
        "y_tr=np.log1p(df_tr_red_final['meter_reading'])\r\n",
        "df_tr_red_final.drop('meter_reading',axis=1,inplace=True)"
      ],
      "execution_count": null,
      "outputs": []
    },
    {
      "cell_type": "markdown",
      "metadata": {
        "id": "mCalPoZ9N9Ka"
      },
      "source": [
        "**Dropping the features which are not important**"
      ]
    },
    {
      "cell_type": "code",
      "metadata": {
        "id": "h01sDXY6Wxpf"
      },
      "source": [
        "df_tr_red_final.drop(['cloud_coverage','sea_level_pressure','wind_direction','wind_speed',\r\n",
        "                      'is_summer_month','is_pub_holiday'],axis=1,inplace=True)"
      ],
      "execution_count": null,
      "outputs": []
    },
    {
      "cell_type": "markdown",
      "metadata": {
        "id": "RorvyIS_OD9K"
      },
      "source": [
        "**Custom Ensembling**\r\n",
        "\r\n",
        "1.   Here first I will divide my train data into 80-20 split.Now from that 80% data I will further divide it into 50-50.After that from that 50% I will start doing sampling with replacement.Now my base models will train on that sampled data and will predict on the remaining 50% data.\r\n",
        "\r\n"
      ]
    },
    {
      "cell_type": "code",
      "metadata": {
        "id": "EYmz2S2rWyDQ"
      },
      "source": [
        "X_train,X_test,y_train,y_test=train_test_split(df_tr_red_final,y_tr,test_size=0.2,random_state=0)"
      ],
      "execution_count": null,
      "outputs": []
    },
    {
      "cell_type": "code",
      "metadata": {
        "id": "TMmdIjb-WyU0"
      },
      "source": [
        "X_train_d1,X_train_d2,y_train_d1,y_train_d2=train_test_split(X_train,y_train,test_size=0.5,random_state=0)"
      ],
      "execution_count": null,
      "outputs": []
    },
    {
      "cell_type": "markdown",
      "metadata": {
        "id": "KCD4H0gaORPP"
      },
      "source": [
        "**Doing Sampling with replacement.Setting up random state helps to reproduce the results**"
      ]
    },
    {
      "cell_type": "code",
      "metadata": {
        "id": "xbFjoDHnXgyI"
      },
      "source": [
        "s3_d1=X_train_d1.sample(frac=0.8,replace=True,random_state=2)\r\n",
        "y3_d1=y_train_d1.sample(frac=0.8,replace=True,random_state=2)"
      ],
      "execution_count": null,
      "outputs": []
    },
    {
      "cell_type": "markdown",
      "metadata": {
        "id": "nk2UX6CdOWF-"
      },
      "source": [
        "**hyperparameter Tuning for LGBM Base Model**"
      ]
    },
    {
      "cell_type": "code",
      "metadata": {
        "colab": {
          "base_uri": "https://localhost:8080/"
        },
        "id": "Ttd2MVIzXtkb",
        "outputId": "af6a526a-f5a3-47fe-c2f0-8841b1d6de9b"
      },
      "source": [
        "params={'max_depth':[3,5,7,9,11],\r\n",
        "'learning_rate':[0.1,0.01,0.03,0.05],\r\n",
        "'colsample_bytree':[0.7,0.8,0.9,1.0],\r\n",
        "'n_estimators':[300,500,800,1200],\r\n",
        "'min_child_samples':[50,100,200,300,500]}\r\n",
        "\r\n",
        "\r\n",
        "lgb_reg=LGBMRegressor()\r\n",
        "random_lgb=RandomizedSearchCV(lgb_reg,params,n_iter=8,scoring='neg_root_mean_squared_error',cv=3,verbose=1,random_state=42,n_jobs=-1)\r\n",
        "random_lgb.fit(s3_d1,y3_d1)"
      ],
      "execution_count": null,
      "outputs": [
        {
          "output_type": "stream",
          "text": [
            "Fitting 3 folds for each of 8 candidates, totalling 24 fits\n"
          ],
          "name": "stdout"
        },
        {
          "output_type": "stream",
          "text": [
            "[Parallel(n_jobs=-1)]: Using backend LokyBackend with 4 concurrent workers.\n",
            "[Parallel(n_jobs=-1)]: Done  24 out of  24 | elapsed: 63.2min finished\n"
          ],
          "name": "stderr"
        },
        {
          "output_type": "execute_result",
          "data": {
            "text/plain": [
              "RandomizedSearchCV(cv=3, error_score=nan,\n",
              "                   estimator=LGBMRegressor(boosting_type='gbdt',\n",
              "                                           class_weight=None,\n",
              "                                           colsample_bytree=1.0,\n",
              "                                           importance_type='split',\n",
              "                                           learning_rate=0.1, max_depth=-1,\n",
              "                                           min_child_samples=20,\n",
              "                                           min_child_weight=0.001,\n",
              "                                           min_split_gain=0.0, n_estimators=100,\n",
              "                                           n_jobs=-1, num_leaves=31,\n",
              "                                           objective=None, random_state=None,\n",
              "                                           reg_alpha=0.0, reg_lambda=0.0,\n",
              "                                           silen...\n",
              "                   iid='deprecated', n_iter=8, n_jobs=-1,\n",
              "                   param_distributions={'colsample_bytree': [0.7, 0.8, 0.9,\n",
              "                                                             1.0],\n",
              "                                        'learning_rate': [0.1, 0.01, 0.03,\n",
              "                                                          0.05],\n",
              "                                        'max_depth': [3, 5, 7, 9, 11],\n",
              "                                        'min_child_samples': [50, 100, 200, 300,\n",
              "                                                              500],\n",
              "                                        'n_estimators': [300, 500, 800, 1200]},\n",
              "                   pre_dispatch='2*n_jobs', random_state=42, refit=True,\n",
              "                   return_train_score=False,\n",
              "                   scoring='neg_root_mean_squared_error', verbose=1)"
            ]
          },
          "metadata": {
            "tags": []
          },
          "execution_count": 17
        }
      ]
    },
    {
      "cell_type": "markdown",
      "metadata": {
        "id": "KciZN9_tOec6"
      },
      "source": [
        "**Finding the best score and params from the above search**"
      ]
    },
    {
      "cell_type": "code",
      "metadata": {
        "colab": {
          "base_uri": "https://localhost:8080/"
        },
        "id": "kYqyBs1uYe0L",
        "outputId": "8e29d876-dd24-4718-cebf-bf4e347eb962"
      },
      "source": [
        "random_lgb.best_params_"
      ],
      "execution_count": null,
      "outputs": [
        {
          "output_type": "execute_result",
          "data": {
            "text/plain": [
              "{'colsample_bytree': 1.0,\n",
              " 'learning_rate': 0.1,\n",
              " 'max_depth': 11,\n",
              " 'min_child_samples': 300,\n",
              " 'n_estimators': 800}"
            ]
          },
          "metadata": {
            "tags": []
          },
          "execution_count": 18
        }
      ]
    },
    {
      "cell_type": "code",
      "metadata": {
        "colab": {
          "base_uri": "https://localhost:8080/"
        },
        "id": "m8n_jEAynvJN",
        "outputId": "6f942d2d-8f0e-46f2-e29f-80404a927e0a"
      },
      "source": [
        "random_lgb.best_score_"
      ],
      "execution_count": null,
      "outputs": [
        {
          "output_type": "execute_result",
          "data": {
            "text/plain": [
              "-0.9034979261671303"
            ]
          },
          "metadata": {
            "tags": []
          },
          "execution_count": 19
        }
      ]
    },
    {
      "cell_type": "markdown",
      "metadata": {
        "id": "Z8DLR-MrOlQu"
      },
      "source": [
        "**Fitting the model with the best params on the sampled data**"
      ]
    },
    {
      "cell_type": "code",
      "metadata": {
        "id": "P_RG9Q8Wn0jW"
      },
      "source": [
        "lgb_model=LGBMRegressor(n_estimators=800,min_child_samples=300,max_depth=11,learning_rate=0.1,colsample_bytree=1.0,n_jobs=-1)"
      ],
      "execution_count": null,
      "outputs": []
    },
    {
      "cell_type": "code",
      "metadata": {
        "colab": {
          "base_uri": "https://localhost:8080/"
        },
        "id": "Y7TSxHWUosMV",
        "outputId": "3233c357-0b26-48ad-8ad2-eb9e85f79450"
      },
      "source": [
        "lgb_model.fit(s3_d1,y3_d1)"
      ],
      "execution_count": null,
      "outputs": [
        {
          "output_type": "execute_result",
          "data": {
            "text/plain": [
              "LGBMRegressor(boosting_type='gbdt', class_weight=None, colsample_bytree=1.0,\n",
              "              importance_type='split', learning_rate=0.1, max_depth=11,\n",
              "              min_child_samples=300, min_child_weight=0.001, min_split_gain=0.0,\n",
              "              n_estimators=800, n_jobs=-1, num_leaves=31, objective=None,\n",
              "              random_state=None, reg_alpha=0.0, reg_lambda=0.0, silent=True,\n",
              "              subsample=1.0, subsample_for_bin=200000, subsample_freq=0)"
            ]
          },
          "metadata": {
            "tags": []
          },
          "execution_count": 16
        }
      ]
    },
    {
      "cell_type": "markdown",
      "metadata": {
        "id": "VQO2R7L6Ozv2"
      },
      "source": [
        "**Important Points**\r\n",
        "\r\n",
        "1.   After saving my best model I will predict on the other 50% data using my base model(XGBOOST) and then I will convert that into a dataframe which will serve as input for my meta model and the target variable will be taken from the other 50% data(Ground Truth).\r\n",
        "\r\n"
      ]
    },
    {
      "cell_type": "code",
      "metadata": {
        "id": "ZGyCrlypkk75"
      },
      "source": [
        "filename='lgb_model_enesemble.txt'\r\n",
        "my_model=open(filename,'wb')"
      ],
      "execution_count": null,
      "outputs": []
    },
    {
      "cell_type": "code",
      "metadata": {
        "id": "xk6OpG33kvFw"
      },
      "source": [
        "pickle.dump(lgb_model,my_model)"
      ],
      "execution_count": null,
      "outputs": []
    },
    {
      "cell_type": "code",
      "metadata": {
        "id": "8k5al4ICojFW"
      },
      "source": [
        "s3_predict=lgb_model.predict(X_train_d2)"
      ],
      "execution_count": null,
      "outputs": []
    },
    {
      "cell_type": "code",
      "metadata": {
        "id": "KQfJIbROoqde"
      },
      "source": [
        "s3_predict_df=pd.DataFrame(s3_predict,columns=['s3_predict'])"
      ],
      "execution_count": null,
      "outputs": []
    },
    {
      "cell_type": "code",
      "metadata": {
        "id": "ti_izQsuqOOg"
      },
      "source": [
        "s3_predict_test=lgb_model.predict(X_test)"
      ],
      "execution_count": null,
      "outputs": []
    },
    {
      "cell_type": "code",
      "metadata": {
        "id": "kR8Xnbn4qbeA"
      },
      "source": [
        "s3_predict_test_df=pd.DataFrame(s3_predict_test,columns=['s3_predict_test'])"
      ],
      "execution_count": null,
      "outputs": []
    },
    {
      "cell_type": "code",
      "metadata": {
        "id": "j_np7I7OrXml"
      },
      "source": [
        "filename='s3_pred_df.txt'\r\n",
        "my_file_3=open(filename,'wb')"
      ],
      "execution_count": null,
      "outputs": []
    },
    {
      "cell_type": "code",
      "metadata": {
        "id": "AR_B1lRurjfn"
      },
      "source": [
        "pickle.dump(s3_predict_df,my_file_3)"
      ],
      "execution_count": null,
      "outputs": []
    },
    {
      "cell_type": "code",
      "metadata": {
        "id": "HmwsQKKHrr56"
      },
      "source": [
        "filename='s3_test_df.txt'\r\n",
        "my_file_4=open(filename,'wb')"
      ],
      "execution_count": null,
      "outputs": []
    },
    {
      "cell_type": "code",
      "metadata": {
        "id": "LeNq96lKr21O"
      },
      "source": [
        "pickle.dump(s3_predict_test_df,my_file_4)"
      ],
      "execution_count": null,
      "outputs": []
    },
    {
      "cell_type": "markdown",
      "metadata": {
        "id": "4wX4q5O9PA5O"
      },
      "source": [
        "                                                             **End of Notebook**"
      ]
    }
  ]
}