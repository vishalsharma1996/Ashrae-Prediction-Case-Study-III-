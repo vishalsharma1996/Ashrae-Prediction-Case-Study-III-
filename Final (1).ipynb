{
  "nbformat": 4,
  "nbformat_minor": 0,
  "metadata": {
    "colab": {
      "name": "Final.ipynb",
      "provenance": [],
      "collapsed_sections": [],
      "toc_visible": true,
      "machine_shape": "hm"
    },
    "kernelspec": {
      "name": "python3",
      "display_name": "Python 3"
    }
  },
  "cells": [
    {
      "cell_type": "code",
      "metadata": {
        "id": "nvQF48hB5qJl"
      },
      "source": [
        "from datetime import timedelta\r\n",
        "from sklearn.preprocessing import LabelEncoder\r\n",
        "from sklearn.metrics import mean_squared_error"
      ],
      "execution_count": null,
      "outputs": []
    },
    {
      "cell_type": "code",
      "metadata": {
        "colab": {
          "base_uri": "https://localhost:8080/"
        },
        "id": "EmwLMVkcPK0d",
        "outputId": "960a31a5-c0d7-407c-9bec-dfa587eaaa63"
      },
      "source": [
        "from google.colab import drive\r\n",
        "drive.mount('/content/drive')"
      ],
      "execution_count": 5,
      "outputs": [
        {
          "output_type": "stream",
          "text": [
            "Mounted at /content/drive\n"
          ],
          "name": "stdout"
        }
      ]
    },
    {
      "cell_type": "code",
      "metadata": {
        "id": "gKncwGJYQ_HA"
      },
      "source": [
        "import warnings\r\n",
        "warnings.filterwarnings('ignore')"
      ],
      "execution_count": null,
      "outputs": []
    },
    {
      "cell_type": "code",
      "metadata": {
        "id": "vb_rblvvRAD3"
      },
      "source": [
        "import pandas as pd\r\n",
        "import matplotlib.pyplot as plt\r\n",
        "import numpy as np\r\n",
        "import seaborn as sns\r\n",
        "import pickle"
      ],
      "execution_count": null,
      "outputs": []
    },
    {
      "cell_type": "code",
      "metadata": {
        "id": "2sC9fmibKbKG"
      },
      "source": [
        "def final_fun_1(df):\r\n",
        "\r\n",
        "\r\n",
        "  #DROPPING FLOOR COUNT AS IT CONTAINS MORE THAN 80% MISSING VALUES\r\n",
        "\r\n",
        "  df.drop('floor_count',axis=1,inplace=True)\r\n",
        "  df.reset_index(inplace=True)\r\n",
        "\r\n",
        "  \r\n",
        "  df['timestamp']=pd.to_datetime(df['timestamp'])\r\n",
        "  df['day']=df['timestamp'].dt.day\r\n",
        "  df['month']=df['timestamp'].dt.month\r\n",
        "\r\n",
        "  #FUNCTION TO REDUCE THE MEMORY USAGE\r\n",
        "  def reduce_mem_usage(df):\r\n",
        "    numerics = ['int16', 'int32', 'int64', 'float16', 'float32', 'float64']\r\n",
        "    start_mem = df.memory_usage().sum() / 1024**2    \r\n",
        "    for col in df.columns:\r\n",
        "        col_type = df[col].dtypes\r\n",
        "        if col_type in numerics:\r\n",
        "            c_min = df[col].min()\r\n",
        "            c_max = df[col].max()\r\n",
        "            if str(col_type)[:3] == 'int':\r\n",
        "                if c_min > np.iinfo(np.int8).min and c_max < np.iinfo(np.int8).max:\r\n",
        "                    df[col] = df[col].astype(np.int8)\r\n",
        "                elif c_min > np.iinfo(np.int16).min and c_max < np.iinfo(np.int16).max:\r\n",
        "                    df[col] = df[col].astype(np.int16)\r\n",
        "                elif c_min > np.iinfo(np.int32).min and c_max < np.iinfo(np.int32).max:\r\n",
        "                    df[col] = df[col].astype(np.int32)\r\n",
        "                elif c_min > np.iinfo(np.int64).min and c_max < np.iinfo(np.int64).max:\r\n",
        "                    df[col] = df[col].astype(np.int64)  \r\n",
        "            else:\r\n",
        "                if c_min > np.finfo(np.float16).min and c_max < np.finfo(np.float16).max:\r\n",
        "                    df[col] = df[col].astype(np.float16)\r\n",
        "                elif c_min > np.finfo(np.float32).min and c_max < np.finfo(np.float32).max:\r\n",
        "                    df[col] = df[col].astype(np.float32)\r\n",
        "                else:\r\n",
        "                    df[col] = df[col].astype(np.float64)    \r\n",
        "    end_mem = df.memory_usage().sum() / 1024**2\r\n",
        "    #if verbose: print('Mem. usage decreased to {:5.2f} Mb ({:.1f}% reduction)'.format(end_mem, 100 * (start_mem - end_mem) / start_mem))\r\n",
        "    return df\r\n",
        "\r\n",
        "\r\n",
        "  df_red=reduce_mem_usage(df)\r\n",
        "\r\n",
        "  del df\r\n",
        "\r\n",
        "\r\n",
        "  df_red[['year_built','air_temperature','dew_temperature','cloud_coverage','precip_depth_1_hr','sea_level_pressure','wind_direction','wind_speed']]=df_red[['year_built','air_temperature','dew_temperature','cloud_coverage','precip_depth_1_hr','sea_level_pressure','wind_direction','wind_speed']].astype(np.float32)\r\n",
        "\r\n",
        "\r\n",
        "  #IMPUTING MISSING VALUES\r\n",
        "\r\n",
        "  cc_fill=df_red.groupby(['site_id','day','month'])['cloud_coverage'].median().reset_index()\r\n",
        "  cc_fill.rename(columns={'cloud_coverage':'cc_filler'},inplace=True)\r\n",
        "  cc_fill['cc_filler'].fillna(method='ffill',inplace=True)\r\n",
        "  df_red=df_red.merge(cc_fill,how='left',on=['site_id','day','month'])\r\n",
        "  df_red['cloud_coverage'].fillna(df_red['cc_filler'],inplace=True)\r\n",
        "  df_red.drop(labels=['cc_filler'],axis=1,inplace=True)\r\n",
        "\r\n",
        "\r\n",
        "  wd_fill=df_red.groupby(['site_id','day','month'])['wind_direction'].median().reset_index()\r\n",
        "  wd_fill.rename(columns={'wind_direction':'wind_direction_filler'},inplace=True)\r\n",
        "  df_red=df_red.merge(wd_fill,how='left',on=['site_id','day','month'])\r\n",
        "  df_red['wind_direction'].fillna(df_red['wind_direction_filler'],inplace=True)\r\n",
        "  df_red.drop(labels=['wind_direction_filler'],axis=1,inplace=True)\r\n",
        "\r\n",
        "\r\n",
        "  ws_fill=df_red.groupby(['site_id','day','month'])['wind_speed'].median().reset_index()\r\n",
        "  ws_fill.rename(columns={'wind_speed':'wind_speed_filler'},inplace=True)\r\n",
        "  df_red=df_red.merge(ws_fill,how='left',on=['site_id','day','month'])\r\n",
        "  df_red['wind_speed'].fillna(df_red['wind_speed_filler'],inplace=True)\r\n",
        "  df_red.drop(labels=['wind_speed_filler'],axis=1,inplace=True)\r\n",
        "\r\n",
        "  slp_fill=df_red.groupby(['site_id','day','month'])['sea_level_pressure'].median().reset_index()\r\n",
        "  slp_fill.rename(columns={'sea_level_pressure':'slp_filler'},inplace=True)\r\n",
        "  slp_fill.fillna(method='ffill',inplace=True)\r\n",
        "  df_red=df_red.merge(slp_fill,how='left',on=['site_id','day','month'])\r\n",
        "  df_red['sea_level_pressure'].fillna(df_red['slp_filler'],inplace=True)\r\n",
        "  df_red.drop(labels=['slp_filler'],axis=1,inplace=True)\r\n",
        "\r\n",
        "  pd_fill=df_red.groupby(['site_id','day','month'])['precip_depth_1_hr'].median().reset_index()\r\n",
        "  pd_fill.rename(columns={'precip_depth_1_hr':'pd_filler'},inplace=True)\r\n",
        "  pd_fill['pd_filler'].fillna(method='ffill',inplace=True)\r\n",
        "  df_red=df_red.merge(pd_fill,how='left',on=['site_id','day','month'])\r\n",
        "  df_red['precip_depth_1_hr'].fillna(df_red['pd_filler'],inplace=True)\r\n",
        "  df_red.drop(labels=['pd_filler'],axis=1,inplace=True)\r\n",
        "\r\n",
        "  yb_fill=df_red.groupby(['site_id','day','month'])['year_built'].median().reset_index()\r\n",
        "  yb_fill.rename(columns={'year_built':'yb_filler'},inplace=True)\r\n",
        "  yb_fill['yb_filler'].fillna(method='ffill',inplace=True)\r\n",
        "  df_red=df_red.merge(yb_fill,how='left',on=['site_id','day','month'])\r\n",
        "  df_red['year_built'].fillna(df_red['yb_filler'],inplace=True)\r\n",
        "  df_red.drop(labels=['yb_filler'],axis=1,inplace=True)\r\n",
        "\r\n",
        "\r\n",
        "  df_red['air_temperature']=df_red['air_temperature'].interpolate(method='linear')\r\n",
        "  df_red['dew_temperature']=df_red['dew_temperature'].interpolate(method='linear')\r\n",
        "\r\n",
        "\r\n",
        "  \r\n",
        "  #ALIGNING TIMESTAMP\r\n",
        "  df_train_site_0=df_red[df_red['site_id']==0]\r\n",
        "  df_train_site_0.reset_index(inplace=True)\r\n",
        "  df_train_site_0['timestamp_aligned']=df_train_site_0['timestamp']-timedelta(hours=5,minutes=0)\r\n",
        "  df_air_temp_timestamp=df_train_site_0[['timestamp_aligned','building_id','meter','air_temperature']].copy()\r\n",
        "  df_air_temp_timestamp.rename(columns={'timestamp_aligned':'timestamp'},inplace=True)\r\n",
        "  df_train_site_0.drop(['air_temperature','timestamp_aligned'],axis=1,inplace=True)\r\n",
        "  df_train_site_0['air_temperature_aligned']=df_air_temp_timestamp[df_air_temp_timestamp['timestamp'].isin(df_train_site_0['timestamp'])].reset_index(drop=True)['air_temperature']\r\n",
        "  df_train_site_0['air_temperature_aligned']=df_train_site_0['air_temperature_aligned'].interpolate()\r\n",
        "  df_train_site_0.rename(columns={'air_temperature_aligned':'air_temperature'},inplace=True)\r\n",
        "  df_train_site_0.drop(['level_0','index'],axis=1,inplace=True)\r\n",
        "\r\n",
        "  df_train_site_1=df_red[df_red['site_id']==1]\r\n",
        "  df_train_site_1.reset_index(inplace=True)\r\n",
        "  df_train_site_1.drop(['index','level_0'],axis=1,inplace=True)\r\n",
        "\r\n",
        "  df_train_site_2=df_red[df_red['site_id']==2]\r\n",
        "  df_train_site_2.reset_index(inplace=True)\r\n",
        "  df_train_site_2['timestamp_aligned']=df_train_site_2['timestamp']-timedelta(hours=7,minutes=0)\r\n",
        "  df_air_temp_timestamp=df_train_site_2[['timestamp_aligned','building_id','meter','air_temperature']].copy()\r\n",
        "  df_air_temp_timestamp.rename(columns={'timestamp_aligned':'timestamp'},inplace=True)\r\n",
        "  df_train_site_2.drop(['air_temperature','timestamp_aligned'],axis=1,inplace=True)\r\n",
        "  df_train_site_2['air_temperature_aligned']=df_air_temp_timestamp[df_air_temp_timestamp['timestamp'].isin(df_train_site_2['timestamp'])].reset_index(drop=True)['air_temperature']\r\n",
        "  df_train_site_2['air_temperature_aligned']=df_train_site_2['air_temperature_aligned'].interpolate()\r\n",
        "  df_train_site_2.rename(columns={'air_temperature_aligned':'air_temperature'},inplace=True)\r\n",
        "  df_train_site_2.drop(['level_0','index'],axis=1,inplace=True)\r\n",
        "\r\n",
        "\r\n",
        "  df_train_site_3=df_red[df_red['site_id']==3]\r\n",
        "  df_train_site_3.reset_index(inplace=True)\r\n",
        "  df_train_site_3['timestamp_aligned']=df_train_site_3['timestamp']-timedelta(hours=5,minutes=0)\r\n",
        "  df_air_temp_timestamp=df_train_site_3[['timestamp_aligned','building_id','meter','air_temperature']].copy()\r\n",
        "  df_air_temp_timestamp.rename(columns={'timestamp_aligned':'timestamp'},inplace=True)\r\n",
        "  df_train_site_3.drop(['air_temperature','timestamp_aligned'],axis=1,inplace=True)\r\n",
        "  df_train_site_3['air_temperature_aligned']=df_air_temp_timestamp[df_air_temp_timestamp['timestamp'].isin(df_train_site_3['timestamp'])].reset_index(drop=True)['air_temperature']\r\n",
        "  df_train_site_3['air_temperature_aligned']=df_train_site_3['air_temperature_aligned'].interpolate()\r\n",
        "  df_train_site_3.rename(columns={'air_temperature_aligned':'air_temperature'},inplace=True)\r\n",
        "  df_train_site_3.drop(['level_0','index'],axis=1,inplace=True)\r\n",
        "\r\n",
        "\r\n",
        "  df_train_site_4=df_red[df_red['site_id']==4]\r\n",
        "  df_train_site_4.reset_index(inplace=True)\r\n",
        "  df_train_site_4['timestamp_aligned']=df_train_site_4['timestamp']-timedelta(hours=8,minutes=0)\r\n",
        "  df_air_temp_timestamp=df_train_site_4[['timestamp_aligned','building_id','meter','air_temperature']].copy()\r\n",
        "  df_air_temp_timestamp.rename(columns={'timestamp_aligned':'timestamp'},inplace=True)\r\n",
        "  df_train_site_4.drop(['air_temperature','timestamp_aligned'],axis=1,inplace=True)\r\n",
        "  df_train_site_4['air_temperature_aligned']=df_air_temp_timestamp[df_air_temp_timestamp['timestamp'].isin(df_train_site_4['timestamp'])].reset_index(drop=True)['air_temperature']\r\n",
        "  df_train_site_4['air_temperature_aligned']=df_train_site_4['air_temperature_aligned'].interpolate()\r\n",
        "  df_train_site_4.rename(columns={'air_temperature_aligned':'air_temperature'},inplace=True)\r\n",
        "  df_train_site_4.drop(['level_0','index'],axis=1,inplace=True)\r\n",
        "\r\n",
        "\r\n",
        "  df_train_site_5=df_red[df_red['site_id']==5]\r\n",
        "  df_train_site_5.reset_index(inplace=True)\r\n",
        "  df_train_site_5.drop(['index','level_0'],axis=1,inplace=True)\r\n",
        "\r\n",
        "\r\n",
        "  df_train_site_6=df_red[df_red['site_id']==6]\r\n",
        "  df_train_site_6.reset_index(inplace=True)\r\n",
        "  df_train_site_6['timestamp_aligned']=df_train_site_6['timestamp']-timedelta(hours=5,minutes=0)\r\n",
        "  df_air_temp_timestamp=df_train_site_6[['timestamp_aligned','building_id','meter','air_temperature']].copy()\r\n",
        "  df_air_temp_timestamp.rename(columns={'timestamp_aligned':'timestamp'},inplace=True)\r\n",
        "  df_train_site_6.drop(['air_temperature','timestamp_aligned'],axis=1,inplace=True)\r\n",
        "  df_train_site_6['air_temperature_aligned']=df_air_temp_timestamp[df_air_temp_timestamp['timestamp'].isin(df_train_site_6['timestamp'])].reset_index(drop=True)['air_temperature']\r\n",
        "  df_train_site_6['air_temperature_aligned']=df_train_site_6['air_temperature_aligned'].interpolate()\r\n",
        "  df_train_site_6.rename(columns={'air_temperature_aligned':'air_temperature'},inplace=True)\r\n",
        "  df_train_site_6.drop(['level_0','index'],axis=1,inplace=True)\r\n",
        "\r\n",
        "\r\n",
        "  df_train_site_7=df_red[df_red['site_id']==7]\r\n",
        "  df_train_site_7.reset_index(inplace=True)\r\n",
        "  df_train_site_7['timestamp_aligned']=df_train_site_7['timestamp']-timedelta(hours=5,minutes=0)\r\n",
        "  df_air_temp_timestamp=df_train_site_7[['timestamp_aligned','building_id','meter','air_temperature']].copy()\r\n",
        "  df_air_temp_timestamp.rename(columns={'timestamp_aligned':'timestamp'},inplace=True)\r\n",
        "  df_train_site_7.drop(['air_temperature','timestamp_aligned'],axis=1,inplace=True)\r\n",
        "  df_train_site_7['air_temperature_aligned']=df_air_temp_timestamp[df_air_temp_timestamp['timestamp'].isin(df_train_site_7['timestamp'])].reset_index(drop=True)['air_temperature']\r\n",
        "  df_train_site_7['air_temperature_aligned']=df_train_site_7['air_temperature_aligned'].interpolate()\r\n",
        "  df_train_site_7.rename(columns={'air_temperature_aligned':'air_temperature'},inplace=True)\r\n",
        "  df_train_site_7.drop(['level_0','index'],axis=1,inplace=True)\r\n",
        "\r\n",
        "\r\n",
        "  df_train_site_8=df_red[df_red['site_id']==8]\r\n",
        "  df_train_site_8.reset_index(inplace=True)\r\n",
        "  df_train_site_8['timestamp_aligned']=df_train_site_8['timestamp']-timedelta(hours=5,minutes=0)\r\n",
        "  df_air_temp_timestamp=df_train_site_8[['timestamp_aligned','building_id','meter','air_temperature']].copy()\r\n",
        "  df_air_temp_timestamp.rename(columns={'timestamp_aligned':'timestamp'},inplace=True)\r\n",
        "  df_train_site_8.drop(['air_temperature','timestamp_aligned'],axis=1,inplace=True)\r\n",
        "  df_train_site_8['air_temperature_aligned']=df_air_temp_timestamp[df_air_temp_timestamp['timestamp'].isin(df_train_site_8['timestamp'])].reset_index(drop=True)['air_temperature']\r\n",
        "  df_train_site_8['air_temperature_aligned']=df_train_site_8['air_temperature_aligned'].interpolate()\r\n",
        "  df_train_site_8.rename(columns={'air_temperature_aligned':'air_temperature'},inplace=True)\r\n",
        "  df_train_site_8.drop(['level_0','index'],axis=1,inplace=True)\r\n",
        "\r\n",
        "\r\n",
        "  df_train_site_9=df_red[df_red['site_id']==9]\r\n",
        "  df_train_site_9.reset_index(inplace=True)\r\n",
        "  df_train_site_9['timestamp_aligned']=df_train_site_9['timestamp']-timedelta(hours=6,minutes=0)\r\n",
        "  df_air_temp_timestamp=df_train_site_9[['timestamp_aligned','building_id','meter','air_temperature']].copy()\r\n",
        "  df_air_temp_timestamp.rename(columns={'timestamp_aligned':'timestamp'},inplace=True)\r\n",
        "  df_train_site_9.drop(['air_temperature','timestamp_aligned'],axis=1,inplace=True)\r\n",
        "  df_train_site_9['air_temperature_aligned']=df_air_temp_timestamp[df_air_temp_timestamp['timestamp'].isin(df_train_site_9['timestamp'])].reset_index(drop=True)['air_temperature']\r\n",
        "  df_train_site_9['air_temperature_aligned']=df_train_site_9['air_temperature_aligned'].interpolate()\r\n",
        "  df_train_site_9.rename(columns={'air_temperature_aligned':'air_temperature'},inplace=True)\r\n",
        "  df_train_site_9.drop(['level_0','index'],axis=1,inplace=True)\r\n",
        "\r\n",
        "\r\n",
        "  df_train_site_10=df_red[df_red['site_id']==10]\r\n",
        "  df_train_site_10.reset_index(inplace=True)\r\n",
        "  df_train_site_10['timestamp_aligned']=df_train_site_10['timestamp']-timedelta(hours=7,minutes=0)\r\n",
        "  df_air_temp_timestamp=df_train_site_10[['timestamp_aligned','building_id','meter','air_temperature']].copy()\r\n",
        "  df_air_temp_timestamp.rename(columns={'timestamp_aligned':'timestamp'},inplace=True)\r\n",
        "  df_train_site_10.drop(['air_temperature','timestamp_aligned'],axis=1,inplace=True)\r\n",
        "  df_train_site_10['air_temperature_aligned']=df_air_temp_timestamp[df_air_temp_timestamp['timestamp'].isin(df_train_site_10['timestamp'])].reset_index(drop=True)['air_temperature']\r\n",
        "  df_train_site_10['air_temperature_aligned']=df_train_site_10['air_temperature_aligned'].interpolate()\r\n",
        "  df_train_site_10.rename(columns={'air_temperature_aligned':'air_temperature'},inplace=True)\r\n",
        "  df_train_site_10.drop(['level_0','index'],axis=1,inplace=True)\r\n",
        "\r\n",
        "\r\n",
        "  df_train_site_11=df_red[df_red['site_id']==11]\r\n",
        "  df_train_site_11.reset_index(inplace=True)\r\n",
        "  df_train_site_11['timestamp_aligned']=df_train_site_11['timestamp']-timedelta(hours=5,minutes=0)\r\n",
        "  df_air_temp_timestamp=df_train_site_11[['timestamp_aligned','building_id','meter','air_temperature']].copy()\r\n",
        "  df_air_temp_timestamp.rename(columns={'timestamp_aligned':'timestamp'},inplace=True)\r\n",
        "  df_train_site_11.drop(['air_temperature','timestamp_aligned'],axis=1,inplace=True)\r\n",
        "  df_train_site_11['air_temperature_aligned']=df_air_temp_timestamp[df_air_temp_timestamp['timestamp'].isin(df_train_site_11['timestamp'])].reset_index(drop=True)['air_temperature']\r\n",
        "  df_train_site_11['air_temperature_aligned']=df_train_site_11['air_temperature_aligned'].interpolate()\r\n",
        "  df_train_site_11.rename(columns={'air_temperature_aligned':'air_temperature'},inplace=True)\r\n",
        "  df_train_site_11.drop(['level_0','index'],axis=1,inplace=True)\r\n",
        "\r\n",
        "\r\n",
        "  df_train_site_12=df_red[df_red['site_id']==12]\r\n",
        "  df_train_site_12.reset_index(inplace=True)\r\n",
        "  df_train_site_12.drop(['index','level_0'],axis=1,inplace=True)\r\n",
        "\r\n",
        "\r\n",
        "  df_train_site_13=df_red[df_red['site_id']==13]\r\n",
        "  df_train_site_13.reset_index(inplace=True)\r\n",
        "  df_train_site_13['timestamp_aligned']=df_train_site_13['timestamp']-timedelta(hours=6,minutes=0)\r\n",
        "  df_air_temp_timestamp=df_train_site_13[['timestamp_aligned','building_id','meter','air_temperature']].copy()\r\n",
        "  df_air_temp_timestamp.rename(columns={'timestamp_aligned':'timestamp'},inplace=True)\r\n",
        "  df_train_site_13.drop(['air_temperature','timestamp_aligned'],axis=1,inplace=True)\r\n",
        "  df_train_site_13['air_temperature_aligned']=df_air_temp_timestamp[df_air_temp_timestamp['timestamp'].isin(df_train_site_13['timestamp'])].reset_index(drop=True)['air_temperature']\r\n",
        "  df_train_site_13['air_temperature_aligned']=df_train_site_13['air_temperature_aligned'].interpolate()\r\n",
        "  df_train_site_13.rename(columns={'air_temperature_aligned':'air_temperature'},inplace=True)\r\n",
        "  df_train_site_13.drop(['level_0','index'],axis=1,inplace=True)\r\n",
        "\r\n",
        "\r\n",
        "  df_train_site_14=df_red[df_red['site_id']==14]\r\n",
        "  df_train_site_14.reset_index(inplace=True)\r\n",
        "  df_train_site_14['timestamp_aligned']=df_train_site_14['timestamp']-timedelta(hours=5,minutes=0)\r\n",
        "  df_air_temp_timestamp=df_train_site_14[['timestamp_aligned','building_id','meter','air_temperature']].copy()\r\n",
        "  df_air_temp_timestamp.rename(columns={'timestamp_aligned':'timestamp'},inplace=True)\r\n",
        "  df_train_site_14.drop(['air_temperature','timestamp_aligned'],axis=1,inplace=True)\r\n",
        "  df_train_site_14['air_temperature_aligned']=df_air_temp_timestamp[df_air_temp_timestamp['timestamp'].isin(df_train_site_14['timestamp'])].reset_index(drop=True)['air_temperature']\r\n",
        "  df_train_site_14['air_temperature_aligned']=df_train_site_14['air_temperature_aligned'].interpolate()\r\n",
        "  df_train_site_14.rename(columns={'air_temperature_aligned':'air_temperature'},inplace=True)\r\n",
        "  df_train_site_14.drop(['level_0','index'],axis=1,inplace=True)\r\n",
        "\r\n",
        "\r\n",
        "  df_train_site_15=df_red[df_red['site_id']==15]\r\n",
        "  df_train_site_15.reset_index(inplace=True)\r\n",
        "  df_train_site_15['timestamp_aligned']=df_train_site_15['timestamp']-timedelta(hours=5,minutes=0)\r\n",
        "  df_air_temp_timestamp=df_train_site_15[['timestamp_aligned','building_id','meter','air_temperature']].copy()\r\n",
        "  df_air_temp_timestamp.rename(columns={'timestamp_aligned':'timestamp'},inplace=True)\r\n",
        "  df_train_site_15.drop(['air_temperature','timestamp_aligned'],axis=1,inplace=True)\r\n",
        "  df_train_site_15['air_temperature_aligned']=df_air_temp_timestamp[df_air_temp_timestamp['timestamp'].isin(df_train_site_15['timestamp'])].reset_index(drop=True)['air_temperature']\r\n",
        "  df_train_site_15['air_temperature_aligned']=df_train_site_15['air_temperature_aligned'].interpolate()\r\n",
        "  df_train_site_15.rename(columns={'air_temperature_aligned':'air_temperature'},inplace=True)\r\n",
        "  df_train_site_15.drop(['level_0','index'],axis=1,inplace=True)\r\n",
        "\r\n",
        "  #Concatenating the data and making it ready for final predictions\r\n",
        "  df_final=pd.concat([df_train_site_0,df_train_site_1,df_train_site_2,df_train_site_3,df_train_site_4,\r\n",
        "                                 df_train_site_5,df_train_site_6,df_train_site_7,df_train_site_8,df_train_site_9,\r\n",
        "                                 df_train_site_10,df_train_site_11,df_train_site_12,df_train_site_13,df_train_site_14,\r\n",
        "                                 df_train_site_15],axis=0)\r\n",
        "    \r\n",
        "    \r\n",
        "  df_final.reset_index(inplace=True)\r\n",
        "\r\n",
        "  df_final.drop(['row_id','index','primary_use','square_feet','year_built','cloud_coverage','dew_temperature',\r\n",
        "            'precip_depth_1_hr','sea_level_pressure','wind_direction','wind_speed','day','month'],axis=1,inplace=True)\r\n",
        "  df_red.drop('index',axis=1,inplace=True)\r\n",
        "\r\n",
        "  df_final.rename(columns={'air_temperature':'air_temperature_aligned'},inplace=True)\r\n",
        "  df_final_red=pd.merge(left=df_red,right=df_final,on=['site_id','timestamp','meter','building_id'])\r\n",
        "\r\n",
        "  del df_final,df_red\r\n",
        "  del df_train_site_0,df_train_site_1,df_train_site_2,df_train_site_3,df_train_site_4,df_train_site_5,df_train_site_6,df_train_site_7,df_train_site_8,df_train_site_9,df_train_site_10,df_train_site_11,df_train_site_12,df_train_site_13,df_train_site_14,df_train_site_15\r\n",
        "\r\n",
        "  df_final_red.drop('air_temperature',axis=1,inplace=True)\r\n",
        "  df_final_red.rename(columns={'air_temperature_aligned':'air_temperature'},inplace=True)\r\n",
        "\r\n",
        "\r\n",
        "  #FEATURE-ENGINEERING\r\n",
        "  saturated_vapor_pressure = 6.11 * (10**(7.5*df_final_red['air_temperature']/(237.3+df_final_red['air_temperature'])))\r\n",
        "  actual_vapor_pressure = 6.11 * (10**(7.5*df_final_red['dew_temperature']/(237.3+df_final_red['dew_temperature'])))\r\n",
        "  df_final_red['relative_humidity']=(actual_vapor_pressure/saturated_vapor_pressure)*100\r\n",
        "\r\n",
        "\r\n",
        "  df_final_red['is_winter_month']=(df_final_red['month'].isin([12,1,2])).astype(int)\r\n",
        "  df_final_red['is_summer_month']=(df_final_red['month'].isin([6,7,8])).astype(int)\r\n",
        "  df_final_red['weekday']=df_final_red['timestamp'].dt.weekday\r\n",
        "\r\n",
        "  holidays = [\"2017-01-01\", \"2017-01-16\", \"2017-02-20\", \"2017-05-29\", \"2017-07-04\",\r\n",
        "            \"2017-09-04\", \"2017-10-09\", \"2017-11-10\", \"2017-11-23\", \"2017-12-25\",\r\n",
        "            \"2018-01-01\", \"2018-01-15\", \"2018-02-19\", \"2018-05-28\", \"2018-07-04\",\r\n",
        "            \"2018-09-03\", \"2018-10-08\", \"2018-11-12\", \"2018-11-22\", \"2018-12-25\",\r\n",
        "            \"2019-01-01\"]\r\n",
        "\r\n",
        "  holiday_datetime=pd.to_datetime(holidays,yearfirst=True)\r\n",
        "  df_final_red['is_pub_holiday']=(df_final_red['timestamp'].dt.date.isin(holiday_datetime.date)).astype(int)\r\n",
        "  df_final_red['is_weekday']=((~df_final_red['timestamp'].dt.date.isin(holiday_datetime.date))&(df_final_red['weekday'].isin([0,1,2,3,4]))).astype(int)\r\n",
        "\r\n",
        "  z_busy_hours=df_final_red.set_index(['timestamp']).between_time('06:00:00','18:00:00').reset_index()\r\n",
        "  z_busy_hours_timestamp=[i for i in z_busy_hours['timestamp']]\r\n",
        "  df_final_red['busy_hours']=((~df_final_red['timestamp'].dt.date.isin(holiday_datetime.date))&(df_final_red['timestamp'].isin(z_busy_hours_timestamp))).astype(int)\r\n",
        "\r\n",
        "  df_final_red['hour']=df_final_red['timestamp'].dt.hour\r\n",
        "\r\n",
        "  df_final_reduce=reduce_mem_usage(df_final_red)\r\n",
        "\r\n",
        "  del df_final_red\r\n",
        "\r\n",
        "  df_final_reduce.drop(['timestamp'],axis=1,inplace=True)\r\n",
        "\r\n",
        "  label_encoder=LabelEncoder()\r\n",
        "  df_final_reduce['primary_use']=label_encoder.fit_transform(df_final_reduce['primary_use'])\r\n",
        "\r\n",
        "  df_final_reduce_1=reduce_mem_usage(df_final_reduce)\r\n",
        "\r\n",
        "  del df_final_reduce\r\n",
        "\r\n",
        "\r\n",
        "  #DROPPING FEATURES WHICH ARE NOT IMPORTANT\r\n",
        "  df_final_reduce_1.drop(['cloud_coverage','sea_level_pressure','wind_direction','wind_speed',\r\n",
        "                      'is_summer_month','is_pub_holiday'],axis=1,inplace=True)\r\n",
        "  \r\n",
        "  df_final_reduce_1.drop('row_id',axis=1,inplace=True)\r\n",
        "\r\n",
        "  file_2=open('/content/drive/MyDrive/Project Energy Consumption/lgbm_model_2.txt','rb')\r\n",
        "  lgbm_model=pickle.load(file_2)\r\n",
        "\r\n",
        "  #Prediction on the test set\r\n",
        "  y_test=lgbm_model.predict(df_final_reduce_1)\r\n",
        "\r\n",
        "  y_test=np.expm1(y_test)\r\n",
        "\r\n",
        "\r\n",
        "  return y_test\r\n",
        "  "
      ],
      "execution_count": null,
      "outputs": []
    },
    {
      "cell_type": "markdown",
      "metadata": {
        "id": "RZr3woETOUpJ"
      },
      "source": [
        "**Importing the data from kaggle API**"
      ]
    },
    {
      "cell_type": "code",
      "metadata": {
        "id": "WLSYyH98Kb0C",
        "colab": {
          "resources": {
            "http://localhost:8080/nbextensions/google.colab/files.js": {
              "data": "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",
              "ok": true,
              "headers": [
                [
                  "content-type",
                  "application/javascript"
                ]
              ],
              "status": 200,
              "status_text": ""
            }
          },
          "base_uri": "https://localhost:8080/",
          "height": 72
        },
        "outputId": "4d40444a-2c8e-4da6-c737-2077e8774974"
      },
      "source": [
        "from google.colab import files\r\n",
        "file=files.upload()"
      ],
      "execution_count": null,
      "outputs": [
        {
          "output_type": "display_data",
          "data": {
            "text/html": [
              "\n",
              "     <input type=\"file\" id=\"files-0e55ae7c-0a7e-4987-94f1-9529f7c8dbb0\" name=\"files[]\" multiple disabled\n",
              "        style=\"border:none\" />\n",
              "     <output id=\"result-0e55ae7c-0a7e-4987-94f1-9529f7c8dbb0\">\n",
              "      Upload widget is only available when the cell has been executed in the\n",
              "      current browser session. Please rerun this cell to enable.\n",
              "      </output>\n",
              "      <script src=\"/nbextensions/google.colab/files.js\"></script> "
            ],
            "text/plain": [
              "<IPython.core.display.HTML object>"
            ]
          },
          "metadata": {
            "tags": []
          }
        },
        {
          "output_type": "stream",
          "text": [
            "Saving kaggle.json to kaggle.json\n"
          ],
          "name": "stdout"
        }
      ]
    },
    {
      "cell_type": "code",
      "metadata": {
        "id": "S21ayz-EKcNe"
      },
      "source": [
        "!pip install -q kaggle"
      ],
      "execution_count": null,
      "outputs": []
    },
    {
      "cell_type": "code",
      "metadata": {
        "id": "O5mOprfmKcuK"
      },
      "source": [
        "!mkdir -p ~/.kaggle"
      ],
      "execution_count": null,
      "outputs": []
    },
    {
      "cell_type": "code",
      "metadata": {
        "id": "CLIcuHmUKdNA"
      },
      "source": [
        "!cp /content/kaggle.json ~/.kaggle/"
      ],
      "execution_count": null,
      "outputs": []
    },
    {
      "cell_type": "code",
      "metadata": {
        "id": "6EvNz_stKdmi"
      },
      "source": [
        "!chmod 600 /root/.kaggle/kaggle.json"
      ],
      "execution_count": null,
      "outputs": []
    },
    {
      "cell_type": "code",
      "metadata": {
        "id": "7n9vddM4KeGB",
        "colab": {
          "base_uri": "https://localhost:8080/"
        },
        "outputId": "2f458bca-4a8e-4583-e27d-99329c5392ef"
      },
      "source": [
        "!kaggle competitions download -c ashrae-energy-prediction"
      ],
      "execution_count": null,
      "outputs": [
        {
          "output_type": "stream",
          "text": [
            "Warning: Looks like you're using an outdated API Version, please consider updating (server 1.5.10 / client 1.5.4)\n",
            "Downloading sample_submission.csv.zip to /content\n",
            " 83% 73.0M/88.4M [00:00<00:00, 67.9MB/s]\n",
            "100% 88.4M/88.4M [00:00<00:00, 121MB/s] \n",
            "Downloading building_metadata.csv to /content\n",
            "  0% 0.00/44.5k [00:00<?, ?B/s]\n",
            "100% 44.5k/44.5k [00:00<00:00, 44.9MB/s]\n",
            "Downloading weather_train.csv.zip to /content\n",
            "  0% 0.00/1.27M [00:00<?, ?B/s]\n",
            "100% 1.27M/1.27M [00:00<00:00, 177MB/s]\n",
            "Downloading train.csv.zip to /content\n",
            " 89% 107M/120M [00:01<00:00, 77.3MB/s] \n",
            "100% 120M/120M [00:01<00:00, 108MB/s] \n",
            "Downloading test.csv.zip to /content\n",
            "100% 167M/167M [00:01<00:00, 119MB/s]\n",
            "\n",
            "Downloading weather_test.csv.zip to /content\n",
            "  0% 0.00/2.53M [00:00<?, ?B/s]\n",
            "100% 2.53M/2.53M [00:00<00:00, 167MB/s]\n"
          ],
          "name": "stdout"
        }
      ]
    },
    {
      "cell_type": "code",
      "metadata": {
        "id": "I861vnNZKeo6",
        "colab": {
          "base_uri": "https://localhost:8080/"
        },
        "outputId": "c88170d1-4f8a-4a16-8194-3ca091a664f1"
      },
      "source": [
        "!unzip /content/test.csv.zip"
      ],
      "execution_count": null,
      "outputs": [
        {
          "output_type": "stream",
          "text": [
            "Archive:  /content/test.csv.zip\n",
            "  inflating: test.csv                \n"
          ],
          "name": "stdout"
        }
      ]
    },
    {
      "cell_type": "code",
      "metadata": {
        "id": "nj8wjF6lO_Ms",
        "colab": {
          "base_uri": "https://localhost:8080/"
        },
        "outputId": "921f2da4-44d9-4986-8c11-b7fea9873a03"
      },
      "source": [
        "!unzip /content/weather_test.csv.zip"
      ],
      "execution_count": null,
      "outputs": [
        {
          "output_type": "stream",
          "text": [
            "Archive:  /content/weather_test.csv.zip\n",
            "  inflating: weather_test.csv        \n"
          ],
          "name": "stdout"
        }
      ]
    },
    {
      "cell_type": "markdown",
      "metadata": {
        "id": "vXndmIILObiK"
      },
      "source": [
        "**Function for reducing the memory usage**"
      ]
    },
    {
      "cell_type": "code",
      "metadata": {
        "id": "j_l9Rl8hO_r3"
      },
      "source": [
        "def reduce_mem_usage(df, verbose=True):\r\n",
        "    numerics = ['int16', 'int32', 'int64', 'float16', 'float32', 'float64']\r\n",
        "    start_mem = df.memory_usage().sum() / 1024**2    \r\n",
        "    for col in df.columns:\r\n",
        "        col_type = df[col].dtypes\r\n",
        "        if col_type in numerics:\r\n",
        "            c_min = df[col].min()\r\n",
        "            c_max = df[col].max()\r\n",
        "            if str(col_type)[:3] == 'int':\r\n",
        "                if c_min > np.iinfo(np.int8).min and c_max < np.iinfo(np.int8).max:\r\n",
        "                    df[col] = df[col].astype(np.int8)\r\n",
        "                elif c_min > np.iinfo(np.int16).min and c_max < np.iinfo(np.int16).max:\r\n",
        "                    df[col] = df[col].astype(np.int16)\r\n",
        "                elif c_min > np.iinfo(np.int32).min and c_max < np.iinfo(np.int32).max:\r\n",
        "                    df[col] = df[col].astype(np.int32)\r\n",
        "                elif c_min > np.iinfo(np.int64).min and c_max < np.iinfo(np.int64).max:\r\n",
        "                    df[col] = df[col].astype(np.int64)  \r\n",
        "            else:\r\n",
        "                if c_min > np.finfo(np.float16).min and c_max < np.finfo(np.float16).max:\r\n",
        "                    df[col] = df[col].astype(np.float16)\r\n",
        "                elif c_min > np.finfo(np.float32).min and c_max < np.finfo(np.float32).max:\r\n",
        "                    df[col] = df[col].astype(np.float32)\r\n",
        "                else:\r\n",
        "                    df[col] = df[col].astype(np.float64)    \r\n",
        "    end_mem = df.memory_usage().sum() / 1024**2\r\n",
        "    if verbose: print('Mem. usage decreased to {:5.2f} Mb ({:.1f}% reduction)'.format(end_mem, 100 * (start_mem - end_mem) / start_mem))\r\n",
        "    return df"
      ],
      "execution_count": null,
      "outputs": []
    },
    {
      "cell_type": "markdown",
      "metadata": {
        "id": "n9h6fY4cOnyP"
      },
      "source": [
        "**From here on we will be merging the test data with building data and weather test data so that it can be passed to the final fun 1 so that it can be preocessed and predictions can be made on it.**"
      ]
    },
    {
      "cell_type": "code",
      "metadata": {
        "id": "Jwak379rPATa"
      },
      "source": [
        "df_test=pd.read_csv('test.csv')"
      ],
      "execution_count": null,
      "outputs": []
    },
    {
      "cell_type": "code",
      "metadata": {
        "id": "Q8zRF68APAtm",
        "colab": {
          "base_uri": "https://localhost:8080/"
        },
        "outputId": "21bb388b-6140-43a7-ac27-29d4b5ab5782"
      },
      "source": [
        "df_test_red=reduce_mem_usage(df_test,verbose=True)"
      ],
      "execution_count": null,
      "outputs": [
        {
          "output_type": "stream",
          "text": [
            "Mem. usage decreased to 596.49 Mb (53.1% reduction)\n"
          ],
          "name": "stdout"
        }
      ]
    },
    {
      "cell_type": "code",
      "metadata": {
        "id": "Mgic-f8fPBHo"
      },
      "source": [
        "del df_test"
      ],
      "execution_count": null,
      "outputs": []
    },
    {
      "cell_type": "code",
      "metadata": {
        "id": "-2xuly5nPBkX"
      },
      "source": [
        "df_weather_test=pd.read_csv('weather_test.csv')"
      ],
      "execution_count": null,
      "outputs": []
    },
    {
      "cell_type": "code",
      "metadata": {
        "id": "m0voltUhPCdx",
        "colab": {
          "base_uri": "https://localhost:8080/"
        },
        "outputId": "0b4dead7-5202-4836-aa3e-5e787cf028a7"
      },
      "source": [
        "df_weather_test_red=reduce_mem_usage(df_weather_test,verbose=True)"
      ],
      "execution_count": null,
      "outputs": [
        {
          "output_type": "stream",
          "text": [
            "Mem. usage decreased to  6.08 Mb (68.1% reduction)\n"
          ],
          "name": "stdout"
        }
      ]
    },
    {
      "cell_type": "code",
      "metadata": {
        "id": "IfTHF9TVPC0h"
      },
      "source": [
        "del df_weather_test"
      ],
      "execution_count": null,
      "outputs": []
    },
    {
      "cell_type": "code",
      "metadata": {
        "id": "c0fgJACMPDLG"
      },
      "source": [
        "df_building=pd.read_csv('building_metadata.csv')"
      ],
      "execution_count": null,
      "outputs": []
    },
    {
      "cell_type": "code",
      "metadata": {
        "id": "pcmcJQd4PE-X",
        "colab": {
          "base_uri": "https://localhost:8080/"
        },
        "outputId": "0c7737df-704d-44f0-d0ab-7dcf6a9418a6"
      },
      "source": [
        "df_building_red=reduce_mem_usage(df_building,verbose=True)"
      ],
      "execution_count": null,
      "outputs": [
        {
          "output_type": "stream",
          "text": [
            "Mem. usage decreased to  0.03 Mb (60.3% reduction)\n"
          ],
          "name": "stdout"
        }
      ]
    },
    {
      "cell_type": "code",
      "metadata": {
        "id": "8m5IHLgvPF8D"
      },
      "source": [
        "df_test_build=pd.merge(df_test_red,df_building_red,how='left',on=['building_id'])"
      ],
      "execution_count": null,
      "outputs": []
    },
    {
      "cell_type": "code",
      "metadata": {
        "id": "Q_9t41VnRwq6"
      },
      "source": [
        "df_test_merge=pd.merge(df_test_build,df_weather_test_red,how='left',on=['site_id','timestamp'])"
      ],
      "execution_count": null,
      "outputs": []
    },
    {
      "cell_type": "markdown",
      "metadata": {
        "id": "j8w4Qu3MT2TF"
      },
      "source": [
        "**Passing a single row to the final fun 1 which will return the predictions on the test set**"
      ]
    },
    {
      "cell_type": "code",
      "metadata": {
        "id": "6dc61I9KToCb"
      },
      "source": [
        "df_test_row=df_test_merge.head(1)"
      ],
      "execution_count": null,
      "outputs": []
    },
    {
      "cell_type": "code",
      "metadata": {
        "id": "OwDJ4lXGRxD8"
      },
      "source": [
        "prediction=final_fun_1(df_test_row)#Passing a single row value to the function which will return the prediction"
      ],
      "execution_count": null,
      "outputs": []
    },
    {
      "cell_type": "code",
      "metadata": {
        "colab": {
          "base_uri": "https://localhost:8080/"
        },
        "id": "t_kXGEUsuIL_",
        "outputId": "4a9df3a7-fa30-4643-f737-f1de086a1554"
      },
      "source": [
        "prediction"
      ],
      "execution_count": null,
      "outputs": [
        {
          "output_type": "execute_result",
          "data": {
            "text/plain": [
              "array([154.26641186])"
            ]
          },
          "metadata": {
            "tags": []
          },
          "execution_count": 94
        }
      ]
    },
    {
      "cell_type": "markdown",
      "metadata": {
        "id": "8M79u1hKPI9-"
      },
      "source": [
        "**Constructing my 2nd function which will take train dataframe and corresponding target variable which will return the RMSLE Score(metric-score)**"
      ]
    },
    {
      "cell_type": "code",
      "metadata": {
        "id": "B_enpt1dweyh"
      },
      "source": [
        "def final_fun_2(df,y):\r\n",
        "\r\n",
        "  #FILTERING OUTLIERS\r\n",
        "  \r\n",
        "\r\n",
        "  df.drop(index=df[(df['building_id']<=104) & (df['meter']==0) & (df['timestamp']<'2016-05-21')].index,inplace=True)\r\n",
        "  df.drop(index=df[(df['building_id']==45) & (df['meter']==0) & (df['timestamp']<'2016-06')].index,inplace=True)\r\n",
        "  df.drop(index=df[(df['building_id']==53) & (df['meter']==0)].index,inplace=True)#Removing Anamolous Building\r\n",
        "  df.drop(index=df[(df['building_id']==1099) & (df['meter']==2)].index,inplace=True)#Removing Anamolous Building\r\n",
        "  df.drop(index=df[(df['building_id']==1250) & (df['meter']==2)].index,inplace=True)#Removing Anamolous Building\r\n",
        "  df.drop(index=df[(df['building_id']==1227) & (df['meter']==0)].index,inplace=True)#Removing Anamolous Building\r\n",
        "  df.drop(index=df[(df['building_id']==1314) & (df['meter']==0)].index,inplace=True)#Removing Anamolous Building\r\n",
        "  df.drop(index=df[(df['building_id']==1281) & (df['meter']==0)].index,inplace=True)#Removing Anamolous Building\r\n",
        "  df.drop(index=df[(df['building_id']==279) & (df['meter']==3)].index,inplace=True)#Removing Anamolous Building\r\n",
        "  df.drop(index=df[(df['building_id']==263) & (df['meter']==3)].index,inplace=True)#Removing Anamolous Building\r\n",
        "  df.drop(index=df[(df['building_id']==287) & (df['meter']==3)].index,inplace=True)#Removing Anamolous Building\r\n",
        "  df.drop(index=df[(df['building_id']==1018) & (df['meter']==1)].index,inplace=True)#Removing Anamolous Building\r\n",
        "  df.drop(index=df[(df['building_id']==1022) & (df['meter']==1)].index,inplace=True)#Removing Anamolous Building\r\n",
        "\r\n",
        "\r\n",
        "  df[['year_built','air_temperature','dew_temperature','cloud_coverage','precip_depth_1_hr','sea_level_pressure','wind_direction','wind_speed']]=df[['year_built','air_temperature','dew_temperature','cloud_coverage','precip_depth_1_hr','sea_level_pressure','wind_direction','wind_speed']].astype(np.float32)\r\n",
        "\r\n",
        "  df.drop('floor_count',axis=1,inplace=True)\r\n",
        "  df.reset_index(inplace=True)\r\n",
        "\r\n",
        "  df['day']=df['timestamp'].dt.day\r\n",
        "  df['month']=df['timestamp'].dt.month\r\n",
        "\r\n",
        "\r\n",
        "  #Imputing missing values\r\n",
        "  cc_fill=df.groupby(['site_id','day','month'])['cloud_coverage'].median().reset_index()\r\n",
        "  cc_fill.rename(columns={'cloud_coverage':'cc_filler'},inplace=True)\r\n",
        "  cc_fill['cc_filler'].fillna(method='ffill',inplace=True)\r\n",
        "  df=df.merge(cc_fill,how='left',on=['site_id','day','month'])\r\n",
        "  df['cloud_coverage'].fillna(df['cc_filler'],inplace=True)\r\n",
        "  df.drop(labels=['cc_filler'],axis=1,inplace=True)\r\n",
        "\r\n",
        "\r\n",
        "  wd_fill=df.groupby(['site_id','day','month'])['wind_direction'].median().reset_index()\r\n",
        "  wd_fill.rename(columns={'wind_direction':'wind_direction_filler'},inplace=True)\r\n",
        "  df=df.merge(wd_fill,how='left',on=['site_id','day','month'])\r\n",
        "  df['wind_direction'].fillna(df['wind_direction_filler'],inplace=True)\r\n",
        "  df.drop(labels=['wind_direction_filler'],axis=1,inplace=True)\r\n",
        "\r\n",
        "\r\n",
        "  ws_fill=df.groupby(['site_id','day','month'])['wind_speed'].median().reset_index()\r\n",
        "  ws_fill.rename(columns={'wind_speed':'wind_speed_filler'},inplace=True)\r\n",
        "  df=df.merge(ws_fill,how='left',on=['site_id','day','month'])\r\n",
        "  df['wind_speed'].fillna(df['wind_speed_filler'],inplace=True)\r\n",
        "  df.drop(labels=['wind_speed_filler'],axis=1,inplace=True)\r\n",
        "\r\n",
        "  slp_fill=df.groupby(['site_id','day','month'])['sea_level_pressure'].median().reset_index()\r\n",
        "  slp_fill.rename(columns={'sea_level_pressure':'slp_filler'},inplace=True)\r\n",
        "  slp_fill.fillna(method='ffill',inplace=True)\r\n",
        "  df=df.merge(slp_fill,how='left',on=['site_id','day','month'])\r\n",
        "  df['sea_level_pressure'].fillna(df['slp_filler'],inplace=True)\r\n",
        "  df.drop(labels=['slp_filler'],axis=1,inplace=True)\r\n",
        "\r\n",
        "  pd_fill=df.groupby(['site_id','day','month'])['precip_depth_1_hr'].median().reset_index()\r\n",
        "  pd_fill.rename(columns={'precip_depth_1_hr':'pd_filler'},inplace=True)\r\n",
        "  pd_fill['pd_filler'].fillna(method='ffill',inplace=True)\r\n",
        "  df=df.merge(pd_fill,how='left',on=['site_id','day','month'])\r\n",
        "  df['precip_depth_1_hr'].fillna(df['pd_filler'],inplace=True)\r\n",
        "  df.drop(labels=['pd_filler'],axis=1,inplace=True)\r\n",
        "\r\n",
        "  yb_fill=df.groupby(['site_id','day','month'])['year_built'].median().reset_index()\r\n",
        "  yb_fill.rename(columns={'year_built':'yb_filler'},inplace=True)\r\n",
        "  yb_fill['yb_filler'].fillna(method='ffill',inplace=True)\r\n",
        "  df=df.merge(yb_fill,how='left',on=['site_id','day','month'])\r\n",
        "  df['year_built'].fillna(df['yb_filler'],inplace=True)\r\n",
        "  df.drop(labels=['yb_filler'],axis=1,inplace=True)\r\n",
        "\r\n",
        "\r\n",
        "  df['air_temperature']=df['air_temperature'].interpolate(method='linear')\r\n",
        "  df['dew_temperature']=df['dew_temperature'].interpolate(method='linear')\r\n",
        "\r\n",
        "\r\n",
        "  #Function for reducing the memory usage\r\n",
        "  def reduce_mem_usage(df):\r\n",
        "    numerics = ['int16', 'int32', 'int64', 'float16', 'float32', 'float64']\r\n",
        "    start_mem = df.memory_usage().sum() / 1024**2    \r\n",
        "    for col in df.columns:\r\n",
        "        col_type = df[col].dtypes\r\n",
        "        if col_type in numerics:\r\n",
        "            c_min = df[col].min()\r\n",
        "            c_max = df[col].max()\r\n",
        "            if str(col_type)[:3] == 'int':\r\n",
        "                if c_min > np.iinfo(np.int8).min and c_max < np.iinfo(np.int8).max:\r\n",
        "                    df[col] = df[col].astype(np.int8)\r\n",
        "                elif c_min > np.iinfo(np.int16).min and c_max < np.iinfo(np.int16).max:\r\n",
        "                    df[col] = df[col].astype(np.int16)\r\n",
        "                elif c_min > np.iinfo(np.int32).min and c_max < np.iinfo(np.int32).max:\r\n",
        "                    df[col] = df[col].astype(np.int32)\r\n",
        "                elif c_min > np.iinfo(np.int64).min and c_max < np.iinfo(np.int64).max:\r\n",
        "                    df[col] = df[col].astype(np.int64)  \r\n",
        "            else:\r\n",
        "                if c_min > np.finfo(np.float16).min and c_max < np.finfo(np.float16).max:\r\n",
        "                    df[col] = df[col].astype(np.float16)\r\n",
        "                elif c_min > np.finfo(np.float32).min and c_max < np.finfo(np.float32).max:\r\n",
        "                    df[col] = df[col].astype(np.float32)\r\n",
        "                else:\r\n",
        "                    df[col] = df[col].astype(np.float64)    \r\n",
        "    end_mem = df.memory_usage().sum() / 1024**2\r\n",
        "    #if verbose: print('Mem. usage decreased to {:5.2f} Mb ({:.1f}% reduction)'.format(end_mem, 100 * (start_mem - end_mem) / start_mem))\r\n",
        "    return df\r\n",
        "\r\n",
        "  df_red=reduce_mem_usage(df)\r\n",
        "\r\n",
        "  #Aligning Timestamp\r\n",
        "\r\n",
        "  df_train_site_0=df_red[df_red['site_id']==0]\r\n",
        "  df_train_site_0.reset_index(inplace=True)\r\n",
        "  df_train_site_0['timestamp_aligned']=df_train_site_0['timestamp']-timedelta(hours=5,minutes=0)\r\n",
        "  df_air_temp_timestamp=df_train_site_0[['timestamp_aligned','building_id','meter','air_temperature']].copy()\r\n",
        "  df_air_temp_timestamp.rename(columns={'timestamp_aligned':'timestamp'},inplace=True)\r\n",
        "  df_train_site_0.drop(['air_temperature','timestamp_aligned'],axis=1,inplace=True)\r\n",
        "  df_train_site_0['air_temperature_aligned']=df_air_temp_timestamp[df_air_temp_timestamp['timestamp'].isin(df_train_site_0['timestamp'])].reset_index(drop=True)['air_temperature']\r\n",
        "  df_train_site_0['air_temperature_aligned']=df_train_site_0['air_temperature_aligned'].interpolate()\r\n",
        "  df_train_site_0.rename(columns={'air_temperature_aligned':'air_temperature'},inplace=True)\r\n",
        "  df_train_site_0.drop(['level_0','index'],axis=1,inplace=True)\r\n",
        "\r\n",
        "  df_train_site_1=df_red[df_red['site_id']==1]\r\n",
        "  df_train_site_1.reset_index(inplace=True)\r\n",
        "  df_train_site_1.drop(['index','level_0'],axis=1,inplace=True)\r\n",
        "\r\n",
        "  df_train_site_2=df_red[df_red['site_id']==2]\r\n",
        "  df_train_site_2.reset_index(inplace=True)\r\n",
        "  df_train_site_2['timestamp_aligned']=df_train_site_2['timestamp']-timedelta(hours=7,minutes=0)\r\n",
        "  df_air_temp_timestamp=df_train_site_2[['timestamp_aligned','building_id','meter','air_temperature']].copy()\r\n",
        "  df_air_temp_timestamp.rename(columns={'timestamp_aligned':'timestamp'},inplace=True)\r\n",
        "  df_train_site_2.drop(['air_temperature','timestamp_aligned'],axis=1,inplace=True)\r\n",
        "  df_train_site_2['air_temperature_aligned']=df_air_temp_timestamp[df_air_temp_timestamp['timestamp'].isin(df_train_site_2['timestamp'])].reset_index(drop=True)['air_temperature']\r\n",
        "  df_train_site_2['air_temperature_aligned']=df_train_site_2['air_temperature_aligned'].interpolate()\r\n",
        "  df_train_site_2.rename(columns={'air_temperature_aligned':'air_temperature'},inplace=True)\r\n",
        "  df_train_site_2.drop(['level_0','index'],axis=1,inplace=True)\r\n",
        "\r\n",
        "\r\n",
        "  df_train_site_3=df_red[df_red['site_id']==3]\r\n",
        "  df_train_site_3.reset_index(inplace=True)\r\n",
        "  df_train_site_3['timestamp_aligned']=df_train_site_3['timestamp']-timedelta(hours=5,minutes=0)\r\n",
        "  df_air_temp_timestamp=df_train_site_3[['timestamp_aligned','building_id','meter','air_temperature']].copy()\r\n",
        "  df_air_temp_timestamp.rename(columns={'timestamp_aligned':'timestamp'},inplace=True)\r\n",
        "  df_train_site_3.drop(['air_temperature','timestamp_aligned'],axis=1,inplace=True)\r\n",
        "  df_train_site_3['air_temperature_aligned']=df_air_temp_timestamp[df_air_temp_timestamp['timestamp'].isin(df_train_site_3['timestamp'])].reset_index(drop=True)['air_temperature']\r\n",
        "  df_train_site_3['air_temperature_aligned']=df_train_site_3['air_temperature_aligned'].interpolate()\r\n",
        "  df_train_site_3.rename(columns={'air_temperature_aligned':'air_temperature'},inplace=True)\r\n",
        "  df_train_site_3.drop(['level_0','index'],axis=1,inplace=True)\r\n",
        "\r\n",
        "\r\n",
        "  df_train_site_4=df_red[df_red['site_id']==4]\r\n",
        "  df_train_site_4.reset_index(inplace=True)\r\n",
        "  df_train_site_4['timestamp_aligned']=df_train_site_4['timestamp']-timedelta(hours=8,minutes=0)\r\n",
        "  df_air_temp_timestamp=df_train_site_4[['timestamp_aligned','building_id','meter','air_temperature']].copy()\r\n",
        "  df_air_temp_timestamp.rename(columns={'timestamp_aligned':'timestamp'},inplace=True)\r\n",
        "  df_train_site_4.drop(['air_temperature','timestamp_aligned'],axis=1,inplace=True)\r\n",
        "  df_train_site_4['air_temperature_aligned']=df_air_temp_timestamp[df_air_temp_timestamp['timestamp'].isin(df_train_site_4['timestamp'])].reset_index(drop=True)['air_temperature']\r\n",
        "  df_train_site_4['air_temperature_aligned']=df_train_site_4['air_temperature_aligned'].interpolate()\r\n",
        "  df_train_site_4.rename(columns={'air_temperature_aligned':'air_temperature'},inplace=True)\r\n",
        "  df_train_site_4.drop(['level_0','index'],axis=1,inplace=True)\r\n",
        "\r\n",
        "\r\n",
        "  df_train_site_5=df_red[df_red['site_id']==5]\r\n",
        "  df_train_site_5.reset_index(inplace=True)\r\n",
        "  df_train_site_5.drop(['index','level_0'],axis=1,inplace=True)\r\n",
        "\r\n",
        "\r\n",
        "  df_train_site_6=df_red[df_red['site_id']==6]\r\n",
        "  df_train_site_6.reset_index(inplace=True)\r\n",
        "  df_train_site_6['timestamp_aligned']=df_train_site_6['timestamp']-timedelta(hours=5,minutes=0)\r\n",
        "  df_air_temp_timestamp=df_train_site_6[['timestamp_aligned','building_id','meter','air_temperature']].copy()\r\n",
        "  df_air_temp_timestamp.rename(columns={'timestamp_aligned':'timestamp'},inplace=True)\r\n",
        "  df_train_site_6.drop(['air_temperature','timestamp_aligned'],axis=1,inplace=True)\r\n",
        "  df_train_site_6['air_temperature_aligned']=df_air_temp_timestamp[df_air_temp_timestamp['timestamp'].isin(df_train_site_6['timestamp'])].reset_index(drop=True)['air_temperature']\r\n",
        "  df_train_site_6['air_temperature_aligned']=df_train_site_6['air_temperature_aligned'].interpolate()\r\n",
        "  df_train_site_6.rename(columns={'air_temperature_aligned':'air_temperature'},inplace=True)\r\n",
        "  df_train_site_6.drop(['level_0','index'],axis=1,inplace=True)\r\n",
        "\r\n",
        "\r\n",
        "  df_train_site_7=df_red[df_red['site_id']==7]\r\n",
        "  df_train_site_7.reset_index(inplace=True)\r\n",
        "  df_train_site_7['timestamp_aligned']=df_train_site_7['timestamp']-timedelta(hours=5,minutes=0)\r\n",
        "  df_air_temp_timestamp=df_train_site_7[['timestamp_aligned','building_id','meter','air_temperature']].copy()\r\n",
        "  df_air_temp_timestamp.rename(columns={'timestamp_aligned':'timestamp'},inplace=True)\r\n",
        "  df_train_site_7.drop(['air_temperature','timestamp_aligned'],axis=1,inplace=True)\r\n",
        "  df_train_site_7['air_temperature_aligned']=df_air_temp_timestamp[df_air_temp_timestamp['timestamp'].isin(df_train_site_7['timestamp'])].reset_index(drop=True)['air_temperature']\r\n",
        "  df_train_site_7['air_temperature_aligned']=df_train_site_7['air_temperature_aligned'].interpolate()\r\n",
        "  df_train_site_7.rename(columns={'air_temperature_aligned':'air_temperature'},inplace=True)\r\n",
        "  df_train_site_7.drop(['level_0','index'],axis=1,inplace=True)\r\n",
        "\r\n",
        "\r\n",
        "  df_train_site_8=df_red[df_red['site_id']==8]\r\n",
        "  df_train_site_8.reset_index(inplace=True)\r\n",
        "  df_train_site_8['timestamp_aligned']=df_train_site_8['timestamp']-timedelta(hours=5,minutes=0)\r\n",
        "  df_air_temp_timestamp=df_train_site_8[['timestamp_aligned','building_id','meter','air_temperature']].copy()\r\n",
        "  df_air_temp_timestamp.rename(columns={'timestamp_aligned':'timestamp'},inplace=True)\r\n",
        "  df_train_site_8.drop(['air_temperature','timestamp_aligned'],axis=1,inplace=True)\r\n",
        "  df_train_site_8['air_temperature_aligned']=df_air_temp_timestamp[df_air_temp_timestamp['timestamp'].isin(df_train_site_8['timestamp'])].reset_index(drop=True)['air_temperature']\r\n",
        "  df_train_site_8['air_temperature_aligned']=df_train_site_8['air_temperature_aligned'].interpolate()\r\n",
        "  df_train_site_8.rename(columns={'air_temperature_aligned':'air_temperature'},inplace=True)\r\n",
        "  df_train_site_8.drop(['level_0','index'],axis=1,inplace=True)\r\n",
        "\r\n",
        "\r\n",
        "  df_train_site_9=df_red[df_red['site_id']==9]\r\n",
        "  df_train_site_9.reset_index(inplace=True)\r\n",
        "  df_train_site_9['timestamp_aligned']=df_train_site_9['timestamp']-timedelta(hours=6,minutes=0)\r\n",
        "  df_air_temp_timestamp=df_train_site_9[['timestamp_aligned','building_id','meter','air_temperature']].copy()\r\n",
        "  df_air_temp_timestamp.rename(columns={'timestamp_aligned':'timestamp'},inplace=True)\r\n",
        "  df_train_site_9.drop(['air_temperature','timestamp_aligned'],axis=1,inplace=True)\r\n",
        "  df_train_site_9['air_temperature_aligned']=df_air_temp_timestamp[df_air_temp_timestamp['timestamp'].isin(df_train_site_9['timestamp'])].reset_index(drop=True)['air_temperature']\r\n",
        "  df_train_site_9['air_temperature_aligned']=df_train_site_9['air_temperature_aligned'].interpolate()\r\n",
        "  df_train_site_9.rename(columns={'air_temperature_aligned':'air_temperature'},inplace=True)\r\n",
        "  df_train_site_9.drop(['level_0','index'],axis=1,inplace=True)\r\n",
        "\r\n",
        "\r\n",
        "  df_train_site_10=df_red[df_red['site_id']==10]\r\n",
        "  df_train_site_10.reset_index(inplace=True)\r\n",
        "  df_train_site_10['timestamp_aligned']=df_train_site_10['timestamp']-timedelta(hours=7,minutes=0)\r\n",
        "  df_air_temp_timestamp=df_train_site_10[['timestamp_aligned','building_id','meter','air_temperature']].copy()\r\n",
        "  df_air_temp_timestamp.rename(columns={'timestamp_aligned':'timestamp'},inplace=True)\r\n",
        "  df_train_site_10.drop(['air_temperature','timestamp_aligned'],axis=1,inplace=True)\r\n",
        "  df_train_site_10['air_temperature_aligned']=df_air_temp_timestamp[df_air_temp_timestamp['timestamp'].isin(df_train_site_10['timestamp'])].reset_index(drop=True)['air_temperature']\r\n",
        "  df_train_site_10['air_temperature_aligned']=df_train_site_10['air_temperature_aligned'].interpolate()\r\n",
        "  df_train_site_10.rename(columns={'air_temperature_aligned':'air_temperature'},inplace=True)\r\n",
        "  df_train_site_10.drop(['level_0','index'],axis=1,inplace=True)\r\n",
        "\r\n",
        "\r\n",
        "  df_train_site_11=df_red[df_red['site_id']==11]\r\n",
        "  df_train_site_11.reset_index(inplace=True)\r\n",
        "  df_train_site_11['timestamp_aligned']=df_train_site_11['timestamp']-timedelta(hours=5,minutes=0)\r\n",
        "  df_air_temp_timestamp=df_train_site_11[['timestamp_aligned','building_id','meter','air_temperature']].copy()\r\n",
        "  df_air_temp_timestamp.rename(columns={'timestamp_aligned':'timestamp'},inplace=True)\r\n",
        "  df_train_site_11.drop(['air_temperature','timestamp_aligned'],axis=1,inplace=True)\r\n",
        "  df_train_site_11['air_temperature_aligned']=df_air_temp_timestamp[df_air_temp_timestamp['timestamp'].isin(df_train_site_11['timestamp'])].reset_index(drop=True)['air_temperature']\r\n",
        "  df_train_site_11['air_temperature_aligned']=df_train_site_11['air_temperature_aligned'].interpolate()\r\n",
        "  df_train_site_11.rename(columns={'air_temperature_aligned':'air_temperature'},inplace=True)\r\n",
        "  df_train_site_11.drop(['level_0','index'],axis=1,inplace=True)\r\n",
        "\r\n",
        "\r\n",
        "  df_train_site_12=df_red[df_red['site_id']==12]\r\n",
        "  df_train_site_12.reset_index(inplace=True)\r\n",
        "  df_train_site_12.drop(['index','level_0'],axis=1,inplace=True)\r\n",
        "\r\n",
        "\r\n",
        "  df_train_site_13=df_red[df_red['site_id']==13]\r\n",
        "  df_train_site_13.reset_index(inplace=True)\r\n",
        "  df_train_site_13['timestamp_aligned']=df_train_site_13['timestamp']-timedelta(hours=6,minutes=0)\r\n",
        "  df_air_temp_timestamp=df_train_site_13[['timestamp_aligned','building_id','meter','air_temperature']].copy()\r\n",
        "  df_air_temp_timestamp.rename(columns={'timestamp_aligned':'timestamp'},inplace=True)\r\n",
        "  df_train_site_13.drop(['air_temperature','timestamp_aligned'],axis=1,inplace=True)\r\n",
        "  df_train_site_13['air_temperature_aligned']=df_air_temp_timestamp[df_air_temp_timestamp['timestamp'].isin(df_train_site_13['timestamp'])].reset_index(drop=True)['air_temperature']\r\n",
        "  df_train_site_13['air_temperature_aligned']=df_train_site_13['air_temperature_aligned'].interpolate()\r\n",
        "  df_train_site_13.rename(columns={'air_temperature_aligned':'air_temperature'},inplace=True)\r\n",
        "  df_train_site_13.drop(['level_0','index'],axis=1,inplace=True)\r\n",
        "\r\n",
        "\r\n",
        "  df_train_site_14=df_red[df_red['site_id']==14]\r\n",
        "  df_train_site_14.reset_index(inplace=True)\r\n",
        "  df_train_site_14['timestamp_aligned']=df_train_site_14['timestamp']-timedelta(hours=5,minutes=0)\r\n",
        "  df_air_temp_timestamp=df_train_site_14[['timestamp_aligned','building_id','meter','air_temperature']].copy()\r\n",
        "  df_air_temp_timestamp.rename(columns={'timestamp_aligned':'timestamp'},inplace=True)\r\n",
        "  df_train_site_14.drop(['air_temperature','timestamp_aligned'],axis=1,inplace=True)\r\n",
        "  df_train_site_14['air_temperature_aligned']=df_air_temp_timestamp[df_air_temp_timestamp['timestamp'].isin(df_train_site_14['timestamp'])].reset_index(drop=True)['air_temperature']\r\n",
        "  df_train_site_14['air_temperature_aligned']=df_train_site_14['air_temperature_aligned'].interpolate()\r\n",
        "  df_train_site_14.rename(columns={'air_temperature_aligned':'air_temperature'},inplace=True)\r\n",
        "  df_train_site_14.drop(['level_0','index'],axis=1,inplace=True)\r\n",
        "\r\n",
        "\r\n",
        "  df_train_site_15=df_red[df_red['site_id']==15]\r\n",
        "  df_train_site_15.reset_index(inplace=True)\r\n",
        "  df_train_site_15['timestamp_aligned']=df_train_site_15['timestamp']-timedelta(hours=5,minutes=0)\r\n",
        "  df_air_temp_timestamp=df_train_site_15[['timestamp_aligned','building_id','meter','air_temperature']].copy()\r\n",
        "  df_air_temp_timestamp.rename(columns={'timestamp_aligned':'timestamp'},inplace=True)\r\n",
        "  df_train_site_15.drop(['air_temperature','timestamp_aligned'],axis=1,inplace=True)\r\n",
        "  df_train_site_15['air_temperature_aligned']=df_air_temp_timestamp[df_air_temp_timestamp['timestamp'].isin(df_train_site_15['timestamp'])].reset_index(drop=True)['air_temperature']\r\n",
        "  df_train_site_15['air_temperature_aligned']=df_train_site_15['air_temperature_aligned'].interpolate()\r\n",
        "  df_train_site_15.rename(columns={'air_temperature_aligned':'air_temperature'},inplace=True)\r\n",
        "  df_train_site_15.drop(['level_0','index'],axis=1,inplace=True)\r\n",
        "\r\n",
        "  #Concatenating the aligned dataframe and then sorting it to convert it back to original train set\r\n",
        "  df_final=pd.concat([df_train_site_0,df_train_site_1,df_train_site_2,df_train_site_3,df_train_site_4,\r\n",
        "                                 df_train_site_5,df_train_site_6,df_train_site_7,df_train_site_8,df_train_site_9,\r\n",
        "                                 df_train_site_10,df_train_site_11,df_train_site_12,df_train_site_13,df_train_site_14,\r\n",
        "                                 df_train_site_15],axis=0)\r\n",
        "\r\n",
        "\r\n",
        "\r\n",
        "  df_final=df_final.sort_values(['timestamp','building_id'])\r\n",
        "\r\n",
        "  #Feature Engineering\r\n",
        "\r\n",
        "  saturated_vapor_pressure = 6.11 * (10**(7.5*df_final['air_temperature']/(237.3+df_final['air_temperature'])))\r\n",
        "  actual_vapor_pressure = 6.11 * (10**(7.5*df_final['dew_temperature']/(237.3+df_final['dew_temperature'])))\r\n",
        "  df_final['relative_humidity']=(actual_vapor_pressure/saturated_vapor_pressure)*100\r\n",
        "\r\n",
        "  df_final['is_winter_month']=(df_final['month'].isin([12,1,2])).astype(int)\r\n",
        "  df_final['is_summer_month']=(df_final['month'].isin([6,7,8])).astype(int)\r\n",
        "  df_final['weekday']=df_final['timestamp'].dt.weekday\r\n",
        "\r\n",
        "  holidays = [\"2016-01-01\", \"2016-01-18\", \"2016-02-15\", \"2016-05-30\", \"2016-07-04\",\r\n",
        "            \"2016-09-05\", \"2016-10-10\", \"2016-11-11\", \"2016-11-24\", \"2016-12-25\"]\r\n",
        "\r\n",
        "  holiday_datetime=pd.to_datetime(holidays,yearfirst=True)\r\n",
        "  df_final['is_pub_holiday']=(df_final['timestamp'].dt.date.isin(holiday_datetime.date)).astype(int)\r\n",
        "  df_final['is_weekday']=((~df_final['timestamp'].dt.date.isin(holiday_datetime.date))&(df_final['weekday'].isin([0,1,2,3,4]))).astype(int)\r\n",
        "\r\n",
        "  z_busy_hours=df_final.set_index(['timestamp']).between_time('06:00:00','18:00:00').reset_index()\r\n",
        "  z_busy_hours_timestamp=[i for i in z_busy_hours['timestamp']]\r\n",
        "  df_final['busy_hours']=((~df_final['timestamp'].dt.date.isin(holiday_datetime.date))&(df_final['timestamp'].isin(z_busy_hours_timestamp))).astype(int)\r\n",
        "\r\n",
        "  df_final['hour']=df_final['timestamp'].dt.hour\r\n",
        "\r\n",
        "  df_final.reset_index(inplace=True)\r\n",
        "\r\n",
        "  df_final=reduce_mem_usage(df_final)\r\n",
        "\r\n",
        "\r\n",
        "  del df_train_site_0,df_train_site_1,df_train_site_2,df_train_site_3,df_train_site_4,df_train_site_5,df_train_site_6,df_train_site_7,df_train_site_8,df_train_site_9,df_train_site_10,df_train_site_11,df_train_site_12,df_train_site_13,df_train_site_14,df_train_site_15\r\n",
        "\r\n",
        "  label_encoder=LabelEncoder()\r\n",
        "  df_final['primary_use']=label_encoder.fit_transform(df_final['primary_use'])\r\n",
        "\r\n",
        "  df_final=reduce_mem_usage(df_final)\r\n",
        "\r\n",
        "  #Dropping features which are not important\r\n",
        "\r\n",
        "  df_final.drop(['cloud_coverage','sea_level_pressure','wind_direction','wind_speed',\r\n",
        "                      'is_summer_month','is_pub_holiday','index','timestamp'],axis=1,inplace=True)\r\n",
        "  \r\n",
        "  file_2=open('/content/drive/MyDrive/Project Energy Consumption/lgbm_model_2.txt','rb')\r\n",
        "  lgbm_model_2=pickle.load(file_2)\r\n",
        "\r\n",
        "  #Predicting on the final train dataset and then finding out the metric score(RMSLE Score)\r\n",
        "\r\n",
        "  y_pred=lgbm_model_2.predict(df_final)\r\n",
        "  rmsle_score=np.sqrt(mean_squared_error(y,y_pred))\r\n",
        "  \r\n",
        "\r\n",
        "  return rmsle_score\r\n",
        "\r\n",
        "\r\n",
        "\r\n",
        "\r\n",
        "\r\n",
        "\r\n"
      ],
      "execution_count": null,
      "outputs": []
    },
    {
      "cell_type": "markdown",
      "metadata": {
        "id": "h9n5VmK6RSG_"
      },
      "source": [
        "**From here on we will be merging the train data with building data and weather test data so that it can be passed to the final fun 2 so that it can be preocessed and predictions can be made on it.****"
      ]
    },
    {
      "cell_type": "code",
      "metadata": {
        "colab": {
          "base_uri": "https://localhost:8080/"
        },
        "id": "5JIaZlzUxMws",
        "outputId": "3227f867-bf5c-4d98-a8ae-6cf1ed3bcf39"
      },
      "source": [
        "!unzip /content/train.csv.zip"
      ],
      "execution_count": null,
      "outputs": [
        {
          "output_type": "stream",
          "text": [
            "Archive:  /content/train.csv.zip\n",
            "  inflating: train.csv               \n"
          ],
          "name": "stdout"
        }
      ]
    },
    {
      "cell_type": "code",
      "metadata": {
        "colab": {
          "base_uri": "https://localhost:8080/"
        },
        "id": "qf_ubPU0xaWO",
        "outputId": "214071cf-024f-4e66-c9ba-179bd31f036e"
      },
      "source": [
        "!unzip /content/weather_train.csv.zip"
      ],
      "execution_count": null,
      "outputs": [
        {
          "output_type": "stream",
          "text": [
            "Archive:  /content/weather_train.csv.zip\n",
            "  inflating: weather_train.csv       \n"
          ],
          "name": "stdout"
        }
      ]
    },
    {
      "cell_type": "code",
      "metadata": {
        "id": "4sDIU2j6xeJd"
      },
      "source": [
        "df_train=pd.read_csv('train.csv')"
      ],
      "execution_count": null,
      "outputs": []
    },
    {
      "cell_type": "code",
      "metadata": {
        "colab": {
          "base_uri": "https://localhost:8080/"
        },
        "id": "oODQOVIgxkit",
        "outputId": "ec302001-1d82-4331-8f0b-475308a58011"
      },
      "source": [
        "df_train_red=reduce_mem_usage(df_train,verbose=True)"
      ],
      "execution_count": null,
      "outputs": [
        {
          "output_type": "stream",
          "text": [
            "Mem. usage decreased to 289.19 Mb (53.1% reduction)\n"
          ],
          "name": "stdout"
        }
      ]
    },
    {
      "cell_type": "code",
      "metadata": {
        "id": "EmOLDmnDxn4Q"
      },
      "source": [
        "df_weather_train=pd.read_csv('weather_train.csv')"
      ],
      "execution_count": null,
      "outputs": []
    },
    {
      "cell_type": "code",
      "metadata": {
        "colab": {
          "base_uri": "https://localhost:8080/"
        },
        "id": "ZsJkj50vxq0G",
        "outputId": "5109d366-ff48-40b7-a58f-9432cdf0e024"
      },
      "source": [
        "df_weather_train_red=reduce_mem_usage(df_weather_train,verbose=True)"
      ],
      "execution_count": null,
      "outputs": [
        {
          "output_type": "stream",
          "text": [
            "Mem. usage decreased to  3.07 Mb (68.1% reduction)\n"
          ],
          "name": "stdout"
        }
      ]
    },
    {
      "cell_type": "code",
      "metadata": {
        "id": "zfShXphvxtxP"
      },
      "source": [
        "df_building=pd.read_csv('building_metadata.csv')"
      ],
      "execution_count": null,
      "outputs": []
    },
    {
      "cell_type": "code",
      "metadata": {
        "colab": {
          "base_uri": "https://localhost:8080/"
        },
        "id": "6tFikA5AxwWt",
        "outputId": "892086ab-c8ef-4652-c8c7-71c8b0b6ab88"
      },
      "source": [
        "df_building_red=reduce_mem_usage(df_building,verbose=True)"
      ],
      "execution_count": null,
      "outputs": [
        {
          "output_type": "stream",
          "text": [
            "Mem. usage decreased to  0.03 Mb (60.3% reduction)\n"
          ],
          "name": "stdout"
        }
      ]
    },
    {
      "cell_type": "code",
      "metadata": {
        "id": "TmTqdzFtxwm2"
      },
      "source": [
        "df_train_build=pd.merge(df_train_red,df_building_red,how='left',on=['building_id'])"
      ],
      "execution_count": null,
      "outputs": []
    },
    {
      "cell_type": "code",
      "metadata": {
        "id": "xr9qxlQ3x3F5"
      },
      "source": [
        "df_train_merge=pd.merge(df_train_build,df_weather_train_red,how='left',on=['site_id','timestamp'])"
      ],
      "execution_count": null,
      "outputs": []
    },
    {
      "cell_type": "code",
      "metadata": {
        "id": "Nu-3_msD2uPL"
      },
      "source": [
        "df_train_merge['timestamp']=pd.to_datetime(df_train_merge['timestamp'])"
      ],
      "execution_count": null,
      "outputs": []
    },
    {
      "cell_type": "code",
      "metadata": {
        "id": "00KYVwQcyFDt"
      },
      "source": [
        "y_tr=np.log1p(df_train_merge['meter_reading'])\r\n",
        "df_train_merge.drop('meter_reading',axis=1,inplace=True)"
      ],
      "execution_count": null,
      "outputs": []
    },
    {
      "cell_type": "code",
      "metadata": {
        "id": "5mFkFxpB8MCv"
      },
      "source": [
        "df_train_row=df_train_merge[df_train_merge['meter']==1].head(1)"
      ],
      "execution_count": null,
      "outputs": []
    },
    {
      "cell_type": "code",
      "metadata": {
        "id": "6oUTzYD8NatE"
      },
      "source": [
        "y=np.array(y_tr)"
      ],
      "execution_count": null,
      "outputs": []
    },
    {
      "cell_type": "code",
      "metadata": {
        "id": "vdLLqMjxNi7v"
      },
      "source": [
        "y=y.reshape(-1,1)"
      ],
      "execution_count": null,
      "outputs": []
    },
    {
      "cell_type": "markdown",
      "metadata": {
        "id": "U48jUaVqRcvA"
      },
      "source": [
        "**Passing a single row of train set and target variable so that it can return the metric score(RMSLE)**"
      ]
    },
    {
      "cell_type": "code",
      "metadata": {
        "id": "26GS7adH6nzg"
      },
      "source": [
        "metric_score=final_fun_2(df_train_row,y[172])"
      ],
      "execution_count": null,
      "outputs": []
    },
    {
      "cell_type": "code",
      "metadata": {
        "colab": {
          "base_uri": "https://localhost:8080/"
        },
        "id": "R59PyYdA7OuD",
        "outputId": "cc8318ee-ecf9-47bd-d2f0-9cb83f25b3bd"
      },
      "source": [
        "metric_score"
      ],
      "execution_count": null,
      "outputs": [
        {
          "output_type": "execute_result",
          "data": {
            "text/plain": [
              "1.602411423767173"
            ]
          },
          "metadata": {
            "tags": []
          },
          "execution_count": 252
        }
      ]
    },
    {
      "cell_type": "markdown",
      "metadata": {
        "id": "iexsH1maSBbY"
      },
      "source": [
        "REF-->#https://www.kaggle.com/gemartin/load-data-reduce-memory-usage\r\n",
        "      #https://www.kaggle.com/aitude/ashrae-missing-weather-data-handling"
      ]
    },
    {
      "cell_type": "code",
      "metadata": {
        "id": "6HbAMqfhTlgN"
      },
      "source": [
        "#LINK OF MODEL DEPLOYMENT\r\n",
        "https://www.youtube.com/watch?v=0oQpzSHKwqw\r\n",
        "https://www.youtube.com/watch?v=LiHWJZCGHbE"
      ],
      "execution_count": null,
      "outputs": []
    },
    {
      "cell_type": "code",
      "metadata": {
        "id": "FdpLNv9JZq9v"
      },
      "source": [
        "from IPython.core.display import Image, display"
      ],
      "execution_count": 1,
      "outputs": []
    },
    {
      "cell_type": "code",
      "metadata": {
        "colab": {
          "base_uri": "https://localhost:8080/",
          "height": 547
        },
        "id": "ptyYFuuMbRvb",
        "outputId": "7400354b-bd52-4c5f-f6f5-e01720555bec"
      },
      "source": [
        "#Screenshots of model making multiple predictions\r\n",
        "file='/content/drive/MyDrive/Screenshot (13).png'\r\n",
        "display(Image(filename=file))"
      ],
      "execution_count": 8,
      "outputs": [
        {
          "output_type": "display_data",
          "data": {
            "image/png": "[encoded data removed]",
            "text/plain": [
              "<IPython.core.display.Image object>"
            ]
          },
          "metadata": {
            "tags": []
          }
        }
      ]
    },
    {
      "cell_type": "code",
      "metadata": {
        "id": "mVoD1Ty7bUu6",
        "colab": {
          "base_uri": "https://localhost:8080/",
          "height": 547
        },
        "outputId": "95c77c36-55cc-4f73-f38b-98aa20758014"
      },
      "source": [
        "#Screenshot of model making single prediction\r\n",
        "file='/content/drive/MyDrive/Screenshot (14).png'\r\n",
        "display(Image(filename=file))"
      ],
      "execution_count": 9,
      "outputs": [
        {
          "output_type": "display_data",
          "data": {
            "image/png": "[encoded data removed]",
            "text/plain": [
              "<IPython.core.display.Image object>"
            ]
          },
          "metadata": {
            "tags": []
          }
        }
      ]
    },
    {
      "cell_type": "code",
      "metadata": {
        "id": "nzkRkPHqzhDO"
      },
      "source": [
        ""
      ],
      "execution_count": null,
      "outputs": []
    }
  ]
}